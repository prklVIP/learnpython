{
 "cells": [
  {
   "cell_type": "markdown",
   "metadata": {},
   "source": [
    "# Dictionaries"
   ]
  },
  {
   "cell_type": "markdown",
   "metadata": {},
   "source": [
    "A [dictionary](glossary.ipynb#dictionary) is like a list, but more general. In a list, the indices have to be integers; in a dictionary they can be\n",
    "(almost) any type.\n",
    "\n",
    "You can think of a dictionary as a mapping between a set of indices\n",
    "(which are called [keys](glossary.ipynb#key)) and a set of values. Each key maps to a value. The association of a key and a value is called a *key-value pair* or sometimes an [item](glossary.ipynb#item).\n",
    "\n",
    "As an example, we’ll build a dictionary that maps from English to Spanish words, so the keys and the values are all strings.\n",
    "\n",
    "The function ``dict`` creates a new dictionary with no items. Because ``dict`` is the name of a built-in function, you should avoid using it as a variable name."
   ]
  },
  {
   "cell_type": "code",
   "execution_count": null,
   "metadata": {
    "collapsed": false
   },
   "outputs": [],
   "source": [
    "eng2sp = dict()\n",
    "print eng2sp"
   ]
  },
  {
   "cell_type": "markdown",
   "metadata": {},
   "source": [
    "The squiggly-brackets, `{}`, represent an empty dictionary. To add items to the dictionary, you can use square brackets:"
   ]
  },
  {
   "cell_type": "code",
   "execution_count": null,
   "metadata": {
    "collapsed": true
   },
   "outputs": [],
   "source": [
    "eng2sp['one'] = 'uno'"
   ]
  },
  {
   "cell_type": "markdown",
   "metadata": {},
   "source": [
    "This line creates an item that maps from the key ``’one’`` to the value `'uno'`. If we print the dictionary again, we see a key-value pair with a colon between the key and value:"
   ]
  },
  {
   "cell_type": "code",
   "execution_count": null,
   "metadata": {
    "collapsed": false
   },
   "outputs": [],
   "source": [
    "print eng2sp"
   ]
  },
  {
   "cell_type": "markdown",
   "metadata": {},
   "source": [
    "This output format is also an input format. For example, you can create a new dictionary with three items:"
   ]
  },
  {
   "cell_type": "code",
   "execution_count": null,
   "metadata": {
    "collapsed": true
   },
   "outputs": [],
   "source": [
    "eng2sp = {'one': 'uno', 'two': 'dos', 'three': 'tres'}"
   ]
  },
  {
   "cell_type": "markdown",
   "metadata": {},
   "source": [
    "But if you print ``eng2sp``, you might be surprised:"
   ]
  },
  {
   "cell_type": "code",
   "execution_count": null,
   "metadata": {
    "collapsed": false
   },
   "outputs": [],
   "source": [
    "print eng2sp"
   ]
  },
  {
   "cell_type": "markdown",
   "metadata": {},
   "source": [
    "The order of the key-value pairs is not the same. In fact, if you type the same example on your computer, you might get a different result. In general, the order of items in a dictionary is unpredictable.\n",
    "\n",
    "But that’s not a problem because the elements of a dictionary are never indexed with integer indices. Instead, you use the keys to look up the corresponding values:"
   ]
  },
  {
   "cell_type": "code",
   "execution_count": null,
   "metadata": {
    "collapsed": false
   },
   "outputs": [],
   "source": [
    "print eng2sp['two']"
   ]
  },
  {
   "cell_type": "markdown",
   "metadata": {},
   "source": [
    "The key ``’two’`` always maps to the value `'dos'` so the order of the items doesn’t matter.\n",
    "\n",
    "If the key isn’t in the dictionary, you get an exception:"
   ]
  },
  {
   "cell_type": "code",
   "execution_count": null,
   "metadata": {
    "collapsed": false
   },
   "outputs": [],
   "source": [
    "print eng2sp['four']"
   ]
  },
  {
   "cell_type": "markdown",
   "metadata": {},
   "source": [
    "The ``len`` function works on dictionaries; it returns the number of key-value pairs:"
   ]
  },
  {
   "cell_type": "code",
   "execution_count": null,
   "metadata": {
    "collapsed": false
   },
   "outputs": [],
   "source": [
    "len(eng2sp)"
   ]
  },
  {
   "cell_type": "markdown",
   "metadata": {},
   "source": [
    "The ``in`` operator works on dictionaries; it tells you whether something appears as a *key* in the dictionary (appearing as a value is not good enough)."
   ]
  },
  {
   "cell_type": "code",
   "execution_count": null,
   "metadata": {
    "collapsed": false
   },
   "outputs": [],
   "source": [
    "'one' in eng2sp"
   ]
  },
  {
   "cell_type": "code",
   "execution_count": null,
   "metadata": {
    "collapsed": false
   },
   "outputs": [],
   "source": [
    "'uno' in eng2sp"
   ]
  },
  {
   "cell_type": "markdown",
   "metadata": {},
   "source": [
    "To see whether something appears as a value in a dictionary, you can use the method ``values``, which returns the values as a list, and then use the ``in`` operator:"
   ]
  },
  {
   "cell_type": "code",
   "execution_count": null,
   "metadata": {
    "collapsed": false
   },
   "outputs": [],
   "source": [
    "vals = eng2sp.values()\n",
    "'uno' in vals"
   ]
  },
  {
   "cell_type": "markdown",
   "metadata": {},
   "source": [
    "The ``in`` operator uses different algorithms for lists and dictionaries. For lists, it uses a search algorithm. As the list gets longer, the search time gets longer in direct proportion. For dictionaries, Python uses an algorithm called a [hashtable](glossary.ipynb#hashtable) that has a remarkable property: the ``in`` operator takes about the same amount of time no matter how many items there are in a dictionary. I won’t explain how that’s possible, but you can read more about it at\n",
    "<http://en.wikipedia.org/wiki/Hash_table>.\n",
    "\n",
    "Write a function that reads the words in ``words.txt`` and stores them as keys in a dictionary. It doesn’t matter what the values are. Then you can use the ``in`` operator as a fast way to check whether a string is in the dictionary."
   ]
  },
  {
   "cell_type": "markdown",
   "metadata": {},
   "source": [
    "<a name='histogram'></a>\n",
    "## Dictionary as a set of counters\n",
    "\n",
    "Suppose you are given a string and you want to count how many times each letter appears. There are several ways you could do it:\n",
    "\n",
    "1.  You could create 26 variables, one for each letter of the alphabet.\n",
    "    Then you could traverse the string and, for each character,\n",
    "    increment the corresponding counter, probably using a chained\n",
    "    conditional.\n",
    "\n",
    "2.  You could create a list with 26 elements. Then you could convert\n",
    "    each character to a number (using the built-in function\n",
    "    ``ord``), use the number as an index into the list, and\n",
    "    increment the appropriate counter.\n",
    "\n",
    "3.  You could create a dictionary with characters as keys and counters\n",
    "    as the corresponding values. The first time you see a character, you\n",
    "    would add an item to the dictionary. After that you would increment\n",
    "    the value of an existing item.\n",
    "\n",
    "Each of these options performs the same computation, but each of them implements that computation in a different way.\n",
    "\n",
    "An [implementation](glossary.ipynb#implementation) is a way of performing a computation; some implementations are better than others. For example, an advantage of the dictionary implementation is that we don’t have to know ahead of time which letters appear in the string and we only have to make room for the letters that do appear.\n",
    "\n",
    "Here is what the code might look like:"
   ]
  },
  {
   "cell_type": "code",
   "execution_count": null,
   "metadata": {
    "collapsed": true
   },
   "outputs": [],
   "source": [
    "def histogram(s):\n",
    "    d = dict()\n",
    "    for c in s:\n",
    "        if c not in d:\n",
    "            d[c] = 1\n",
    "        else:\n",
    "            d[c] += 1\n",
    "    return d"
   ]
  },
  {
   "cell_type": "markdown",
   "metadata": {},
   "source": [
    "The name of the function is [histogram](glossary.ipynb#histogram), which is a statistical term for a set of counters (or frequencies).\n",
    "\n",
    "The first line of the function creates an empty dictionary. The ``for`` loop traverses the string. Each time through the loop, if the character ``c`` is not in the dictionary, we create a new item with key ``c`` and the initial value 1 (since we have seen this letter once). If ``c`` is already in the dictionary we increment ``d[c]``.\n",
    "\n",
    "Here’s how it works:"
   ]
  },
  {
   "cell_type": "code",
   "execution_count": null,
   "metadata": {
    "collapsed": false
   },
   "outputs": [],
   "source": [
    "h = histogram('brontosaurus')\n",
    "print h"
   ]
  },
  {
   "cell_type": "markdown",
   "metadata": {},
   "source": [
    "The histogram indicates that the letters ``’a’`` and `'b'` appear once; `'o'` appears twice, and so on.\n",
    "\n",
    "Dictionaries have a method called ``get`` that takes a key and a default value. If the key appears in the dictionary, ``get`` returns the corresponding value; otherwise it returns the default value. For example:"
   ]
  },
  {
   "cell_type": "code",
   "execution_count": null,
   "metadata": {
    "collapsed": false
   },
   "outputs": [],
   "source": [
    "h = histogram('a')\n",
    "print h"
   ]
  },
  {
   "cell_type": "code",
   "execution_count": null,
   "metadata": {
    "collapsed": false
   },
   "outputs": [],
   "source": [
    "h.get('a', 0)"
   ]
  },
  {
   "cell_type": "code",
   "execution_count": null,
   "metadata": {
    "collapsed": false
   },
   "outputs": [],
   "source": [
    "h.get('b', 0)"
   ]
  },
  {
   "cell_type": "markdown",
   "metadata": {},
   "source": [
    "Use ``get`` to write ``histogram`` more concisely. You should be able to eliminate the ``if`` statement."
   ]
  },
  {
   "cell_type": "markdown",
   "metadata": {},
   "source": [
    "## Looping and dictionaries\n",
    "\n",
    "If you use a dictionary in a ``for`` statement, it traverses the keys of the dictionary. For example, `print_hist` prints each key and the corresponding value:"
   ]
  },
  {
   "cell_type": "code",
   "execution_count": null,
   "metadata": {
    "collapsed": true
   },
   "outputs": [],
   "source": [
    "def print_hist(h):\n",
    "    for c in h:\n",
    "        print c, h[c]"
   ]
  },
  {
   "cell_type": "markdown",
   "metadata": {},
   "source": [
    "Here’s what the output looks like:"
   ]
  },
  {
   "cell_type": "code",
   "execution_count": null,
   "metadata": {
    "collapsed": false
   },
   "outputs": [],
   "source": [
    "h = histogram('parrot')\n",
    "print_hist(h)"
   ]
  },
  {
   "cell_type": "markdown",
   "metadata": {},
   "source": [
    "Again, the keys are in no particular order.\n",
    "\n",
    "Dictionaries have a method called ``keys`` that returns the keys of the dictionary, in no particular order, as a list.\n",
    "\n",
    "Modify `print_hist` to print the keys and their values in alphabetical order."
   ]
  },
  {
   "cell_type": "markdown",
   "metadata": {},
   "source": [
    "## Reverse lookup\n",
    "\n",
    "Given a dictionary ``d`` and a key ``k``, it is easy to find the corresponding value ``v = d[k]``. This operation is called a [lookup](glossary.ipynb#lookup).\n",
    "\n",
    "But what if you have ``v`` and you want to find ``k``? You have two problems: first, there might be more than one key that maps to the value ``v``. Depending on the application, you might be able to pick one, or you might have to make a list that contains all of them. Second, there is no simple syntax to do a ``[reverse lookup](glossary.ipynb#reverse_lookup)``; you have to search.\n",
    "\n",
    "Here is a function that takes a value and returns the first key that maps to that value:"
   ]
  },
  {
   "cell_type": "code",
   "execution_count": null,
   "metadata": {
    "collapsed": true
   },
   "outputs": [],
   "source": [
    "def reverse_lookup(d, v):\n",
    "    for k in d:\n",
    "        if d[k] == v:\n",
    "            return k\n",
    "    raise ValueError"
   ]
  },
  {
   "cell_type": "markdown",
   "metadata": {},
   "source": [
    "This function is yet another example of the search pattern, but it uses a feature we haven’t seen before, ``raise``. The ``raise`` statement causes an exception; in this case it causes a ``ValueError``, which generally indicates that there is something wrong with the value of a parameter.\n",
    "\n",
    "If we get to the end of the loop, that means ``v`` doesn’t appear in the dictionary as a value, so we raise an exception.\n",
    "\n",
    "Here is an example of a successful reverse lookup:"
   ]
  },
  {
   "cell_type": "code",
   "execution_count": null,
   "metadata": {
    "collapsed": false
   },
   "outputs": [],
   "source": [
    "h = histogram('parrot')\n",
    "k = reverse_lookup(h, 2)\n",
    "print k"
   ]
  },
  {
   "cell_type": "markdown",
   "metadata": {},
   "source": [
    "And an unsuccessful one:"
   ]
  },
  {
   "cell_type": "code",
   "execution_count": null,
   "metadata": {
    "collapsed": false
   },
   "outputs": [],
   "source": [
    "k = reverse_lookup(h, 3)"
   ]
  },
  {
   "cell_type": "markdown",
   "metadata": {},
   "source": [
    "The result when you raise an exception is the same as when Python raises one: it prints a traceback and an error message.\n",
    "\n",
    "The ``raise`` statement takes a detailed error message as an optional argument. For example:\n",
    "\n",
    "raise ValueError('value does not appear in the dictionary')\n",
    "\n",
    "A reverse lookup is much slower than a forward lookup; if you have to do it often, or if the dictionary gets big, the performance of your program will suffer.\n",
    "\n",
    "Modify `reverse_lookup` so that it builds and returns a list of *all* keys that map to ``v``, or an empty list if there are none."
   ]
  },
  {
   "cell_type": "markdown",
   "metadata": {},
   "source": [
    "## Dictionaries and lists\n",
    "\n",
    "Lists can appear as values in a dictionary. For example, if you were given a dictionary that maps from letters to frequencies, you might want to invert it; that is, create a dictionary that maps from frequencies to letters. Since there might be several letters with the same frequency, each value in the inverted dictionary should be a list of letters.\n",
    "\n",
    "Here is a function that inverts a dictionary:"
   ]
  },
  {
   "cell_type": "code",
   "execution_count": null,
   "metadata": {
    "collapsed": true
   },
   "outputs": [],
   "source": [
    "def invert_dict(d):\n",
    "    inverse = dict()\n",
    "    for key in d:\n",
    "        val = d[key]\n",
    "        if val not in inverse:\n",
    "            inverse[val] = [key]\n",
    "        else:\n",
    "            inverse[val].append(key)\n",
    "    return inverse"
   ]
  },
  {
   "cell_type": "markdown",
   "metadata": {},
   "source": [
    "Each time through the loop, ``key`` gets a key from ``d`` and ``val`` gets the corresponding value. If ``val`` is not in ``inverse``, that means we haven’t seen it before, so we create a new item and initialize it with a [singleton](glossary.ipynb#singleton) (a list that contains a single element). Otherwise we have seen this value before, so we append the corresponding key to the list.\n",
    "\n",
    "Here is an example:"
   ]
  },
  {
   "cell_type": "code",
   "execution_count": null,
   "metadata": {
    "collapsed": false
   },
   "outputs": [],
   "source": [
    "hist = histogram('parrot')\n",
    "print hist"
   ]
  },
  {
   "cell_type": "code",
   "execution_count": null,
   "metadata": {
    "collapsed": false
   },
   "outputs": [],
   "source": [
    "inverse = invert_dict(hist)\n",
    "print inverse"
   ]
  },
  {
   "cell_type": "markdown",
   "metadata": {},
   "source": [
    "<a name='fig.dict1></a>\n",
    "<img src='figs/dict1.png'/>\n",
    "\n",
    "<a href='#fig.dict1>Figure 1</a> is a state diagram showing ``hist`` and ``inverse``. A dictionary is represented as a box with the type ``dict`` above it and the key-value pairs inside. If the values are integers, floats or strings, I usually draw them inside the box, but I usually draw lists outside the box, just to keep the diagram simple.\n",
    "\n",
    "Lists can be values in a dictionary, as this example shows, but they cannot be keys. Here’s what happens if you try:"
   ]
  },
  {
   "cell_type": "code",
   "execution_count": null,
   "metadata": {
    "collapsed": false
   },
   "outputs": [],
   "source": [
    "t = [1, 2, 3]\n",
    "d = dict()\n",
    "d[t] = 'oops'"
   ]
  },
  {
   "cell_type": "markdown",
   "metadata": {},
   "source": [
    "I mentioned earlier that a dictionary is implemented using a hashtable and that means that the keys have to be [hashable](glossary.ipynb#hashable).\n",
    "\n",
    "A [hash](glossary.ipynb#hash_function) is a function that takes a value (of any kind) and returns an integer. Dictionaries use these integers, called hash values, to store and look up key-value pairs.\n",
    "\n",
    "This system works fine if the keys are immutable. But if the keys are mutable, like lists, bad things happen. For example, when you create a key-value pair, Python hashes the key and stores it in the corresponding location. If you modify the key and then hash it again, it would go to a different location. In that case you might have two entries for the same key, or you might not be able to find a key. Either way, the dictionary wouldn’t work correctly.\n",
    "\n",
    "That’s why the keys have to be hashable, and why mutable types like lists aren’t. The simplest way to get around this limitation is to use tuples, which we will see in the next chapter.\n",
    "\n",
    "Since lists and dictionaries are mutable, they can’t be used as keys, but they *can* be used as values.\n",
    "\n",
    "Read the documentation of the dictionary method ``setdefault`` and use it to write a more concise version of `invert_dict`. Solution:\n",
    "<http://thinkpython.com/code/invert_dict.py>."
   ]
  },
  {
   "cell_type": "markdown",
   "metadata": {},
   "source": [
    "## Memos\n",
    "\n",
    "You might guess that the bigger the argument sent to the Fibonacci function, the longer the function takes to run. Furthermore, the run time will increase very quickly.\n",
    "\n",
    "To understand why, consider <a href='#fig.fibonacci'>Figure 2</a>, which shows the [call graph](glossary.ipynb#call_graph) for ``fibonacci`` with ``n=4``:\n",
    "\n",
    "<img src='figs/fibonacci.png'/>\n",
    "\n",
    "A call graph shows a set of function frames, with lines connecting each frame to the frames of the functions it calls. At the top of the graph, ``fibonacci`` with ``n=4`` calls ``fibonacci`` with ``n=3`` and ``n=2``. In turn, ``fibonacci`` with ``n=3`` calls ``fibonacci`` with ``n=2`` and ``n=1``. And so on.\n",
    "\n",
    "Count how many times ``fibonacci(0)`` and ``fibonacci(1)`` are called. This is an inefficient solution to the problem, and it gets worse as the argument gets bigger.\n",
    "\n",
    "One solution is to keep track of values that have already been computed by storing them in a dictionary. A previously computed value that is stored for later use is called a [memo](glossary.ipynb#memo). Here is a\n",
    "“memoized” version of ``fibonacci``:"
   ]
  },
  {
   "cell_type": "code",
   "execution_count": null,
   "metadata": {
    "collapsed": true
   },
   "outputs": [],
   "source": [
    "known = {0:0, 1:1}\n",
    "def fibonacci(n):\n",
    "    if n in known:\n",
    "        return known[n]\n",
    "\n",
    "    res = fibonacci(n-1) + fibonacci(n-2)\n",
    "    known[n] = res\n",
    "    return res"
   ]
  },
  {
   "cell_type": "markdown",
   "metadata": {},
   "source": [
    "``known`` is a dictionary that keeps track of the Fibonacci numbers we already know. It starts with two items: 0 maps to 0 and 1 maps to 1.\n",
    "\n",
    "Whenever ``fibonacci`` is called, it checks ``known``. If the result is already there, it can return immediately. Otherwise it has to compute the new value, add it to the dictionary, and return it.\n",
    "\n",
    "Run this version of ``fibonacci`` and the original with a range of parameters and compare their run times."
   ]
  },
  {
   "cell_type": "markdown",
   "metadata": {},
   "source": [
    "## Global variables\n",
    "\n",
    "In the previous example, ``known`` is created outside the function, so it belongs to the special frame called `__main__`. Variables in `__main__` are sometimes called [global](glossary.ipynb#global_variable) because they can be accessed from any function. Unlike local variables, which disappear when their function ends, global variables persist from one function call to the next.\n",
    "\n",
    "It is common to use global variables for [flags](glossary.ipynb#flag); that is, boolean variables that indicate (“flag”) whether a condition is true. For example, some programs use a flag named ``verbose`` to control the level of detail in the output:"
   ]
  },
  {
   "cell_type": "code",
   "execution_count": null,
   "metadata": {
    "collapsed": true
   },
   "outputs": [],
   "source": [
    "verbose = True\n",
    "def example1():\n",
    "    if verbose:\n",
    "        print 'Running example1'"
   ]
  },
  {
   "cell_type": "markdown",
   "metadata": {},
   "source": [
    "If you try to reassign a global variable, you might be surprised. The following example is supposed to keep track of whether the function has been called:"
   ]
  },
  {
   "cell_type": "code",
   "execution_count": null,
   "metadata": {
    "collapsed": true
   },
   "outputs": [],
   "source": [
    "been_called = False\n",
    "def example2():\n",
    "    been_called = True         # WRONG"
   ]
  },
  {
   "cell_type": "markdown",
   "metadata": {},
   "source": [
    "But if you run it you will see that the value of `been_called` doesn’t change. The problem is that ``example2`` creates a new local variable named `been_called`. The local variable goes away when the function ends, and has no effect on the global variable.\n",
    "\n",
    "To reassign a global variable inside a function you have to [declare](glossary.ipynb#delcaration) the global variable before you use it:"
   ]
  },
  {
   "cell_type": "code",
   "execution_count": null,
   "metadata": {
    "collapsed": true
   },
   "outputs": [],
   "source": [
    "been_called = False\n",
    "def example2():\n",
    "    global been_called\n",
    "    been_called = True"
   ]
  },
  {
   "cell_type": "markdown",
   "metadata": {},
   "source": [
    "The ``global`` statement tells the interpreter something like,\n",
    "“In this function, when I say `been_called`, I mean the global variable; don’t create a local one.”\n",
    "\n",
    "Here’s an example that tries to update a global variable:"
   ]
  },
  {
   "cell_type": "code",
   "execution_count": null,
   "metadata": {
    "collapsed": true
   },
   "outputs": [],
   "source": [
    "count = 0\n",
    "def example3():\n",
    "    count = count + 1          # WRONG"
   ]
  },
  {
   "cell_type": "markdown",
   "metadata": {},
   "source": [
    "If you run it you get:"
   ]
  },
  {
   "cell_type": "code",
   "execution_count": null,
   "metadata": {
    "collapsed": false
   },
   "outputs": [],
   "source": [
    "example3()"
   ]
  },
  {
   "cell_type": "markdown",
   "metadata": {},
   "source": [
    "Python assumes that ``count`` is local, which means that you are reading it before writing it. The solution, again, is to declare ``count`` global."
   ]
  },
  {
   "cell_type": "code",
   "execution_count": null,
   "metadata": {
    "collapsed": true
   },
   "outputs": [],
   "source": [
    "def example3():\n",
    "    global count\n",
    "    count += 1"
   ]
  },
  {
   "cell_type": "markdown",
   "metadata": {},
   "source": [
    "If the global value is mutable, you can modify it without declaring it:"
   ]
  },
  {
   "cell_type": "code",
   "execution_count": null,
   "metadata": {
    "collapsed": true
   },
   "outputs": [],
   "source": [
    "known = {0:0, 1:1}\n",
    "def example4():\n",
    "    known[2] = 1"
   ]
  },
  {
   "cell_type": "markdown",
   "metadata": {},
   "source": [
    "So you can add, remove and replace elements of a global list or dictionary, but if you want to reassign the variable, you have to declare it:"
   ]
  },
  {
   "cell_type": "code",
   "execution_count": null,
   "metadata": {
    "collapsed": true
   },
   "outputs": [],
   "source": [
    "def example5():\n",
    "    global known\n",
    "    known = dict()"
   ]
  },
  {
   "cell_type": "markdown",
   "metadata": {},
   "source": [
    "## Long integers\n",
    "\n",
    "If you compute ``fibonacci(50)``, you get:"
   ]
  },
  {
   "cell_type": "code",
   "execution_count": null,
   "metadata": {
    "collapsed": false
   },
   "outputs": [],
   "source": [
    "fibonacci(50)"
   ]
  },
  {
   "cell_type": "markdown",
   "metadata": {},
   "source": [
    "The ``L`` at the end indicates that the result is a long integer, or type ``long``. In Python 3, ``long`` is gone; all integers, even really big ones, are type ``int``.\n",
    "\n",
    "Values with type ``int`` have a limited range; long integers can be arbitrarily big, but as they get bigger they consume more space and time.\n",
    "\n",
    "The mathematical operators work on long integers, and the functions in the ``math`` module, too, so in general any code that works with ``int`` will also work with ``long``.\n",
    "\n",
    "Any time the result of a computation is too big to be represented with an integer, Python converts the result as a long integer:"
   ]
  },
  {
   "cell_type": "code",
   "execution_count": null,
   "metadata": {
    "collapsed": false
   },
   "outputs": [],
   "source": [
    "1000 * 1000"
   ]
  },
  {
   "cell_type": "code",
   "execution_count": null,
   "metadata": {
    "collapsed": false
   },
   "outputs": [],
   "source": [
    "100000 * 100000"
   ]
  },
  {
   "cell_type": "markdown",
   "metadata": {},
   "source": [
    "In the first case the result has type ``int``; in the second case it is ``long``.\n",
    "\n",
    "Exponentiation of large integers is the basis of common algorithms for public-key encryption. Read the Wikipedia page on the RSA algorithm\n",
    "(<http://en.wikipedia.org/wiki/RSA_(algorithm)>) and write functions to encode and decode messages."
   ]
  },
  {
   "cell_type": "markdown",
   "metadata": {},
   "source": [
    "## Debugging\n",
    "\n",
    "As you work with bigger datasets it can become unwieldy to debug by printing and checking data by hand. Here are some suggestions for debugging large datasets:\n",
    "\n",
    "- **Scale down the input:**\n",
    "\n",
    "    If possible, reduce the size of the dataset. For example if the\n",
    "    program reads a text file, start with just the first 10 lines, or\n",
    "    with the smallest example you can find. You can either edit the\n",
    "    files themselves, or (better) modify the program so it reads only\n",
    "    the first ``n`` lines.\n",
    "\n",
    "    If there is an error, you can reduce ``n`` to the smallest\n",
    "    value that manifests the error, and then increase it gradually as\n",
    "    you find and correct errors.\n",
    "\n",
    "- **Check summaries and types:**\n",
    "\n",
    "    Instead of printing and checking the entire dataset, consider\n",
    "    printing summaries of the data: for example, the number of items in\n",
    "    a dictionary or the total of a list of numbers.\n",
    "\n",
    "    A common cause of runtime errors is a value that is not the right\n",
    "    type. For debugging this kind of error, it is often enough to print\n",
    "    the type of a value.\n",
    "\n",
    "- **Write self-checks:**\n",
    "\n",
    "    Sometimes you can write code to check for errors automatically. For\n",
    "    example, if you are computing the average of a list of numbers, you\n",
    "    could check that the result is not greater than the largest element\n",
    "    in the list or less than the smallest. This is called a “sanity\n",
    "    check” because it detects results that are “insane.”\n",
    "\n",
    "    Another kind of check compares the results of two different\n",
    "    computations to see if they are consistent. This is called a\n",
    "    “consistency check.”\n",
    "\n",
    "- **Pretty print the output:**\n",
    "\n",
    "    Formatting debugging output can make it easier to spot an error.\n",
    "\n",
    "Again, time you spend building scaffolding can reduce the time you spend debugging."
   ]
  }
 ],
 "metadata": {
  "kernelspec": {
   "display_name": "Python 2",
   "language": "python",
   "name": "python2"
  },
  "language_info": {
   "codemirror_mode": {
    "name": "ipython",
    "version": 2
   },
   "file_extension": ".py",
   "mimetype": "text/x-python",
   "name": "python",
   "nbconvert_exporter": "python",
   "pygments_lexer": "ipython2",
   "version": "2.7.10"
  }
 },
 "nbformat": 4,
 "nbformat_minor": 0
}
