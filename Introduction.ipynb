{
 "cells": [
  {
   "cell_type": "markdown",
   "metadata": {},
   "source": [
    "# Introduction"
   ]
  },
  {
   "cell_type": "markdown",
   "metadata": {},
   "source": [
    "The notebooks contained herein are a port of Professor Allen B. Downey's [Think Python: How to Think Like a Computer Scientist](http://www.thinkpython.com) to the IPython Notebook format.  All examples were converted from static text to computational cells.  Where appropriate, I expanded and/or reduced scope of chapters/sections/examples to be more applicable to the field of computational mechanics.\n",
    "\n",
    "Permission is granted to copy, distribute, and/or modify this document under the terms of the [Creative Commons Attribution-NonCommercial 3.0 Unported License](http://creativecommons.org/licenses/by-nc/3.0)."
   ]
  },
  {
   "cell_type": "markdown",
   "metadata": {},
   "source": [
    "# Contents"
   ]
  },
  {
   "cell_type": "markdown",
   "metadata": {},
   "source": [
    "1. [Introduction to the IPython Notebook](IPython Notebook.ipynb)\n",
    "2. [The Way of the Program](The Way of the Program.ipynb)\n",
    "3. [Variables, Expressions, and Statements](Variables Expressions and Statements.ipynb)\n",
    "4. [Introduction to Functions](Introduction to Functions.ipynb)\n",
    "5. [Conditionals and Recursion](Conditionals and Recursion.ipynb)\n",
    "6. [Fruitful Functions](Fruitful Functions.ipynb)\n",
    "7. [Iteration](Iteration.ipynb)\n",
    "8. [Strings](Strings.ipynb)\n",
    "9. [Lists](Lists.ipynb)\n",
    "10. [Dictionaries](Dictionaries.ipynb)\n",
    "11. [Tuples](Tuples.ipynb)\n",
    "12. [Files](Files.ipynb)\n",
    "13. [Classes and Objects](Classes and Objects.ipynb)\n",
    "14. [Classes and Functions](Classes and Functions.ipynb)\n",
    "15. [Classes and Methods](Classes and Methods.ipynb)\n",
    "16. [Inheritance](Inheritance.ipynb)"
   ]
  },
  {
   "cell_type": "code",
   "execution_count": null,
   "metadata": {
    "collapsed": true
   },
   "outputs": [],
   "source": []
  }
 ],
 "metadata": {
  "kernelspec": {
   "display_name": "Python 2",
   "language": "python",
   "name": "python2"
  },
  "language_info": {
   "codemirror_mode": {
    "name": "ipython",
    "version": 2
   },
   "file_extension": ".py",
   "mimetype": "text/x-python",
   "name": "python",
   "nbconvert_exporter": "python",
   "pygments_lexer": "ipython2",
   "version": "2.7.10"
  }
 },
 "nbformat": 4,
 "nbformat_minor": 0
}
