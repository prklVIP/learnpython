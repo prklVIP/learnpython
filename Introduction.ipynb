{
 "cells": [
  {
   "cell_type": "markdown",
   "metadata": {},
   "source": [
    "# Introduction"
   ]
  },
  {
   "cell_type": "markdown",
   "metadata": {},
   "source": [
    "I was first introduced to the Python programming language as a graduate student by my advisor ([Professor Rebecca Brannon](https://faculty.utah.edu/u0551466-REBECCA_M_BRANNON/research/index.hml)).  Her introduction consisted of telling me that she thought that Python might be a viable tool for research in computational mechanics, though she herself had not used it.  I took the suggestion to heart and Python quickly replaced many tools that I had been using up to that point: Excel, matlab, Mathematica, Maple, bash, etc.  It also replaced, to a certain extent, languages such as C/C++/Fortran - I would write and test algorithms in Python and port them to these other languages when I was satisfied (and only if I had reason to port them).\n",
    "\n",
    "Since graduating, I've continued to use Python in my roles in academia, research, and industry.  In that time, I've interacted with many colleagues and students who have expressed interest in learning and using Python in their own workflows.  However, the seemingly high bar of learning a new programming language has overshadowed the perceived benefits.  This collection of [IPython Notebooks](http://ipython.org/notebook.html) is my attempt to put together in one place the materials that I find most useful.\n",
    "\n",
    "Like most good engineers (whether I am good is open for debate), I did not start this project from scratch.  Many of the notebooks started as direct ports of Professor Allen B. Downey's [Think Python: How to Think Like a Computer Scientist](http://www.thinkpython.com) to the IPython Notebook format.  The examples were converted from static text to computational cells.  Where appropriate, I expanded and/or reduced scope of chapters/sections/examples to be more applicable to the field of computational mechanics.  Examples and exercises focused on graphics and graphical interfaces were removed and/or replaced.  New chapters covering arrays and data visualization were also included."
   ]
  },
  {
   "cell_type": "markdown",
   "metadata": {},
   "source": [
    "## A note about Python distributions\n",
    "\n",
    "Most major operating systems come with Python pre-packaged.  However, the pre-packaged versions are not ready for use in scientific computing and additional packages must be installed.  The installation process and dependency tracking of each pacakage has historically been very tedious and prone to errors.  Rather than open that can of worms, it is best to download and install either the [Anaconda](http://continuum.io) or [Enthough Canopy](http://enthought.com) python distributions.  Each are free, are available on most major operating systems, and come pre-packaged with all of the tools needed to start exploring the computational sciences."
   ]
  },
  {
   "cell_type": "markdown",
   "metadata": {},
   "source": [
    "# License\n",
    "\n",
    "Permission is granted to copy, distribute, and/or modify this document under the terms of the [Creative Commons Attribution-NonCommercial 3.0 Unported License](http://creativecommons.org/licenses/by-nc/3.0).\n",
    "\n",
    "Tim Fuller, PhD"
   ]
  },
  {
   "cell_type": "markdown",
   "metadata": {},
   "source": [
    "# Contents"
   ]
  },
  {
   "cell_type": "markdown",
   "metadata": {},
   "source": [
    "1. [Introduction to the IPython Notebook](IPython Notebook.ipynb)\n",
    "2. [The Way of the Program](The Way of the Program.ipynb)\n",
    "3. [Variables, Expressions, and Statements](Variables Expressions and Statements.ipynb)\n",
    "4. [Introduction to Functions](Introduction to Functions.ipynb)\n",
    "5. [Conditionals and Recursion](Conditionals and Recursion.ipynb)\n",
    "6. [Fruitful Functions](Fruitful Functions.ipynb)\n",
    "7. [Iteration](Iteration.ipynb)\n",
    "8. [Strings](Strings.ipynb)\n",
    "9. [Lists](Lists.ipynb)\n",
    "10. [Dictionaries](Dictionaries.ipynb)\n",
    "11. [Tuples](Tuples.ipynb)\n",
    "12. [Files](Files.ipynb)\n",
    "13. [Classes and Objects](Classes and Objects.ipynb)\n",
    "14. [Classes and Functions](Classes and Functions.ipynb)\n",
    "15. [Classes and Methods](Classes and Methods.ipynb)\n",
    "16. [Inheritance](Inheritance.ipynb)"
   ]
  },
  {
   "cell_type": "code",
   "execution_count": null,
   "metadata": {
    "collapsed": true
   },
   "outputs": [],
   "source": []
  }
 ],
 "metadata": {
  "kernelspec": {
   "display_name": "Python 2",
   "language": "python",
   "name": "python2"
  },
  "language_info": {
   "codemirror_mode": {
    "name": "ipython",
    "version": 2
   },
   "file_extension": ".py",
   "mimetype": "text/x-python",
   "name": "python",
   "nbconvert_exporter": "python",
   "pygments_lexer": "ipython2",
   "version": "2.7.10"
  }
 },
 "nbformat": 4,
 "nbformat_minor": 0
}
