{
 "cells": [
  {
   "cell_type": "markdown",
   "metadata": {},
   "source": [
    "# Fruitful Functions"
   ]
  },
  {
   "cell_type": "markdown",
   "metadata": {},
   "source": [
    "## Return values\n",
    "\n",
    "Some of the built-in functions we have used, such as the math functions, produce results. Calling the function generates a value, which we usually assign to a variable or use as part of an expression."
   ]
  },
  {
   "cell_type": "code",
   "execution_count": null,
   "metadata": {
    "collapsed": false
   },
   "outputs": [],
   "source": [
    "import math\n",
    "e = math.exp(1.0)\n",
    "radius = 4\n",
    "radians = math.pi / 2\n",
    "height = radius * math.sin(radians)\n",
    "e, height"
   ]
  },
  {
   "cell_type": "markdown",
   "metadata": {},
   "source": [
    "All of the functions we have written so far are void; they print something, but their return value is ``None``.\n",
    "\n",
    "In this chapter, we are (finally) going to write fruitful functions. The first example is ``area``, which returns the area of a circle with the given radius:"
   ]
  },
  {
   "cell_type": "code",
   "execution_count": null,
   "metadata": {
    "collapsed": true
   },
   "outputs": [],
   "source": [
    "def area(radius):\n",
    "    temp = math.pi * radius**2\n",
    "    return temp"
   ]
  },
  {
   "cell_type": "markdown",
   "metadata": {},
   "source": [
    "We have seen the ``return`` statement before, but in a fruitful function the ``return`` statement includes an expression. This statement means: “Return immediately from this function and use the following expression as a return value.” The expression can be arbitrarily complicated, so we could have written this function more concisely:"
   ]
  },
  {
   "cell_type": "code",
   "execution_count": null,
   "metadata": {
    "collapsed": true
   },
   "outputs": [],
   "source": [
    "def area(radius):\n",
    "    return math.pi * radius**2"
   ]
  },
  {
   "cell_type": "markdown",
   "metadata": {},
   "source": [
    "On the other hand, **temporary variables** like ``temp`` often make debugging easier.\n",
    "\n",
    "Sometimes it is useful to have multiple return statements, one in each branch of a conditional:"
   ]
  },
  {
   "cell_type": "code",
   "execution_count": null,
   "metadata": {
    "collapsed": true
   },
   "outputs": [],
   "source": [
    "def absolute_value(x):\n",
    "    if x < 0:\n",
    "        return -x\n",
    "    else:\n",
    "        return x"
   ]
  },
  {
   "cell_type": "markdown",
   "metadata": {},
   "source": [
    "Since these ``return`` statements are in an alternative conditional, only one will be executed.\n",
    "\n",
    "As soon as a return statement executes, the function terminates without executing any subsequent statements. Code that appears after a\n",
    "``return`` statement, or any other place the flow of execution can never reach, is called **dead code**.\n",
    "\n",
    "In a fruitful function, it is a good idea to ensure that every possible path through the program hits a ``return`` statement. For example:"
   ]
  },
  {
   "cell_type": "code",
   "execution_count": null,
   "metadata": {
    "collapsed": true
   },
   "outputs": [],
   "source": [
    "def absolute_value(x):\n",
    "    if x < 0:\n",
    "        return -x\n",
    "    if x > 0:\n",
    "        return x"
   ]
  },
  {
   "cell_type": "markdown",
   "metadata": {},
   "source": [
    "This function is incorrect because if ``x`` happens to be 0, neither condition is true, and the function ends without hitting a ``return`` statement. If the flow of execution gets to the end of a function, the return value is ``None``, which is not the absolute value of 0."
   ]
  },
  {
   "cell_type": "code",
   "execution_count": null,
   "metadata": {
    "collapsed": false
   },
   "outputs": [],
   "source": [
    "print absolute_value(0)"
   ]
  },
  {
   "cell_type": "markdown",
   "metadata": {},
   "source": [
    "By the way, Python provides a built-in function called ``abs`` that computes absolute values."
   ]
  },
  {
   "cell_type": "markdown",
   "metadata": {},
   "source": [
    "<div style=\"background-color: #FFF8C6; margin-left: 20px; margin-right: 20px; padding-bottom: 8px; padding-left: 8px; padding-right: 8px; padding-top: 8px;\">\n",
    "Write a ``compare`` function that returns ``1`` if ``x > y``, ``0`` if ``x == y``, and ``-1`` if ``x < y``.\n",
    "</div>"
   ]
  },
  {
   "cell_type": "markdown",
   "metadata": {},
   "source": [
    "## Incremental development\n",
    "\n",
    "As you write larger functions, you might find yourself spending more time debugging.\n",
    "\n",
    "To deal with increasingly complex programs, you might want to try a process called **incremental development**. The goal of incremental development is to avoid long debugging sessions by adding and testing only a small amount of code at a time.\n",
    "\n",
    "As an example, suppose you want to find the distance between two points, given by the coordinates $(x_1, y_1)$ and $(x_2, y_2)$. By the Pythagorean theorem, the distance is:\n",
    "\n",
    "$$\\mathrm{distance} = \\sqrt{(x_2 - x_1)^2 + (y_2 - y_1)^2}$$\n",
    "\n",
    "The first step is to consider what a ``distance`` function should look like in Python. In other words, what are the inputs\n",
    "(parameters) and what is the output (return value)?\n",
    "\n",
    "In this case, the inputs are two points, which you can represent using four numbers. The return value is the distance, which is a floating-point value.\n",
    "\n",
    "Already you can write an outline of the function:"
   ]
  },
  {
   "cell_type": "code",
   "execution_count": null,
   "metadata": {
    "collapsed": true
   },
   "outputs": [],
   "source": [
    "def distance(x1, y1, x2, y2):\n",
    "    return 0.0"
   ]
  },
  {
   "cell_type": "markdown",
   "metadata": {},
   "source": [
    "Obviously, this version doesn’t compute distances; it always returns zero. But it is syntactically correct, and it runs, which means that you can test it before you make it more complicated.\n",
    "\n",
    "To test the new function, call it with sample arguments:"
   ]
  },
  {
   "cell_type": "code",
   "execution_count": null,
   "metadata": {
    "collapsed": false
   },
   "outputs": [],
   "source": [
    "distance(1, 2, 4, 6)"
   ]
  },
  {
   "cell_type": "markdown",
   "metadata": {},
   "source": [
    "I chose these values so that the horizontal distance is 3 and the vertical distance is 4; that way, the result is 5 (the hypotenuse of a 3-4-5 triangle). When testing a function, it is useful to know the right answer.\n",
    "\n",
    "At this point we have confirmed that the function is syntactically correct, and we can start adding code to the body. A reasonable next step is to find the differences $x_2 - x_1$ and $y_2 - y_1$. The next version stores those values in temporary variables and prints them."
   ]
  },
  {
   "cell_type": "code",
   "execution_count": null,
   "metadata": {
    "collapsed": false
   },
   "outputs": [],
   "source": [
    "def distance(x1, y1, x2, y2):\n",
    "    dx = x2 - x1\n",
    "    dy = y2 - y1\n",
    "    print 'dx is', dx\n",
    "    print 'dy is', dy\n",
    "    return 0.0\n",
    "distance(1, 2, 4, 6)"
   ]
  },
  {
   "cell_type": "markdown",
   "metadata": {},
   "source": [
    "If the function is working, it should display `'dx is 3'` and ``’dy is 4’``. If so, we know that the function is getting the right arguments and performing the first computation correctly. If not, there are only a few lines to check.\n",
    "\n",
    "Next we compute the sum of squares of ``dx`` and ``dy``:"
   ]
  },
  {
   "cell_type": "code",
   "execution_count": null,
   "metadata": {
    "collapsed": false
   },
   "outputs": [],
   "source": [
    "def distance(x1, y1, x2, y2):\n",
    "    dx = x2 - x1\n",
    "    dy = y2 - y1\n",
    "    dsquared = dx**2 + dy**2\n",
    "    print 'dsquared is: ', dsquared\n",
    "    return 0.0\n",
    "distance(1, 2, 4, 6)"
   ]
  },
  {
   "cell_type": "markdown",
   "metadata": {},
   "source": [
    "Again, you would run the program at this stage and check the output (which should be 25). Finally, you can use ``math.sqrt`` to compute and return the result:"
   ]
  },
  {
   "cell_type": "code",
   "execution_count": null,
   "metadata": {
    "collapsed": false
   },
   "outputs": [],
   "source": [
    "def distance(x1, y1, x2, y2):\n",
    "    dx = x2 - x1\n",
    "    dy = y2 - y1\n",
    "    dsquared = dx**2 + dy**2\n",
    "    result = math.sqrt(dsquared)\n",
    "    return result\n",
    "distance(1, 2, 4, 6)"
   ]
  },
  {
   "cell_type": "markdown",
   "metadata": {},
   "source": [
    "If that works correctly, you are done. Otherwise, you might want to print the value of ``result`` before the return statement.\n",
    "\n",
    "The final version of the function doesn’t display anything when it runs; it only returns a value. The ``print`` statements we wrote are useful for debugging, but once you get the function working, you should remove them. Code like that is called **scaffolding** because it is helpful for building the program but is not part of the final product.\n",
    "\n",
    "When you start out, you should add only a line or two of code at a time. As you gain more experience, you might find yourself writing and debugging bigger chunks. Either way, incremental development can save you a lot of debugging time.\n",
    "\n",
    "The key aspects of the process are:\n",
    "\n",
    "1.  Start with a working program and make small incremental changes. At\n",
    "    any point, if there is an error, you should have a good idea where\n",
    "    it is.\n",
    "\n",
    "2.  Use temporary variables to hold intermediate values so you can\n",
    "    display and check them.\n",
    "\n",
    "3.  Once the program is working, you might want to remove some of the\n",
    "    scaffolding or consolidate multiple statements into compound\n",
    "    expressions, but only if it does not make the program difficult to\n",
    "    read.\n",
    "\n",
    "Use incremental development to write a function called\n",
    "``hypotenuse`` that returns the length of the hypotenuse of a right triangle given the lengths of the two legs as arguments. Record each stage of the development process as you go."
   ]
  },
  {
   "cell_type": "markdown",
   "metadata": {},
   "source": [
    "## Composition\n",
    "\n",
    "As you should expect by now, you can call one function from within another. This ability is called **composition**.\n",
    "\n",
    "As an example, we’ll write a function that takes two points, the center of the circle and a point on the perimeter, and computes the area of the circle.\n",
    "\n",
    "Assume that the center point is stored in the variables ``xc`` and ``yc``, and the perimeter point is in ``xp`` and\n",
    "``yp``. The first step is to find the radius of the circle, which is the distance between the two points. We just wrote a function, ``distance``, that does that:"
   ]
  },
  {
   "cell_type": "code",
   "execution_count": null,
   "metadata": {
    "collapsed": true
   },
   "outputs": [],
   "source": [
    "xc = 1\n",
    "yc = 2\n",
    "xp = 4\n",
    "yp = 6\n",
    "radius = distance(xc, yc, xp, yp)"
   ]
  },
  {
   "cell_type": "markdown",
   "metadata": {},
   "source": [
    "The next step is to find the area of a circle with that radius; we just wrote that, too:"
   ]
  },
  {
   "cell_type": "code",
   "execution_count": null,
   "metadata": {
    "collapsed": false
   },
   "outputs": [],
   "source": [
    "result = area(radius)\n",
    "result"
   ]
  },
  {
   "cell_type": "markdown",
   "metadata": {},
   "source": [
    "Encapsulating these steps in a function, we get:"
   ]
  },
  {
   "cell_type": "code",
   "execution_count": null,
   "metadata": {
    "collapsed": false
   },
   "outputs": [],
   "source": [
    "def circle_area(xc, yc, xp, yp):\n",
    "    radius = distance(xc, yc, xp, yp)\n",
    "    result = area(radius)\n",
    "    return result\n",
    "circle_area(xc, yc, xp, yp)"
   ]
  },
  {
   "cell_type": "markdown",
   "metadata": {},
   "source": [
    "The temporary variables ``radius`` and ``result`` are useful for development and debugging, but once the program is working, we can make it more concise by composing the function calls:"
   ]
  },
  {
   "cell_type": "code",
   "execution_count": null,
   "metadata": {
    "collapsed": false
   },
   "outputs": [],
   "source": [
    "def circle_area(xc, yc, xp, yp):\n",
    "    return area(distance(xc, yc, xp, yp))\n",
    "circle_area(xc, yc, xp, yp)"
   ]
  },
  {
   "cell_type": "markdown",
   "metadata": {},
   "source": [
    "## Boolean functions\n",
    "\n",
    "Functions can return booleans, which is often convenient for hiding complicated tests inside functions. For example:"
   ]
  },
  {
   "cell_type": "code",
   "execution_count": null,
   "metadata": {
    "collapsed": true
   },
   "outputs": [],
   "source": [
    "def is_divisible(x, y):\n",
    "    if x % y == 0:\n",
    "        return True\n",
    "    else:\n",
    "        return False"
   ]
  },
  {
   "cell_type": "markdown",
   "metadata": {},
   "source": [
    "It is common to give boolean functions names that sound like yes/no questions; `is_divisible` returns either ``True`` or ``False`` to indicate whether ``x`` is divisible by ``y``.\n",
    "\n",
    "Here is an example:"
   ]
  },
  {
   "cell_type": "code",
   "execution_count": null,
   "metadata": {
    "collapsed": false
   },
   "outputs": [],
   "source": [
    "is_divisible(6, 4)"
   ]
  },
  {
   "cell_type": "code",
   "execution_count": null,
   "metadata": {
    "collapsed": false
   },
   "outputs": [],
   "source": [
    "is_divisible(6, 3)"
   ]
  },
  {
   "cell_type": "markdown",
   "metadata": {},
   "source": [
    "The result of the ``==`` operator is a boolean, so we can write the function more concisely by returning it directly:"
   ]
  },
  {
   "cell_type": "code",
   "execution_count": null,
   "metadata": {
    "collapsed": true
   },
   "outputs": [],
   "source": [
    "def is_divisible(x, y):\n",
    "    return x % y == 0"
   ]
  },
  {
   "cell_type": "markdown",
   "metadata": {},
   "source": [
    "Boolean functions are often used in conditional statements:"
   ]
  },
  {
   "cell_type": "code",
   "execution_count": null,
   "metadata": {
    "collapsed": false
   },
   "outputs": [],
   "source": [
    "x = 6\n",
    "y = 3\n",
    "if is_divisible(x, y):\n",
    "    print 'x is divisible by y'"
   ]
  },
  {
   "cell_type": "markdown",
   "metadata": {},
   "source": [
    "It might be tempting to write something like:"
   ]
  },
  {
   "cell_type": "code",
   "execution_count": null,
   "metadata": {
    "collapsed": false
   },
   "outputs": [],
   "source": [
    "if is_divisible(x, y) == True:\n",
    "    print 'x is divisible by y'"
   ]
  },
  {
   "cell_type": "markdown",
   "metadata": {},
   "source": [
    "But the extra comparison is unnecessary."
   ]
  },
  {
   "cell_type": "markdown",
   "metadata": {},
   "source": [
    "<div style=\"background-color: #FFF8C6; margin-left: 20px; margin-right: 20px; padding-bottom: 8px; padding-left: 8px; padding-right: 8px; padding-top: 8px;\">\n",
    "Write a function `is_between(x, y, z)` that returns ``True`` if $x \\le y \\le z$ or ``False`` otherwise.\n",
    "</div>"
   ]
  },
  {
   "cell_type": "markdown",
   "metadata": {},
   "source": [
    "## More recursion\n",
    "\n",
    "We have only covered a small subset of Python, but you might be interested to know that this subset is a *complete* programming language, which means that anything that can be computed can be expressed in this language. Any program ever written could be rewritten using only the language features you have learned so far\n",
    "(actually, you would need a few commands to control devices like the keyboard, mouse, disks, etc., but that’s all).\n",
    "\n",
    "Proving that claim is a nontrivial exercise first accomplished by Alan Turing, one of the first computer scientists (some would argue that he was a mathematician, but a lot of early computer scientists started as mathematicians). Accordingly, it is known as the Turing Thesis. For a more complete (and accurate) discussion of the Turing Thesis, I recommend Michael Sipser’s book ``*Introduction to the Theory of Computation*``.\n",
    "\n",
    "To give you an idea of what you can do with the tools you have learned so far, we’ll evaluate a few recursively defined mathematical functions. A recursive definition is similar to a circular definition, in the sense that the definition contains a reference to the thing being defined. A truly circular definition is not very useful:\n",
    "\n",
    "- **vorpal:**\n",
    "\n",
    "    An adjective used to describe something that is vorpal.\n",
    "\n",
    "If you saw that definition in the dictionary, you might be annoyed. On the other hand, if you looked up the definition of the factorial function, denoted with the symbol $!$, you might get something like this: \n",
    "$$\\begin{aligned}\n",
    "&&  0! = 1 \\\\\n",
    "&&  n! = n (n-1)!\n",
    "\\end{aligned}$$ \n",
    "\n",
    "This definition says that the factorial of 0 is 1, and the factorial of any other value, $n$, is $n$ multiplied by the factorial of $n-1$.\n",
    "\n",
    "So $3!$ is 3 times $2!$, which is 2 times $1!$, which is 1 times $0!$. Putting it all together, $3!$ equals 3 times 2 times 1 times 1, which is\n",
    "6.\n",
    "\n",
    "If you can write a recursive definition of something, you can usually write a Python program to evaluate it. The first step is to decide what the parameters should be. In this case it should be clear that\n",
    "``factorial`` takes an integer:\n",
    "\n",
    "    def factorial(n):\n",
    "\n",
    "If the argument happens to be 0, all we have to do is return 1:\n",
    "\n",
    "    def factorial(n):\n",
    "        if n == 0:\n",
    "            return 1\n",
    "\n",
    "Otherwise, and this is the interesting part, we have to make a recursive call to find the factorial of $n-1$ and then multiply it by $n$:"
   ]
  },
  {
   "cell_type": "code",
   "execution_count": null,
   "metadata": {
    "collapsed": true
   },
   "outputs": [],
   "source": [
    "def factorial(n):\n",
    "    if n == 0:\n",
    "        return 1\n",
    "    else:\n",
    "        recurse = factorial(n-1)\n",
    "        result = n * recurse\n",
    "        return result"
   ]
  },
  {
   "cell_type": "markdown",
   "metadata": {},
   "source": [
    "The flow of execution for this program is similar to the flow of ``countdown`` in Section [recursion]. If we call ``factorial`` with the value 3:\n",
    "\n",
    "Since 3 is not 0, we take the second branch and calculate the factorial of ``n-1``...\n",
    "\n",
    "> Since 2 is not 0, we take the second branch and calculate the\n",
    "> factorial of ``n-1``...\n",
    ">\n",
    "> > Since 1 is not 0, we take the second branch and calculate the\n",
    "> > factorial of ``n-1``...\n",
    "> >\n",
    "> > > Since 0 *is* 0, we take the first branch and return 1\n",
    "> > > without making any more recursive calls.\n",
    "> >\n",
    "> > The return value (1) is multiplied by $n$, which is 1, and the\n",
    "> > result is returned.\n",
    ">\n",
    "> The return value (1) is multiplied by $n$, which is 2, and the result\n",
    "> is returned.\n",
    "\n",
    "The return value (2) is multiplied by $n$, which is 3, and the result, 6, becomes the return value of the function call that started the whole process.\n",
    "\n",
    "The stack diagram looks like for this sequence of function calls looks like:\n",
    "\n",
    "<img src='figs/stack3.png'/>\n",
    "\n",
    "The return values are shown being passed back up the stack. In each frame, the return value is the value of ``result``, which is the product of ``n`` and ``recurse``.\n",
    "\n",
    "In the last frame, the local variables ``recurse`` and ``result`` do not exist, because the branch that creates them does not execute."
   ]
  },
  {
   "cell_type": "markdown",
   "metadata": {},
   "source": [
    "## Leap of faith\n",
    "\n",
    "Following the flow of execution is one way to read programs, but it can quickly become labyrinthine. An alternative is what I call the “leap of faith.” When you come to a function call, instead of following the flow of execution, you *assume* that the function works correctly and returns the right result.\n",
    "\n",
    "In fact, you are already practicing this leap of faith when you use built-in functions. When you call ``math.cos`` or\n",
    "``math.exp``, you don’t examine the bodies of those functions. You just assume that they work because the people who wrote the built-in functions were good programmers.\n",
    "\n",
    "The same is true when you call one of your own functions. For example, we wrote a function called `is_divisible` that determines whether one number is divisible by another. Once we have convinced ourselves that this function is correct — by examining the code and testing — we can use the function without looking at the body again.\n",
    "\n",
    "The same is true of recursive programs. When you get to the recursive call, instead of following the flow of execution, you should assume that the recursive call works (yields the correct result) and then ask yourself, “Assuming that I can find the factorial of $n-1$, can I compute the factorial of $n$?” In this case, it is clear that you can, by multiplying by $n$.\n",
    "\n",
    "Of course, it’s a bit strange to assume that the function works correctly when you haven’t finished writing it, but that’s why it’s called a leap of faith!"
   ]
  },
  {
   "cell_type": "markdown",
   "metadata": {},
   "source": [
    "## One more example \n",
    "\n",
    "After ``factorial``, the most common example of a recursively defined mathematical function is ``fibonacci``, which has the following definition (see <http://en.wikipedia.org/wiki/Fibonacci_number>): \n",
    "\n",
    "$$\\begin{aligned}\n",
    "&& \\mathrm{fibonacci}(0) = 0 \\\\\n",
    "&& \\mathrm{fibonacci}(1) = 1 \\\\\n",
    "&& \\mathrm{fibonacci}(n) = \\mathrm{fibonacci}(n-1) + \\mathrm{fibonacci}(n-2)\n",
    "\\end{aligned}$$ \n",
    "\n",
    "Translated into Python, it looks like this:"
   ]
  },
  {
   "cell_type": "code",
   "execution_count": null,
   "metadata": {
    "collapsed": true
   },
   "outputs": [],
   "source": [
    "def fibonacci (n):\n",
    "    if n == 0:\n",
    "        return 0\n",
    "    elif  n == 1:\n",
    "        return 1\n",
    "    else:\n",
    "        return fibonacci(n-1) + fibonacci(n-2)"
   ]
  },
  {
   "cell_type": "markdown",
   "metadata": {},
   "source": [
    "If you try to follow the flow of execution here, even for fairly small values of $n$, your head explodes. But according to the leap of faith, if you assume that the two recursive calls work correctly, then it is clear that you get the right result by adding them together."
   ]
  },
  {
   "cell_type": "markdown",
   "metadata": {},
   "source": [
    "## Checking types \n",
    "\n",
    "What happens if we call ``factorial`` and give it 1.5 as an argument?"
   ]
  },
  {
   "cell_type": "code",
   "execution_count": null,
   "metadata": {
    "collapsed": false
   },
   "outputs": [],
   "source": [
    "factorial(1.5)"
   ]
  },
  {
   "cell_type": "markdown",
   "metadata": {},
   "source": [
    "It looks like an infinite recursion. But how can that be? There is a base case—when ``n == 0``. But if ``n`` is not an integer, we can *miss* the base case and recurse forever.\n",
    "\n",
    "In the first recursive call, the value of ``n`` is 0.5. In the next, it is -0.5. From there, it gets smaller (more negative), but it will never be 0.\n",
    "\n",
    "We have two choices. We can try to generalize the ``factorial`` function to work with floating-point numbers, or we can make ``factorial`` check the type of its argument. The first option is called the gamma function and it’s a little beyond the scope of this book. So we’ll go for the second.\n",
    "\n",
    "We can use the built-in function ``isinstance`` to verify the type of the argument. While we’re at it, we can also make sure the argument is positive:"
   ]
  },
  {
   "cell_type": "code",
   "execution_count": null,
   "metadata": {
    "collapsed": true
   },
   "outputs": [],
   "source": [
    "def factorial (n):\n",
    "    if not isinstance(n, int):\n",
    "        print 'Factorial is defined only for integers.'\n",
    "        return None\n",
    "    elif n < 0:\n",
    "        print 'Factorial is not defined for negative integers.'\n",
    "        return None\n",
    "    elif n == 0:\n",
    "        return 1\n",
    "    else:\n",
    "        return n * factorial(n-1)"
   ]
  },
  {
   "cell_type": "markdown",
   "metadata": {},
   "source": [
    "The first base case handles nonintegers; the second catches negative integers. In both cases, the program prints an error message and returns ``None`` to indicate that something went wrong:"
   ]
  },
  {
   "cell_type": "code",
   "execution_count": null,
   "metadata": {
    "collapsed": false
   },
   "outputs": [],
   "source": [
    "factorial('fred')"
   ]
  },
  {
   "cell_type": "code",
   "execution_count": null,
   "metadata": {
    "collapsed": false
   },
   "outputs": [],
   "source": [
    "factorial(-2)"
   ]
  },
  {
   "cell_type": "markdown",
   "metadata": {},
   "source": [
    "If we get past both checks, then we know that $n$ is positive or zero, so we can prove that the recursion terminates.\n",
    "\n",
    "This program demonstrates a pattern sometimes called a **guardian**. The first two conditionals act as guardians, protecting the code that follows from values that might cause an error. The guardians make it possible to prove the correctness of the code.\n",
    "\n",
    "In a later section we will see a more flexible alternative to printing an error message: raising an exception."
   ]
  },
  {
   "cell_type": "markdown",
   "metadata": {},
   "source": [
    "## Debugging\n",
    "\n",
    "Breaking a large program into smaller functions creates natural checkpoints for debugging. If a function is not working, there are three possibilities to consider:\n",
    "\n",
    "-   There is something wrong with the arguments the function is getting;\n",
    "    a precondition is violated.\n",
    "\n",
    "-   There is something wrong with the function; a postcondition is\n",
    "    violated.\n",
    "\n",
    "-   There is something wrong with the return value or the way it is\n",
    "    being used.\n",
    "\n",
    "To rule out the first possibility, you can add a ``print`` statement at the beginning of the function and display the values of the parameters (and maybe their types). Or you can write code that checks the preconditions explicitly.\n",
    "\n",
    "If the parameters look good, add a ``print`` statement before each ``return`` statement that displays the return value. If possible, check the result by hand. Consider calling the function with values that make it easy to check the result (as in Section [incremental.development]).\n",
    "\n",
    "If the function seems to be working, look at the function call to make sure the return value is being used correctly (or used at all!).\n",
    "\n",
    "Adding print statements at the beginning and end of a function can help make the flow of execution more visible. For example, here is a version of ``factorial`` with print statements:"
   ]
  },
  {
   "cell_type": "code",
   "execution_count": null,
   "metadata": {
    "collapsed": true
   },
   "outputs": [],
   "source": [
    "def factorial(n):\n",
    "    if not isinstance(n, int):\n",
    "        print 'Factorial is defined only for integers.'\n",
    "        return None\n",
    "    elif n < 0:\n",
    "        print 'Factorial is not defined for negative integers.'\n",
    "        return None\n",
    "    space = ' ' * (4 * n)\n",
    "    print space, 'factorial', n\n",
    "    if n == 0:\n",
    "        print space, 'returning 1'\n",
    "        return 1\n",
    "    else:\n",
    "        recurse = factorial(n-1)\n",
    "        result = n * recurse\n",
    "        print space, 'returning', result\n",
    "        return result"
   ]
  },
  {
   "cell_type": "markdown",
   "metadata": {},
   "source": [
    "``space`` is a string of space characters that controls the indentation of the output. Here is the result of\n",
    "``factorial(5)``:"
   ]
  },
  {
   "cell_type": "code",
   "execution_count": null,
   "metadata": {
    "collapsed": false
   },
   "outputs": [],
   "source": [
    "factorial(5)"
   ]
  },
  {
   "cell_type": "markdown",
   "metadata": {},
   "source": [
    "If you are confused about the flow of execution, this kind of output can be helpful. It takes some time to develop effective scaffolding, but a little bit of scaffolding can save a lot of debugging."
   ]
  },
  {
   "cell_type": "markdown",
   "metadata": {},
   "source": [
    "## Glossary\n",
    "\n",
    "- **temporary variable:**\n",
    "\n",
    "    A variable used to store an intermediate value in a complex\n",
    "    calculation.\n",
    "\n",
    "- **dead code:**\n",
    "\n",
    "    Part of a program that can never be executed, often because it\n",
    "    appears after a ``return`` statement.\n",
    "\n",
    "- **``None``:**\n",
    "\n",
    "    A special value returned by functions that have no return statement\n",
    "    or a return statement without an argument.\n",
    "\n",
    "- **incremental development:**\n",
    "\n",
    "    A program development plan intended to avoid debugging by adding and\n",
    "    testing only a small amount of code at a time.\n",
    "\n",
    "- **scaffolding:**\n",
    "\n",
    "    Code that is used during program development but is not part of the\n",
    "    final version.\n",
    "\n",
    "- **guardian:**\n",
    "\n",
    "    A programming pattern that uses a conditional statement to check for\n",
    "    and handle circumstances that might cause an error."
   ]
  },
  {
   "cell_type": "markdown",
   "metadata": {},
   "source": [
    "## Exercises"
   ]
  },
  {
   "cell_type": "markdown",
   "metadata": {},
   "source": [
    "### Exercise 1\n",
    "Draw a stack diagram for the following program. What does the program print?"
   ]
  },
  {
   "cell_type": "code",
   "execution_count": null,
   "metadata": {
    "collapsed": false
   },
   "outputs": [],
   "source": [
    "def b(z):\n",
    "    prod = a(z, z)\n",
    "    print z, prod\n",
    "    return prod\n",
    "\n",
    "def a(x, y):\n",
    "    x = x + 1\n",
    "    return x * y\n",
    "\n",
    "def c(x, y, z):\n",
    "    total = x + y + z\n",
    "    square = b(total)**2\n",
    "    return square\n",
    "\n",
    "x = 1\n",
    "y = x + 1\n",
    "print c(x, y+3, x+y)"
   ]
  },
  {
   "cell_type": "markdown",
   "metadata": {},
   "source": [
    "### Exercise 2\n",
    "\n",
    "The Ackermann function, $A(m, n)$, is defined:\n",
    "\n",
    "$$\\begin{aligned} A(m, n) = \\begin{cases}\n",
    "              n+1 & \\mbox{if } m = 0 \\\\\n",
    "        A(m-1, 1) & \\mbox{if } m > 0 \\mbox{ and } n = 0 \\\\ A(m-1, A(m, n-1)) & \\mbox{if } m > 0 \\mbox{ and } n > 0.\n",
    "\\end{cases}\\end{aligned}$$\n",
    "\n",
    "See <http://en.wikipedia.org/wiki/Ackermann_function>. Write a function named ``ack`` that evaluates Ackermann’s function. Use your function to evaluate ``ack(3, 4)``, which should be 125. What happens for larger values of ``m`` and ``n``? "
   ]
  },
  {
   "cell_type": "markdown",
   "metadata": {},
   "source": [
    "### Exercise 3\n",
    "\n",
    "A palindrome is a word that is spelled the same backward and forward, like “noon” and “redivider”. Recursively, a word is a palindrome if the first and last letters are the same and the middle is a palindrome.\n",
    "\n",
    "The following are functions that take a string argument and return the first, last, and middle letters:"
   ]
  },
  {
   "cell_type": "code",
   "execution_count": null,
   "metadata": {
    "collapsed": true
   },
   "outputs": [],
   "source": [
    "def first(word):\n",
    "    return word[0]\n",
    "\n",
    "def last(word):\n",
    "    return word[-1]\n",
    "\n",
    "def middle(word):\n",
    "    return word[1:-1]"
   ]
  },
  {
   "cell_type": "markdown",
   "metadata": {},
   "source": [
    "We’ll see how they work in a later chapter.\n",
    "\n",
    "1.  What happens if you call ``middle`` with\n",
    "    a string with two letters? One letter? What about the empty string,\n",
    "    which is written `''` and contains no letters?\n",
    "\n",
    "2.  Write a function called `is_palindrome` that takes a string argument\n",
    "    and returns ``True`` if it is a palindrome and ``False`` otherwise. Remember that you can use the built-in\n",
    "    function ``len`` to check the length of a string."
   ]
  },
  {
   "cell_type": "markdown",
   "metadata": {},
   "source": [
    "### Exercise 4\n",
    "\n",
    "A number, $a$, is a power of $b$ if it is divisible by $b$ and $a/b$ is a power of $b$. Write a function called `is_power` that takes parameters\n",
    "``a`` and ``b`` and returns ``True`` if\n",
    "``a`` is a power of ``b``. Note: you will have to think about the base case.\n",
    "\n",
    "The greatest common divisor (GCD) of $a$ and $b$ is the largest number that divides both of them with no remainder.\n",
    "\n",
    "One way to find the GCD of two numbers is based on the observation that if $r$ is the remainder when $a$ is divided by $b$, then $gcd(a, b) = gcd(b, r)$. As a base case, we can use $gcd(a, 0) = a$.\n",
    "\n",
    "Write a function called `gcd` that takes parameters ``a`` and ``b`` and returns their greatest common divisor.\n",
    "\n",
    "Credit: This exercise is based on an example from Abelson and Sussman’s *Structure and Interpretation of Computer Programs*."
   ]
  }
 ],
 "metadata": {
  "kernelspec": {
   "display_name": "Python 2",
   "language": "python",
   "name": "python2"
  },
  "language_info": {
   "codemirror_mode": {
    "name": "ipython",
    "version": 2
   },
   "file_extension": ".py",
   "mimetype": "text/x-python",
   "name": "python",
   "nbconvert_exporter": "python",
   "pygments_lexer": "ipython2",
   "version": "2.7.10"
  }
 },
 "nbformat": 4,
 "nbformat_minor": 0
}
