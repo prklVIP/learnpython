{
 "cells": [
  {
   "cell_type": "markdown",
   "metadata": {},
   "source": [
    "# Numpy Arrays"
   ]
  },
  {
   "cell_type": "markdown",
   "metadata": {},
   "source": [
    "## What is numpy?\n",
    "\n",
    "The ``numpy`` package is the foundation of most scientific computations performed in Python. It is implemented in C/Fortran, so performance is greatly improved over native Python data types.  ``numpy`` provides:\n",
    "\n",
    "- the **ndarray** (n dimensinal array) is numpy's primary object\n",
    "- fast array operations\n",
    "- large library of linear algebra procedures\n",
    "- and much, much, more...\n",
    "\n",
    "It is customary to import `numpy` as"
   ]
  },
  {
   "cell_type": "code",
   "execution_count": null,
   "metadata": {
    "collapsed": true
   },
   "outputs": [],
   "source": [
    "import numpy as np"
   ]
  },
  {
   "cell_type": "markdown",
   "metadata": {},
   "source": [
    "## The ndarray\n",
    "\n",
    "The power of `numpy` lies in the array object that it provides.  `numpy` arrays are similar to Python lists, but are statically typed and contain only one object type.  Arrays can be constructed in a number of ways, but the most common is to construct an array from an existing list:"
   ]
  },
  {
   "cell_type": "code",
   "execution_count": null,
   "metadata": {
    "collapsed": true
   },
   "outputs": [],
   "source": [
    "a = np.array([10, 20, 30, 40])\n",
    "b = np.array(['crunchy frog', 'ram bladder', 'lark vomit'])"
   ]
  },
  {
   "cell_type": "markdown",
   "metadata": {},
   "source": [
    "The first example is an array of four integers. The second is an array of three strings. Unlike lists, the elements of an ndarray have same type.  For example, it is illegal to assign a string to an element of `a`."
   ]
  },
  {
   "cell_type": "code",
   "execution_count": null,
   "metadata": {
    "collapsed": false
   },
   "outputs": [],
   "source": [
    "a[0] = 'string'"
   ]
  },
  {
   "cell_type": "code",
   "execution_count": null,
   "metadata": {
    "collapsed": false
   },
   "outputs": [],
   "source": [
    "print a.dtype\n",
    "print b.dtype"
   ]
  },
  {
   "cell_type": "markdown",
   "metadata": {},
   "source": [
    "The `dtype` of an array is inferred from its arguments a the time of construction.  It can also be specified:"
   ]
  },
  {
   "cell_type": "code",
   "execution_count": null,
   "metadata": {
    "collapsed": false
   },
   "outputs": [],
   "source": [
    "c = np.array([1, 2, 3], dtype=np.float64)\n",
    "print c\n",
    "print c.dtype"
   ]
  },
  {
   "cell_type": "code",
   "execution_count": null,
   "metadata": {
    "collapsed": false
   },
   "outputs": [],
   "source": [
    "m = np.array([[1, 2, 3], [4, 5, 6], [7, 8, 9]])\n",
    "m"
   ]
  },
  {
   "cell_type": "markdown",
   "metadata": {},
   "source": [
    "Other methods exist for creating arrays, some of which allow specifying the array dimension"
   ]
  },
  {
   "cell_type": "code",
   "execution_count": null,
   "metadata": {
    "collapsed": false
   },
   "outputs": [],
   "source": [
    "o = np.ones(5)\n",
    "print o"
   ]
  },
  {
   "cell_type": "code",
   "execution_count": null,
   "metadata": {
    "collapsed": false
   },
   "outputs": [],
   "source": [
    "oo = np.ones((5,5))\n",
    "print oo"
   ]
  },
  {
   "cell_type": "code",
   "execution_count": null,
   "metadata": {
    "collapsed": false
   },
   "outputs": [],
   "source": [
    "z = np.zeros(5)\n",
    "zz = np.zeros((4,2))\n",
    "print z\n",
    "print zz"
   ]
  },
  {
   "cell_type": "code",
   "execution_count": null,
   "metadata": {
    "collapsed": false
   },
   "outputs": [],
   "source": [
    "ls = np.linspace(0, 5, 6)\n",
    "print ls"
   ]
  },
  {
   "cell_type": "code",
   "execution_count": null,
   "metadata": {
    "collapsed": false
   },
   "outputs": [],
   "source": [
    "ar = np.arange(6)\n",
    "print ar"
   ]
  },
  {
   "cell_type": "markdown",
   "metadata": {},
   "source": [
    "The `reshape` method allows changing the shape of an array:"
   ]
  },
  {
   "cell_type": "code",
   "execution_count": null,
   "metadata": {
    "collapsed": false
   },
   "outputs": [],
   "source": [
    "ar = np.arange(16).reshape(4,4)\n",
    "print ar"
   ]
  },
  {
   "cell_type": "markdown",
   "metadata": {},
   "source": [
    "The new shape must be consistent with the size of the original array:"
   ]
  },
  {
   "cell_type": "code",
   "execution_count": null,
   "metadata": {
    "collapsed": false
   },
   "outputs": [],
   "source": [
    "ar = np.arange(16).reshape(5,3)"
   ]
  },
  {
   "cell_type": "markdown",
   "metadata": {},
   "source": [
    "## Arrays are mutable\n",
    "\n",
    "The syntax for accessing the elements of an array is the same as for accessing the elements of a list - the bracket operator. The expression inside the brackets specifies the index. Remember that the indices start at 0:"
   ]
  },
  {
   "cell_type": "code",
   "execution_count": null,
   "metadata": {
    "collapsed": false
   },
   "outputs": [],
   "source": [
    "print a[0]"
   ]
  },
  {
   "cell_type": "markdown",
   "metadata": {},
   "source": [
    "For arrays with dimension > 1, a tuple is used to specify the index"
   ]
  },
  {
   "cell_type": "code",
   "execution_count": null,
   "metadata": {
    "collapsed": false
   },
   "outputs": [],
   "source": [
    "print m[0,1]"
   ]
  },
  {
   "cell_type": "markdown",
   "metadata": {},
   "source": [
    "By default, matrix convention for indexing is used by arrays, i.e., the first index is the row.  Also by default, the last index of an array changes most rapidly as one moves through the array as stored in memory (so called Row-major storage). For a 2 dimensional array, this is equivalent to the statement that the matrix is stored by rows.  This is different than languages such as matlab and Fortran that use Column-major storage.  The storage convention can be observed by viewing a flattened multidimensional array:"
   ]
  },
  {
   "cell_type": "code",
   "execution_count": null,
   "metadata": {
    "collapsed": false
   },
   "outputs": [],
   "source": [
    "m"
   ]
  },
  {
   "cell_type": "code",
   "execution_count": null,
   "metadata": {
    "collapsed": false
   },
   "outputs": [],
   "source": [
    "m.flatten()"
   ]
  },
  {
   "cell_type": "markdown",
   "metadata": {},
   "source": [
    "Like lists, arrays are mutable. When the bracket operator appears on the left side of an assignment, it identifies the element of the list that will be assigned."
   ]
  },
  {
   "cell_type": "code",
   "execution_count": null,
   "metadata": {
    "collapsed": false
   },
   "outputs": [],
   "source": [
    "numbers = np.array([17., 123])\n",
    "numbers[1] = 5\n",
    "matrix = np.array([[1, 2], [3, 4]])\n",
    "matrix[0,1] = 12\n",
    "print numbers\n",
    "print matrix"
   ]
  },
  {
   "cell_type": "markdown",
   "metadata": {},
   "source": [
    "Note, the array constructor converted the integer `123` to a float `123.` in the `numbers` array.\n",
    "\n",
    "The one-eth element of ``numbers``, which used to be 123., is now 5.\n",
    "\n",
    "Array indices work in largely the same way as list indices:\n",
    "\n",
    "-   Any integer expression can be used as an index.\n",
    "\n",
    "-   List expressions can also be used as an index.\n",
    "\n",
    "-   If you try to read or write an element that does not exist, you get an ``IndexError``.\n",
    "\n",
    "-   If an index has a negative value, it counts backward from the end of the list.\n",
    "\n",
    "-   For `n` dimensional arrays with `n > 1`, a tuple expression can be used as an index."
   ]
  },
  {
   "cell_type": "markdown",
   "metadata": {},
   "source": [
    "The ``in`` operator also works on arrays:"
   ]
  },
  {
   "cell_type": "code",
   "execution_count": null,
   "metadata": {
    "collapsed": false
   },
   "outputs": [],
   "source": [
    "5. in numbers"
   ]
  },
  {
   "cell_type": "code",
   "execution_count": null,
   "metadata": {
    "collapsed": false
   },
   "outputs": [],
   "source": [
    "45 in numbers"
   ]
  },
  {
   "cell_type": "markdown",
   "metadata": {},
   "source": [
    "## Traversing an array\n",
    "\n",
    "The most common way to traverse the elements of an array is with a ``for`` loop. The syntax is the same as for lists:"
   ]
  },
  {
   "cell_type": "code",
   "execution_count": null,
   "metadata": {
    "collapsed": false
   },
   "outputs": [],
   "source": [
    "for number in numbers:\n",
    "    print number"
   ]
  },
  {
   "cell_type": "markdown",
   "metadata": {},
   "source": [
    "This works well if you only need to read the elements of the list. But if you want to write or update the elements, you need the indices. A common way to do that is to combine the functions ``range`` and ``len``:"
   ]
  },
  {
   "cell_type": "code",
   "execution_count": null,
   "metadata": {
    "collapsed": true
   },
   "outputs": [],
   "source": [
    "for i in range(len(numbers)):\n",
    "    numbers[i] = numbers[i] * 2"
   ]
  },
  {
   "cell_type": "markdown",
   "metadata": {},
   "source": [
    "This loop traverses the list and updates each element. ``len`` returns the number of elements in the list. ``range`` returns a list of indices from 0 to $n-1$, where $n$ is the length of the list. Each time through the loop ``i`` gets the index of the next element. The assignment statement in the body uses ``i`` to read the old value of the element and to assign the new value.\n",
    "\n",
    "A ``for`` loop over an empty list never executes the body:"
   ]
  },
  {
   "cell_type": "code",
   "execution_count": null,
   "metadata": {
    "collapsed": true
   },
   "outputs": [],
   "source": [
    "for x in np.array([]):\n",
    "    print 'This never happens.'"
   ]
  },
  {
   "cell_type": "markdown",
   "metadata": {},
   "source": [
    "Although arrays can have rows and columns, each row still counts as a single element. The length of this array is two:"
   ]
  },
  {
   "cell_type": "code",
   "execution_count": null,
   "metadata": {
    "collapsed": false
   },
   "outputs": [],
   "source": [
    "m = np.array([[0,1,2], [3,4,5]])\n",
    "print len(m)"
   ]
  },
  {
   "cell_type": "markdown",
   "metadata": {},
   "source": [
    "The dimensions of an array are found by its `shape` attribute:"
   ]
  },
  {
   "cell_type": "code",
   "execution_count": null,
   "metadata": {
    "collapsed": false
   },
   "outputs": [],
   "source": [
    "print m.shape"
   ]
  },
  {
   "cell_type": "markdown",
   "metadata": {},
   "source": [
    "Watch out for the following *gotcha*.  Suppose you wanted to construct a 3x3 matrix:"
   ]
  },
  {
   "cell_type": "code",
   "execution_count": null,
   "metadata": {
    "collapsed": false
   },
   "outputs": [],
   "source": [
    "d = np.array([[1,2,3], [4,5,6], [7,8.9]])\n",
    "print d"
   ]
  },
  {
   "cell_type": "markdown",
   "metadata": {},
   "source": [
    "A typo was made in the last row of the array.  Instead of `7,8,9` it is `7,8.9`.  The shape of the array might surprise you:"
   ]
  },
  {
   "cell_type": "code",
   "execution_count": null,
   "metadata": {
    "collapsed": false
   },
   "outputs": [],
   "source": [
    "print d.shape"
   ]
  },
  {
   "cell_type": "markdown",
   "metadata": {},
   "source": [
    "What about its data type?"
   ]
  },
  {
   "cell_type": "code",
   "execution_count": null,
   "metadata": {
    "collapsed": false
   },
   "outputs": [],
   "source": [
    "print d.dtype"
   ]
  },
  {
   "cell_type": "markdown",
   "metadata": {},
   "source": [
    "The array is an array of objects, each object being a list."
   ]
  },
  {
   "cell_type": "markdown",
   "metadata": {},
   "source": [
    "## Array operations\n",
    "\n",
    "The ``+``, ``-``, ``/``, ``*``, and ``**`` operators perform *element-wise* addition, subtraction, division, multiplication, and exponentiation:"
   ]
  },
  {
   "cell_type": "code",
   "execution_count": null,
   "metadata": {
    "collapsed": false
   },
   "outputs": [],
   "source": [
    "a = np.array([1, 2, 3])\n",
    "b = np.array([1, 5, 6])\n",
    "print 'a + b =', a + b\n",
    "print 'a - b =', a - b\n",
    "print 'a / b =', a / b\n",
    "print 'a * b =', a * b\n",
    "print 'a ** 2 =', a ** 2\n",
    "print 'a == b', a == b"
   ]
  },
  {
   "cell_type": "markdown",
   "metadata": {},
   "source": [
    "For other mathematical operations, such as `log`, `exp`, `sin`, `cos`, etc., `numpy` provides element-wise versions that should be used on arrays:"
   ]
  },
  {
   "cell_type": "code",
   "execution_count": null,
   "metadata": {
    "collapsed": false
   },
   "outputs": [],
   "source": [
    "print np.log(a)"
   ]
  },
  {
   "cell_type": "code",
   "execution_count": null,
   "metadata": {
    "collapsed": false
   },
   "outputs": [],
   "source": [
    "print np.cos(b)"
   ]
  },
  {
   "cell_type": "markdown",
   "metadata": {},
   "source": [
    "## Array slices\n",
    "\n",
    "The slice operator also works on arrays:"
   ]
  },
  {
   "cell_type": "code",
   "execution_count": null,
   "metadata": {
    "collapsed": false
   },
   "outputs": [],
   "source": [
    "t = np.arange(6)\n",
    "t[1:3]"
   ]
  },
  {
   "cell_type": "code",
   "execution_count": null,
   "metadata": {
    "collapsed": false
   },
   "outputs": [],
   "source": [
    "t[:4]"
   ]
  },
  {
   "cell_type": "code",
   "execution_count": null,
   "metadata": {
    "collapsed": false
   },
   "outputs": [],
   "source": [
    "t[3:]"
   ]
  },
  {
   "cell_type": "markdown",
   "metadata": {},
   "source": [
    "If you omit the first index, the slice starts at the beginning. If you omit the second, the slice goes to the end. So if you omit both, the slice is a copy of the whole list."
   ]
  },
  {
   "cell_type": "code",
   "execution_count": null,
   "metadata": {
    "collapsed": false
   },
   "outputs": [],
   "source": [
    "t[:]"
   ]
  },
  {
   "cell_type": "markdown",
   "metadata": {},
   "source": [
    "Since lists are mutable, it is often useful to make a copy before performing operations that fold, spindle or mutilate arrays.\n",
    "\n",
    "A slice operator on the left side of an assignment can update multiple elements:"
   ]
  },
  {
   "cell_type": "code",
   "execution_count": null,
   "metadata": {
    "collapsed": false
   },
   "outputs": [],
   "source": [
    "t[1:3] = [67, 84]\n",
    "print t"
   ]
  },
  {
   "cell_type": "markdown",
   "metadata": {},
   "source": [
    "## Fancy Indexing\n",
    "\n",
    "In addition to the usual indexing and slicing, arrays support *fancy* indexing, or, indexing with arrays of integers and arrays of booleans:"
   ]
  },
  {
   "cell_type": "code",
   "execution_count": null,
   "metadata": {
    "collapsed": false
   },
   "outputs": [],
   "source": [
    "a = np.array([1, 2, 3, 4, 5, 6, 7, 8, 9])\n",
    "i = np.array([0, 3])\n",
    "print a[i]\n",
    "j = np.array([True, True, False, False, True, False, True, False, True])\n",
    "print a[j]"
   ]
  },
  {
   "cell_type": "markdown",
   "metadata": {},
   "source": [
    "Indexing with arrays can be used as a target to assign to:"
   ]
  },
  {
   "cell_type": "code",
   "execution_count": null,
   "metadata": {
    "collapsed": false
   },
   "outputs": [],
   "source": [
    "a[[0, 2, 4]] = 0\n",
    "a"
   ]
  },
  {
   "cell_type": "markdown",
   "metadata": {},
   "source": [
    "Indices can be given for more than one dimension. The arrays of indices for each dimension must have the same shape."
   ]
  },
  {
   "cell_type": "code",
   "execution_count": null,
   "metadata": {
    "collapsed": false
   },
   "outputs": [],
   "source": [
    "a = np.arange(12).reshape(3,4)\n",
    "a"
   ]
  },
  {
   "cell_type": "code",
   "execution_count": null,
   "metadata": {
    "collapsed": false
   },
   "outputs": [],
   "source": [
    "i = np.array([[0,1],        # indices for the first dim of a\n",
    "              [1,2]])\n",
    "j = np.array([[2,1],        # indices for the second dim\n",
    "              [3,3]])\n",
    "a[i,j]                  # i and j must have equal shape"
   ]
  },
  {
   "cell_type": "code",
   "execution_count": null,
   "metadata": {
    "collapsed": false
   },
   "outputs": [],
   "source": [
    "a[i,2]"
   ]
  },
  {
   "cell_type": "code",
   "execution_count": null,
   "metadata": {
    "collapsed": false
   },
   "outputs": [],
   "source": [
    "a[:,j]                  # i.e., a[ : , j]"
   ]
  },
  {
   "cell_type": "markdown",
   "metadata": {},
   "source": [
    "## Array methods\n",
    "\n",
    "`numpy` provides methods that operate on arrays. For example, ``max`` returns the maximum element in an array:"
   ]
  },
  {
   "cell_type": "code",
   "execution_count": null,
   "metadata": {
    "collapsed": false
   },
   "outputs": [],
   "source": [
    "t = np.random.rand(9).reshape(3,3)\n",
    "t"
   ]
  },
  {
   "cell_type": "code",
   "execution_count": null,
   "metadata": {
    "collapsed": false
   },
   "outputs": [],
   "source": [
    "print t.max()"
   ]
  },
  {
   "cell_type": "markdown",
   "metadata": {},
   "source": [
    "Generally, methods such as `max` operate on the flattened array.  For these methods the `axis` argument specifies the axis along with to operate:"
   ]
  },
  {
   "cell_type": "code",
   "execution_count": null,
   "metadata": {
    "collapsed": false
   },
   "outputs": [],
   "source": [
    "print t.max(axis=0) # maxima along first axis\n",
    "print t.max(axis=1) # maxima along second axis"
   ]
  },
  {
   "cell_type": "markdown",
   "metadata": {},
   "source": [
    "``sort`` arranges the elements of the array from low to high, along the last axis by default:"
   ]
  },
  {
   "cell_type": "code",
   "execution_count": null,
   "metadata": {
    "collapsed": false
   },
   "outputs": [],
   "source": [
    "a = np.array(t)\n",
    "a.sort()\n",
    "print a"
   ]
  },
  {
   "cell_type": "code",
   "execution_count": null,
   "metadata": {
    "collapsed": false
   },
   "outputs": [],
   "source": [
    "a = np.array(t)\n",
    "a.sort(axis=0)  # sorts along rows\n",
    "print a"
   ]
  },
  {
   "cell_type": "markdown",
   "metadata": {},
   "source": [
    "## numpy Functions"
   ]
  },
  {
   "cell_type": "markdown",
   "metadata": {},
   "source": [
    "Since `numpy` ndarrays are multidimensional, homogeneous arrays and their size is *fixed* at the time of creation, methods such as `append` or `extend` make little sense (since they change the size of the object).  `numpy` provides similar *functions*.\n",
    "\n",
    "The `np.append` functions appends one array to the end of another:"
   ]
  },
  {
   "cell_type": "code",
   "execution_count": null,
   "metadata": {
    "collapsed": false
   },
   "outputs": [],
   "source": [
    "t1 = np.array([1,2,3])\n",
    "t2 = np.array([3,4,5])\n",
    "t = np.append(t1, t2)\n",
    "print t"
   ]
  },
  {
   "cell_type": "markdown",
   "metadata": {},
   "source": [
    "More than one array can be appended:"
   ]
  },
  {
   "cell_type": "code",
   "execution_count": null,
   "metadata": {
    "collapsed": false
   },
   "outputs": [],
   "source": [
    "print np.append(t1, (t2, t2))"
   ]
  },
  {
   "cell_type": "markdown",
   "metadata": {},
   "source": [
    "Like other ndarray methods, `numpy` functions operate on the flattened arrays by default:"
   ]
  },
  {
   "cell_type": "code",
   "execution_count": null,
   "metadata": {
    "collapsed": false
   },
   "outputs": [],
   "source": [
    "t3 = np.array([[1,2,3],[4,5,6]])\n",
    "t4 = np.array([[7,8,9],[10,11,12]])\n",
    "print np.append(t3, t4)"
   ]
  },
  {
   "cell_type": "markdown",
   "metadata": {},
   "source": [
    "The axis argument can be passed to specify the axis along with the operation will occur:"
   ]
  },
  {
   "cell_type": "code",
   "execution_count": null,
   "metadata": {
    "collapsed": false
   },
   "outputs": [],
   "source": [
    "print np.append(t3, t4, axis=0)"
   ]
  },
  {
   "cell_type": "code",
   "execution_count": null,
   "metadata": {
    "collapsed": false
   },
   "outputs": [],
   "source": [
    "print np.append(t3, t4, axis=1)"
   ]
  },
  {
   "cell_type": "markdown",
   "metadata": {},
   "source": [
    "The `column_stack` and `row_stack` functions create multi dimensional arrays from one dimensional arrays:"
   ]
  },
  {
   "cell_type": "code",
   "execution_count": null,
   "metadata": {
    "collapsed": false
   },
   "outputs": [],
   "source": [
    "print np.column_stack((t1, t2))"
   ]
  },
  {
   "cell_type": "code",
   "execution_count": null,
   "metadata": {
    "collapsed": false
   },
   "outputs": [],
   "source": [
    "print np.row_stack((t1, t2))"
   ]
  },
  {
   "cell_type": "markdown",
   "metadata": {},
   "source": [
    "## Map, filter and reduce\n",
    "\n",
    "To add up all the numbers in an array, you can use a loop like this:"
   ]
  },
  {
   "cell_type": "code",
   "execution_count": null,
   "metadata": {
    "collapsed": true
   },
   "outputs": [],
   "source": [
    "def add_all(t):\n",
    "    t = np.asarray(t)\n",
    "    total = np.zeros_like(t[0])\n",
    "    for x in t:\n",
    "        total += x\n",
    "    return total"
   ]
  },
  {
   "cell_type": "markdown",
   "metadata": {},
   "source": [
    "``total`` is initialized to 0. Each time through the loop, ``x`` gets one element from the list. The ``+=`` operator provides a short way to update a variable. This **augmented assignment statement**:\n",
    "\n",
    "        total += x\n",
    "\n",
    "is equivalent to:\n",
    "\n",
    "        total = total + x"
   ]
  },
  {
   "cell_type": "markdown",
   "metadata": {},
   "source": [
    "As the loop executes, ``total`` accumulates the sum of the elements; a variable used this way is sometimes called an **accumulator**.\n",
    "\n",
    "Adding up the elements of a list is such a common operation that Python provides it as a built-in function, ``sum``:"
   ]
  },
  {
   "cell_type": "code",
   "execution_count": null,
   "metadata": {
    "collapsed": false
   },
   "outputs": [],
   "source": [
    "t = np.array([[1, 2, 3], [4,5,6]])\n",
    "np.sum(t, axis=1)"
   ]
  },
  {
   "cell_type": "markdown",
   "metadata": {},
   "source": [
    "An operation like this that combines a sequence of elements into a single value is sometimes called **reduce**.\n",
    "\n",
    "Write a function called `nested_sum` that takes a nested list of integers and add up the elements from all of the nested lists.\n",
    "\n",
    "Sometimes you want to traverse one list while building another. For example, the following function takes a list of strings and returns a new list that contains capitalized strings:"
   ]
  },
  {
   "cell_type": "code",
   "execution_count": null,
   "metadata": {
    "collapsed": true
   },
   "outputs": [],
   "source": [
    "def capitalize_all(t):\n",
    "    res = []\n",
    "    for s in t:\n",
    "        res.append(s.capitalize())\n",
    "    return res"
   ]
  },
  {
   "cell_type": "markdown",
   "metadata": {},
   "source": [
    "``res`` is initialized with an empty list; each time through the loop, we append the next element. So ``res`` is another kind of accumulator.\n",
    "\n",
    "An operation like `capitalize_all` is sometimes called a **map** because it “maps” a function (in this case the method ``capitalize``) onto each of the elements in a sequence.\n",
    "\n",
    "Use `capitalize_all` to write a function named `capitalize_nested` that takes a nested list of strings and returns a new nested list with all strings capitalized.\n",
    "\n",
    "Another common operation is to select some of the elements from a list and return a sublist. For example, the following function takes a list of strings and returns a list that contains only the uppercase strings:"
   ]
  },
  {
   "cell_type": "code",
   "execution_count": null,
   "metadata": {
    "collapsed": true
   },
   "outputs": [],
   "source": [
    "def only_upper(t):\n",
    "    res = []\n",
    "    for s in t:\n",
    "        if s.isupper():\n",
    "            res.append(s)\n",
    "    return res"
   ]
  },
  {
   "cell_type": "markdown",
   "metadata": {},
   "source": [
    "``isupper`` is a string method that returns ``True`` if the string contains only upper case letters.\n",
    "\n",
    "An operation like `only_upper` is called a **filter** because it selects some of the elements and filters out the others.\n",
    "\n",
    "Most common list operations can be expressed as a combination of map, filter and reduce. Because these operations are so common, Python provides language features to support them, including the built-in function ``map`` and an operator called a “list comprehension.”"
   ]
  },
  {
   "cell_type": "markdown",
   "metadata": {},
   "source": [
    "<div style=\"background-color: #FFF8C6; margin-left: 20px; margin-right: 20px; padding-bottom: 8px; padding-left: 8px; padding-right: 8px; padding-top: 8px;\">\n",
    "Write a function that takes a list of numbers and returns the cumulative sum; that is, a new list where the $i$th element is the sum of the first\n",
    "$i-1$ elements from the original list. For example, the cumulative sum of ``[0, 1, 2]`` is ``[0, 1, 3]``.\n",
    "</div>"
   ]
  },
  {
   "cell_type": "markdown",
   "metadata": {},
   "source": [
    "## Deleting elements\n",
    "\n",
    "There are several ways to delete elements from a list. If you know the index of the element you want, you can use ``pop``:"
   ]
  },
  {
   "cell_type": "code",
   "execution_count": null,
   "metadata": {
    "collapsed": false
   },
   "outputs": [],
   "source": [
    "t = ['a', 'b', 'c']\n",
    "x = t.pop(1)\n",
    "print t"
   ]
  },
  {
   "cell_type": "code",
   "execution_count": null,
   "metadata": {
    "collapsed": false
   },
   "outputs": [],
   "source": [
    "print x"
   ]
  },
  {
   "cell_type": "markdown",
   "metadata": {},
   "source": [
    "``pop`` modifies the list and returns the element that was removed. If you don’t provide an index, it deletes and returns the last element.\n",
    "\n",
    "If you don’t need the removed value, you can use the ``del`` operator:"
   ]
  },
  {
   "cell_type": "code",
   "execution_count": null,
   "metadata": {
    "collapsed": false
   },
   "outputs": [],
   "source": [
    "t = ['a', 'b', 'c']\n",
    "del t[1]\n",
    "print t"
   ]
  },
  {
   "cell_type": "markdown",
   "metadata": {},
   "source": [
    "If you know the element you want to remove (but not the index), you can use ``remove``:"
   ]
  },
  {
   "cell_type": "code",
   "execution_count": null,
   "metadata": {
    "collapsed": false
   },
   "outputs": [],
   "source": [
    "t = ['a', 'b', 'c']\n",
    "t.remove('b')\n",
    "print t"
   ]
  },
  {
   "cell_type": "markdown",
   "metadata": {},
   "source": [
    "The return value from ``remove`` is ``None``.\n",
    "\n",
    "To remove more than one element, you can use ``del`` with a slice index:"
   ]
  },
  {
   "cell_type": "code",
   "execution_count": null,
   "metadata": {
    "collapsed": false
   },
   "outputs": [],
   "source": [
    "t = ['a', 'b', 'c', 'd', 'e', 'f']\n",
    "del t[1:5]\n",
    "print t"
   ]
  },
  {
   "cell_type": "markdown",
   "metadata": {},
   "source": [
    "As usual, the slice selects all the elements up to, but not including, the second index."
   ]
  },
  {
   "cell_type": "markdown",
   "metadata": {},
   "source": [
    "<div style=\"background-color: #FFF8C6; margin-left: 20px; margin-right: 20px; padding-bottom: 8px; padding-left: 8px; padding-right: 8px; padding-top: 8px;\">\n",
    "Write a function called `middle` that takes a list and returns a new list that contains all but the first and last elements. So `middle([1,2,3,4])` should return `[2,3]`.</div>"
   ]
  },
  {
   "cell_type": "markdown",
   "metadata": {},
   "source": [
    "<div style=\"background-color: #FFF8C6; margin-left: 20px; margin-right: 20px; padding-bottom: 8px; padding-left: 8px; padding-right: 8px; padding-top: 8px;\">Write a function called `chop` that takes a list, modifies it by removing the first and last elements, and returns ``None``.</div>"
   ]
  },
  {
   "cell_type": "markdown",
   "metadata": {},
   "source": [
    "## Lists and strings\n",
    "\n",
    "A string is a sequence of characters and a list is a sequence of values, but a list of characters is not the same as a string. To convert from a string to a list of characters, you can use ``list``:"
   ]
  },
  {
   "cell_type": "code",
   "execution_count": null,
   "metadata": {
    "collapsed": false
   },
   "outputs": [],
   "source": [
    "s = 'spam'\n",
    "t = list(s)\n",
    "print t"
   ]
  },
  {
   "cell_type": "markdown",
   "metadata": {},
   "source": [
    "Because ``list`` is the name of a built-in function, you should avoid using it as a variable name. I also avoid ``l`` because it looks too much like ``1``. So that’s why I use ``t``.\n",
    "\n",
    "The ``list`` function breaks a string into individual letters. If you want to break a string into words, you can use the ``split`` method:"
   ]
  },
  {
   "cell_type": "code",
   "execution_count": null,
   "metadata": {
    "collapsed": false
   },
   "outputs": [],
   "source": [
    "s = 'pining for the fjords'\n",
    "t = s.split()\n",
    "print t"
   ]
  },
  {
   "cell_type": "markdown",
   "metadata": {},
   "source": [
    "An optional argument called a **delimiter** specifies which characters to use as word boundaries. The following example uses a hyphen as a delimiter:"
   ]
  },
  {
   "cell_type": "code",
   "execution_count": null,
   "metadata": {
    "collapsed": false
   },
   "outputs": [],
   "source": [
    "s = 'spam-spam-spam'\n",
    "delimiter = '-'\n",
    "s.split(delimiter)"
   ]
  },
  {
   "cell_type": "markdown",
   "metadata": {},
   "source": [
    "``join`` is the inverse of ``split``. It takes a list of strings and concatenates the elements. ``join`` is a string method, so you have to invoke it on the delimiter and pass the list as a parameter:"
   ]
  },
  {
   "cell_type": "code",
   "execution_count": null,
   "metadata": {
    "collapsed": false
   },
   "outputs": [],
   "source": [
    "t = ['pining', 'for', 'the', 'fjords']\n",
    "delimiter = ' '\n",
    "delimiter.join(t)"
   ]
  },
  {
   "cell_type": "markdown",
   "metadata": {},
   "source": [
    "In this case the delimiter is a space character, so ``join`` puts a space between words. To concatenate strings without spaces, you can use the empty string, `''`, as a delimiter."
   ]
  },
  {
   "cell_type": "markdown",
   "metadata": {},
   "source": [
    "## Objects and values\n",
    "\n",
    "If we execute these assignment statements:"
   ]
  },
  {
   "cell_type": "code",
   "execution_count": null,
   "metadata": {
    "collapsed": true
   },
   "outputs": [],
   "source": [
    "a = 'banana'\n",
    "b = 'banana'"
   ]
  },
  {
   "cell_type": "markdown",
   "metadata": {},
   "source": [
    "We know that ``a`` and ``b`` both refer to a string, but we don’t know whether they refer to the *same* string. There are two possible states, shown in Figure [fig.list1].\n",
    "\n",
    "<img src='figs/list1.png'/>\n",
    "\n",
    "In one case, ``a`` and ``b`` refer to two different objects that have the same value. In the second case, they refer to the same object.\n",
    "\n",
    "To check whether two variables refer to the same object, you can use the ``is`` operator."
   ]
  },
  {
   "cell_type": "code",
   "execution_count": null,
   "metadata": {
    "collapsed": false
   },
   "outputs": [],
   "source": [
    "a = 'banana'\n",
    "b = 'banana'\n",
    "a is b"
   ]
  },
  {
   "cell_type": "markdown",
   "metadata": {},
   "source": [
    "In this example, Python only created one string object, and both ``a`` and ``b`` refer to it.\n",
    "\n",
    "But when you create two lists, you get two objects:"
   ]
  },
  {
   "cell_type": "code",
   "execution_count": null,
   "metadata": {
    "collapsed": false
   },
   "outputs": [],
   "source": [
    "a = [1, 2, 3]\n",
    "b = [1, 2, 3]\n",
    "a is b"
   ]
  },
  {
   "cell_type": "markdown",
   "metadata": {},
   "source": [
    "So the state diagram looks like Figure [fig.list2].\n",
    "\n",
    "<img src='figs/list2.png'/>\n",
    "\n",
    "In this case we would say that the two lists are **equivalent**, because they have the same elements, but not **identical**, because they are not the same object. If two objects are identical, they are also equivalent, but if they are equivalent, they are not necessarily identical.\n",
    "\n",
    "Until now, we have been using “object” and “value” interchangeably, but it is more precise to say that an object has a value. If you execute , you get a list object whose value is a sequence of integers. If another list has the same elements, we say it has the same value, but it is not the same object."
   ]
  },
  {
   "cell_type": "markdown",
   "metadata": {},
   "source": [
    "## Aliasing\n",
    "\n",
    "If ``a`` refers to an object and you assign ``b = a``, then both variables refer to the same object:"
   ]
  },
  {
   "cell_type": "code",
   "execution_count": null,
   "metadata": {
    "collapsed": false
   },
   "outputs": [],
   "source": [
    "a = [1, 2, 3]\n",
    "b = a\n",
    "b is a"
   ]
  },
  {
   "cell_type": "markdown",
   "metadata": {},
   "source": [
    "The state diagram looks like Figure [fig.list3].\n",
    "\n",
    "<img src='figs/list3.png'/>\n",
    "\n",
    "The association of a variable with an object is called a **reference**. In this example, there are two references to the same object.\n",
    "\n",
    "An object with more than one reference has more than one name, so we say that the object is **aliased**.\n",
    "\n",
    "If the aliased object is mutable, changes made with one alias affect the other:"
   ]
  },
  {
   "cell_type": "code",
   "execution_count": null,
   "metadata": {
    "collapsed": false
   },
   "outputs": [],
   "source": [
    "b[0] = 17\n",
    "print a"
   ]
  },
  {
   "cell_type": "markdown",
   "metadata": {},
   "source": [
    "Although this behavior can be useful, it is error-prone. In general, it is safer to avoid aliasing when you are working with mutable objects.\n",
    "\n",
    "For immutable objects like strings, aliasing is not as much of a problem. In this example:"
   ]
  },
  {
   "cell_type": "code",
   "execution_count": null,
   "metadata": {
    "collapsed": true
   },
   "outputs": [],
   "source": [
    "a = 'banana'\n",
    "b = 'banana'"
   ]
  },
  {
   "cell_type": "markdown",
   "metadata": {},
   "source": [
    "It almost never makes a difference whether ``a`` and ``b`` refer to the same string or not."
   ]
  },
  {
   "cell_type": "markdown",
   "metadata": {},
   "source": [
    "## List arguments {#list.arguments}\n",
    "\n",
    "When you pass a list to a function, the function gets a reference to the list. If the function modifies a list parameter, the caller sees the change. For example, `delete_head` removes the first element from a list:"
   ]
  },
  {
   "cell_type": "code",
   "execution_count": null,
   "metadata": {
    "collapsed": true
   },
   "outputs": [],
   "source": [
    "def delete_head(t):\n",
    "    del t[0]"
   ]
  },
  {
   "cell_type": "markdown",
   "metadata": {},
   "source": [
    "Here’s how it is used:"
   ]
  },
  {
   "cell_type": "code",
   "execution_count": null,
   "metadata": {
    "collapsed": false
   },
   "outputs": [],
   "source": [
    "letters = ['a', 'b', 'c']\n",
    "delete_head(letters)\n",
    "print letters"
   ]
  },
  {
   "cell_type": "markdown",
   "metadata": {},
   "source": [
    "The parameter ``t`` and the variable ``letters`` are aliases for the same object. The stack diagram looks like\n",
    "\n",
    "<img src='figs/stack5.png'/>\n",
    "\n",
    "Since the list is shared by two frames, I drew it between them.\n",
    "\n",
    "It is important to distinguish between operations that modify lists and operations that create new lists. For example, the ``append`` method modifies a list, but the ``+`` operator creates a new list:"
   ]
  },
  {
   "cell_type": "code",
   "execution_count": null,
   "metadata": {
    "collapsed": false
   },
   "outputs": [],
   "source": [
    "t1 = [1, 2]\n",
    "t2 = t1.append(3)\n",
    "print t1"
   ]
  },
  {
   "cell_type": "code",
   "execution_count": null,
   "metadata": {
    "collapsed": false
   },
   "outputs": [],
   "source": [
    "print t2"
   ]
  },
  {
   "cell_type": "code",
   "execution_count": null,
   "metadata": {
    "collapsed": false
   },
   "outputs": [],
   "source": [
    "t3 = t1 + [4]\n",
    "print t3"
   ]
  },
  {
   "cell_type": "markdown",
   "metadata": {},
   "source": [
    "This difference is important when you write functions that are supposed to modify lists. For example, this function *does not* delete the head of a list:"
   ]
  },
  {
   "cell_type": "code",
   "execution_count": null,
   "metadata": {
    "collapsed": true
   },
   "outputs": [],
   "source": [
    "def bad_delete_head(t):\n",
    "    t = t[1:]              # WRONG!"
   ]
  },
  {
   "cell_type": "markdown",
   "metadata": {},
   "source": [
    "The slice operator creates a new list and the assignment makes ``t`` refer to it, but none of that has any effect on the list that was passed as an argument.\n",
    "\n",
    "An alternative is to write a function that creates and returns a new list. For example, ``tail`` returns all but the first element of a list:"
   ]
  },
  {
   "cell_type": "code",
   "execution_count": null,
   "metadata": {
    "collapsed": true
   },
   "outputs": [],
   "source": [
    "def tail(t):\n",
    "    return t[1:]"
   ]
  },
  {
   "cell_type": "markdown",
   "metadata": {},
   "source": [
    "This function leaves the original list unmodified. Here’s how it is used:"
   ]
  },
  {
   "cell_type": "code",
   "execution_count": null,
   "metadata": {
    "collapsed": false
   },
   "outputs": [],
   "source": [
    "letters = ['a', 'b', 'c']\n",
    "rest = tail(letters)\n",
    "print rest"
   ]
  },
  {
   "cell_type": "markdown",
   "metadata": {},
   "source": [
    "## Debugging\n",
    "\n",
    "Careless use of lists (and other mutable objects) can lead to long hours of debugging. Here are some common pitfalls and ways to avoid them:\n",
    "\n",
    "1.  Don’t forget that most list methods modify the argument and return\n",
    "    ``None``. This is the opposite of the string methods, which\n",
    "    return a new string and leave the original alone.\n",
    "\n",
    "    If you are used to writing string code like this:\n",
    "\n",
    "        word = word.strip()\n",
    "\n",
    "\n",
    "    It is tempting to write list code like this:\n",
    "\n",
    "        t = t.sort()           # WRONG!\n",
    "\n",
    "    Because ``sort`` returns ``None``, the next\n",
    "    operation you perform with ``t`` is likely to fail.\n",
    "\n",
    "    Before using list methods and operators, you should read the\n",
    "    documentation carefully and then test them in interactive mode. The\n",
    "    methods and operators that lists share with other sequences (like\n",
    "    strings) are documented at [Sequence Types](http://docs.python.org/2/library/stdtypes.html#typesseq). The\n",
    "    methods and operators that only apply to mutable sequences are\n",
    "    documented at [Mutable Sequences](http://docs.python.org/2/library/stdtypes.html#typesseq-mutable).\n",
    "\n",
    "2.  Pick an idiom and stick with it.\n",
    "\n",
    "    Part of the problem with lists is that there are too many ways to do\n",
    "    things. For example, to remove an element from a list, you can use\n",
    "    ``pop``, ``remove``, ``del``, or even a\n",
    "    slice assignment.\n",
    "\n",
    "    To add an element, you can use the ``append`` method or the\n",
    "    ``+`` operator. Assuming that ``t`` is a list and\n",
    "    ``x`` is a list element, these are right:\n",
    "\n",
    "        t.append(x)\n",
    "        t = t + [x]\n",
    "\n",
    "    And these are wrong:\n",
    "\n",
    "        t.append([x])          # WRONG!\n",
    "        t = t.append(x)        # WRONG!\n",
    "        t + [x]                # WRONG!\n",
    "        t = t + x              # WRONG!\n",
    "\n",
    "    Try out each of these examples in interactive mode to make sure you\n",
    "    understand what they do. Notice that only the last one causes a\n",
    "    runtime error; the other three are legal, but they do the wrong\n",
    "    thing.\n",
    "\n",
    "3.  Make copies to avoid aliasing.\n",
    "\n",
    "    If you want to use a method like ``sort`` that modifies the\n",
    "    argument, but you need to keep the original list as well, you can\n",
    "    make a copy.\n",
    "\n",
    "        orig = t[:]\n",
    "        t.sort()\n",
    "\n",
    "    In this example you could also use the built-in function\n",
    "    ``sorted``, which returns a new, sorted list and leaves the\n",
    "    original alone. But in that case you should avoid using\n",
    "    ``sorted`` as a variable name!"
   ]
  },
  {
   "cell_type": "markdown",
   "metadata": {},
   "source": [
    "## Glossary\n",
    "\n",
    "- **list:**\n",
    "\n",
    "    A sequence of values.\n",
    "\n",
    "- **element:**\n",
    "\n",
    "    One of the values in a list (or other sequence), also called items.\n",
    "\n",
    "- **index:**\n",
    "\n",
    "    An integer value that indicates an element in a list.\n",
    "\n",
    "- **nested list:**\n",
    "\n",
    "    A list that is an element of another list.\n",
    "\n",
    "- **list traversal:**\n",
    "\n",
    "    The sequential accessing of each element in a list.\n",
    "\n",
    "- **mapping:**\n",
    "\n",
    "    A relationship in which each element of one set corresponds to an\n",
    "    element of another set. For example, a list is a mapping from\n",
    "    indices to elements.\n",
    "\n",
    "- **accumulator:**\n",
    "\n",
    "    A variable used in a loop to add up or accumulate a result.\n",
    "\n",
    "- **augmented assignment:**\n",
    "\n",
    "    A statement that updates the value of a variable using an operator\n",
    "    like `+=`.\n",
    "\n",
    "- **reduce:**\n",
    "\n",
    "    A processing pattern that traverses a sequence and accumulates the\n",
    "    elements into a single result.\n",
    "\n",
    "- **map:**\n",
    "\n",
    "    A processing pattern that traverses a sequence and performs an\n",
    "    operation on each element.\n",
    "\n",
    "- **filter:**\n",
    "\n",
    "    A processing pattern that traverses a list and selects the elements\n",
    "    that satisfy some criterion.\n",
    "\n",
    "- **object:**\n",
    "\n",
    "    Something a variable can refer to. An object has a type and a value.\n",
    "\n",
    "- **equivalent:**\n",
    "\n",
    "    Having the same value.\n",
    "\n",
    "- **identical:**\n",
    "\n",
    "    Being the same object (which implies equivalence).\n",
    "\n",
    "- **reference:**\n",
    "\n",
    "    The association between a variable and its value.\n",
    "\n",
    "- **aliasing:**\n",
    "\n",
    "    A circumstance where two or more variables refer to the same object.\n",
    "\n",
    "- **delimiter:**\n",
    "\n",
    "    A character or string used to indicate where a string should be\n",
    "    split."
   ]
  },
  {
   "cell_type": "markdown",
   "metadata": {},
   "source": [
    "## Exercises"
   ]
  },
  {
   "cell_type": "markdown",
   "metadata": {},
   "source": [
    "### Exercise 1\n",
    "\n",
    "Write a function called `is_sorted` that takes a list as a parameter and returns ``True`` if the list is sorted in ascending order and ``False`` otherwise. You can assume (as a precondition) that the elements of the list can be compared with the relational operators ``<``, ``>``, etc.\n",
    "\n",
    "For example, `is_sorted([1,2,2])` should return ``True`` and `is_sorted(['b','a'])` should return ``False``."
   ]
  },
  {
   "cell_type": "markdown",
   "metadata": {},
   "source": [
    "### Exercise 2\n",
    "\n",
    "Two words are anagrams if you can rearrange the letters from one to spell the other. Write a function called `is_anagram` that takes two strings and returns ``True`` if they are anagrams."
   ]
  },
  {
   "cell_type": "markdown",
   "metadata": {},
   "source": [
    "<a name='duplicate'></a>\n",
    "\n",
    "### Exercise 3\n",
    "\n",
    "The (so-called) Birthday Paradox:\n",
    "\n",
    "1.  Write a function called `has_duplicates` that takes a list and\n",
    "    returns ``True`` if there is any element that appears more\n",
    "    than once. It should not modify the original list.\n",
    "\n",
    "2.  If there are 23 students in your class, what are the chances that\n",
    "    two of you have the same birthday? You can estimate this probability\n",
    "    by generating random samples of 23 birthdays and checking for\n",
    "    matches. Hint: you can generate random birthdays with the\n",
    "    ``randint`` function in the ``random`` module.\n",
    "\n",
    "You can read about this problem at [Wikipedia](http://en.wikipedia.org/wiki/Birthday_paradox)."
   ]
  },
  {
   "cell_type": "markdown",
   "metadata": {},
   "source": [
    "### Exercise 4\n",
    "\n",
    "Write a function called `remove_duplicates` that takes a list and returns a new list with only the unique elements from the original. Hint: they don’t have to be in the same order."
   ]
  },
  {
   "cell_type": "markdown",
   "metadata": {},
   "source": [
    "### Exercise 5\n",
    "\n",
    "Write a function that reads the file ``words.txt`` and builds a list with one element per word. Write two versions of this function, one using the ``append`` method and the other using the idiom ``t = t + [x]``. Which one takes longer to run? Why?\n",
    "\n",
    "Hint: use the ``time`` module to measure elapsed time."
   ]
  },
  {
   "cell_type": "markdown",
   "metadata": {},
   "source": [
    "<a name='wordlist1'></a>\n",
    "### Exercise 4\n",
    "\n",
    "To check whether a word is in the word list, you could use the ``in`` operator, but it would be slow because it searches through the words in order.\n",
    "\n",
    "Because the words are in alphabetical order, we can speed things up with a bisection search (also known as binary search), which is similar to what you do when you look a word up in the dictionary. You start in the middle and check to see whether the word you are looking for comes before the word in the middle of the list. If so, then you search the first half of the list the same way. Otherwise you search the second half.\n",
    "\n",
    "Either way, you cut the remaining search space in half. If the word list has 113,809 words, it will take about 17 steps to find the word or conclude that it’s not there.\n",
    "\n",
    "Write a function called ``bisect`` that takes a sorted list and a target value and returns the index of the value in the list, if it’s there, or ``None`` if it’s not.\n",
    "\n",
    "Or you could read the documentation of the ``bisect`` module and use that!"
   ]
  },
  {
   "cell_type": "markdown",
   "metadata": {},
   "source": [
    "### Exercise 5\n",
    "\n",
    "Two words are a “reverse pair” if each is the reverse of the other. Write a program that finds all the reverse pairs in the word list.\n",
    "\n",
    "Two words “interlock” if taking alternating letters from each forms a new word. For example, “shoe” and “cold” interlock to form “schooled.” Credit: This exercise is inspired by an example at <http://puzzlers.org>.\n",
    "\n",
    "1.  Write a program that finds all pairs of words that interlock. Hint:\n",
    "    don’t enumerate all pairs!\n",
    "\n",
    "2.  Can you find any words that are three-way interlocked; that is,\n",
    "    every third letter forms a word, starting from the first, second or\n",
    "    third?"
   ]
  }
 ],
 "metadata": {
  "kernelspec": {
   "display_name": "Python 2",
   "language": "python",
   "name": "python2"
  },
  "language_info": {
   "codemirror_mode": {
    "name": "ipython",
    "version": 2
   },
   "file_extension": ".py",
   "mimetype": "text/x-python",
   "name": "python",
   "nbconvert_exporter": "python",
   "pygments_lexer": "ipython2",
   "version": "2.7.10"
  }
 },
 "nbformat": 4,
 "nbformat_minor": 0
}
