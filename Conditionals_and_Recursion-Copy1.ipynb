{
 "cells": [
  {
   "cell_type": "markdown",
   "metadata": {},
   "source": [
    "# Conditionals and Recursion"
   ]
  },
  {
   "cell_type": "markdown",
   "metadata": {},
   "source": [
    "## Modulus operator\n",
    "\n",
    "The **modulus operator** works on integers and yields the remainder when the first operand is divided by the second. In Python, the modulus operator is a percent sign (`%`). The syntax is the same as for other operators:"
   ]
  },
  {
   "cell_type": "code",
   "execution_count": null,
   "metadata": {
    "collapsed": false
   },
   "outputs": [],
   "source": [
    "quotient = 7 / 3\n",
    "print quotient\n",
    "\n",
    "remainder = 7 % 3\n",
    "print remainder"
   ]
  },
  {
   "cell_type": "markdown",
   "metadata": {},
   "source": [
    "So 7 divided by 3 is 2 with 1 left over.\n",
    "\n",
    "The modulus operator turns out to be surprisingly useful. For example, you can check whether one number is divisible by another—if ``x % y`` is zero, then ``x`` is divisible by ``y``.\n",
    "\n",
    "Also, you can extract the right-most digit or digits from a number. For example, ``x % 10`` yields the right-most digit of\n",
    "``x`` (in base 10). Similarly ``x % 100`` yields the last two digits."
   ]
  },
  {
   "cell_type": "markdown",
   "metadata": {},
   "source": [
    "## Boolean expressions\n",
    "\n",
    "A **boolean expression** is an expression that is either true or false. The following examples use the operator ``==``, which compares two operands and produces ``True`` if they are equal and ``False`` otherwise:"
   ]
  },
  {
   "cell_type": "code",
   "execution_count": null,
   "metadata": {
    "collapsed": false
   },
   "outputs": [],
   "source": [
    "5 == 5"
   ]
  },
  {
   "cell_type": "code",
   "execution_count": null,
   "metadata": {
    "collapsed": false
   },
   "outputs": [],
   "source": [
    "5 == 6"
   ]
  },
  {
   "cell_type": "markdown",
   "metadata": {},
   "source": [
    "``True`` and ``False`` are special values that belong to the type ``bool``; they are not strings:"
   ]
  },
  {
   "cell_type": "code",
   "execution_count": null,
   "metadata": {
    "collapsed": false
   },
   "outputs": [],
   "source": [
    "type(True)"
   ]
  },
  {
   "cell_type": "code",
   "execution_count": null,
   "metadata": {
    "collapsed": false
   },
   "outputs": [],
   "source": [
    "type(False)"
   ]
  },
  {
   "cell_type": "markdown",
   "metadata": {},
   "source": [
    "The ``==`` operator is one of the **relational operators**; the others are:"
   ]
  },
  {
   "cell_type": "code",
   "execution_count": null,
   "metadata": {
    "collapsed": false
   },
   "outputs": [],
   "source": [
    "x = 4\n",
    "y = 5\n",
    "print x != y               # x is not equal to y\n",
    "print x > y                # x is greater than y\n",
    "print x < y                # x is less than y\n",
    "print x >= y               # x is greater than or equal to y\n",
    "print x <= y               # x is less than or equal to y"
   ]
  },
  {
   "cell_type": "markdown",
   "metadata": {},
   "source": [
    "Although these operations are probably familiar to you, the Python symbols are different from the mathematical symbols. A common error is to use a single equal sign (``=``) instead of a double equal sign (``==``). Remember that ``=`` is an assignment operator and ``==`` is a relational operator. There is no such thing as ``=\\<`` or ``=\\>``."
   ]
  },
  {
   "cell_type": "markdown",
   "metadata": {},
   "source": [
    "## Logical operators\n",
    "\n",
    "There are three **logical operators**: ``and``,\n",
    "``or``, and ``not``. The semantics (meaning) of these operators is similar to their meaning in English. For example,\n",
    "``x > 0 and x < 10`` is true only if ``x`` is greater than 0 *and* less than 10.\n",
    "\n",
    "``n%2 == 0 or n%3 == 0`` is true if *either* of the conditions is true, that is, if the number is divisible by 2 *or* 3.\n",
    "\n",
    "Finally, the ``not`` operator negates a boolean expression, so\n",
    "``not (x > y)`` is true if ``x > y`` is false, that is, if ``x`` is less than or equal to ``y``.\n",
    "\n",
    "Strictly speaking, the operands of the logical operators should be boolean expressions, but Python is not very strict. Any nonzero number is interpreted as “true.”"
   ]
  },
  {
   "cell_type": "code",
   "execution_count": null,
   "metadata": {
    "collapsed": false
   },
   "outputs": [],
   "source": [
    "17 and True"
   ]
  },
  {
   "cell_type": "markdown",
   "metadata": {},
   "source": [
    "This flexibility can be useful, but there are some subtleties to it that might be confusing."
   ]
  },
  {
   "cell_type": "markdown",
   "metadata": {},
   "source": [
    "## Conditional execution\n",
    "\n",
    "In order to write useful programs, we almost always need the ability to check conditions and change the behavior of the program accordingly. **Conditional statements** give us this ability. The simplest form is the ``if`` statement:"
   ]
  },
  {
   "cell_type": "code",
   "execution_count": null,
   "metadata": {
    "collapsed": false
   },
   "outputs": [],
   "source": [
    "x = 1\n",
    "if x > 0:\n",
    "    print 'x is positive'"
   ]
  },
  {
   "cell_type": "markdown",
   "metadata": {},
   "source": [
    "The boolean expression after ``if`` is called the **condition**. If it is true, then the indented statement gets executed. If not, nothing happens.\n",
    "\n",
    "``if`` statements have the same structure as function definitions: a header followed by an indented body. Statements like this are called **compound statements**.\n",
    "\n",
    "There is no limit on the number of statements that can appear in the body, but there has to be at least one. Occasionally, it is useful to have a body with no statements (usually as a place keeper for code you haven’t written yet). In that case, you can use the ``pass`` statement, which does nothing."
   ]
  },
  {
   "cell_type": "code",
   "execution_count": null,
   "metadata": {
    "collapsed": true
   },
   "outputs": [],
   "source": [
    "if x < 0:\n",
    "    pass          # need to handle negative values!"
   ]
  },
  {
   "cell_type": "markdown",
   "metadata": {},
   "source": [
    "## Alternative execution\n",
    "\n",
    "A second form of the ``if`` statement is **alternative execution**, in which there are two possibilities and the condition determines which one gets executed. The syntax looks like this:"
   ]
  },
  {
   "cell_type": "code",
   "execution_count": null,
   "metadata": {
    "collapsed": false
   },
   "outputs": [],
   "source": [
    "x = 5\n",
    "if x%2 == 0:\n",
    "    print 'x is even'\n",
    "else:\n",
    "    print 'x is odd'"
   ]
  },
  {
   "cell_type": "markdown",
   "metadata": {},
   "source": [
    "If the remainder when ``x`` is divided by 2 is 0, then we know that ``x`` is even, and the program displays a message to that effect. If the condition is false, the second set of statements is executed. Since the condition must be true or false, exactly one of the alternatives will be executed. The alternatives are called **branches**, because they are branches in the flow of execution."
   ]
  },
  {
   "cell_type": "markdown",
   "metadata": {},
   "source": [
    "## Chained conditionals\n",
    "\n",
    "Sometimes there are more than two possibilities and we need more than two branches. One way to express a computation like that is a **chained conditional**:"
   ]
  },
  {
   "cell_type": "code",
   "execution_count": null,
   "metadata": {
    "collapsed": false
   },
   "outputs": [],
   "source": [
    "x = 1\n",
    "y = 4\n",
    "if x < y:\n",
    "    print 'x is less than y'\n",
    "elif x > y:\n",
    "    print 'x is greater than y'\n",
    "else:\n",
    "    print 'x and y are equal'"
   ]
  },
  {
   "cell_type": "markdown",
   "metadata": {},
   "source": [
    "``elif`` is an abbreviation of “else if.” Again, exactly one branch will be executed. There is no limit on the number of ``elif`` statements. If there is an ``else`` clause, it has to be at the end, but there doesn’t have to be one."
   ]
  },
  {
   "cell_type": "code",
   "execution_count": null,
   "metadata": {
    "collapsed": false
   },
   "outputs": [],
   "source": [
    "choice = 'a'\n",
    "if choice == 'a':\n",
    "    print 'a'\n",
    "elif choice == 'b':\n",
    "    print 'b'\n",
    "elif choice == 'c':\n",
    "    print 'c'\n",
    "elif choice != 'd':\n",
    "    print 'not d'"
   ]
  },
  {
   "cell_type": "markdown",
   "metadata": {},
   "source": [
    "Each condition is checked in order. If the first is false, the next is checked, and so on. If one of them is true, the corresponding branch executes, and the statement ends. Even if more than one condition is true, only the first true branch executes."
   ]
  },
  {
   "cell_type": "markdown",
   "metadata": {},
   "source": [
    "## Nested conditionals\n",
    "\n",
    "One conditional can also be nested within another. We could have written the trichotomy example like this:"
   ]
  },
  {
   "cell_type": "code",
   "execution_count": null,
   "metadata": {
    "collapsed": false
   },
   "outputs": [],
   "source": [
    "x = 4\n",
    "y = 2\n",
    "if x == y:\n",
    "    print 'x and y are equal'\n",
    "else:\n",
    "    if x < y:\n",
    "        print 'x is less than y'\n",
    "    else:\n",
    "        print 'x is greater than y'"
   ]
  },
  {
   "cell_type": "markdown",
   "metadata": {},
   "source": [
    "The outer conditional contains two branches. The first branch contains a simple statement. The second branch contains another ``if`` statement, which has two branches of its own. Those two branches are both simple statements, although they could have been conditional statements as well.\n",
    "\n",
    "Although the indentation of the statements makes the structure apparent, **nested conditionals** become difficult to read very quickly. In general, it is a good idea to avoid them when you can.\n",
    "\n",
    "Logical operators often provide a way to simplify nested conditional statements. For example, we can rewrite the following code using a single conditional:"
   ]
  },
  {
   "cell_type": "code",
   "execution_count": null,
   "metadata": {
    "collapsed": false
   },
   "outputs": [],
   "source": [
    "x = 6\n",
    "if 0 < x:\n",
    "    if x < 10:\n",
    "        print 'x is a positive single-digit number.'"
   ]
  },
  {
   "cell_type": "markdown",
   "metadata": {},
   "source": [
    "The ``print`` statement is executed only if we make it past both conditionals, so we can get the same effect with the\n",
    "``and`` operator:"
   ]
  },
  {
   "cell_type": "code",
   "execution_count": null,
   "metadata": {
    "collapsed": false
   },
   "outputs": [],
   "source": [
    "x = 7\n",
    "if 0 < x and x < 10:\n",
    "    print 'x is a positive single-digit number.'"
   ]
  },
  {
   "cell_type": "markdown",
   "metadata": {},
   "source": [
    "## Recursion\n",
    "\n",
    "It is legal for one function to call another; it is also legal for a function to call itself. It may not be obvious why that is a good thing, but it turns out to be one of the most magical things a program can do. For example, look at the following function:"
   ]
  },
  {
   "cell_type": "code",
   "execution_count": null,
   "metadata": {
    "collapsed": true
   },
   "outputs": [],
   "source": [
    "def countdown(n):\n",
    "    if n <= 0:\n",
    "        print 'Blastoff!'\n",
    "    else:\n",
    "        print n\n",
    "        countdown(n-1)"
   ]
  },
  {
   "cell_type": "markdown",
   "metadata": {},
   "source": [
    "If ``n`` is 0 or negative, it outputs the word, “Blastoff!” Otherwise, it outputs ``n`` and then calls a function named\n",
    "``countdown``—itself—passing ``n-1`` as an argument.\n",
    "\n",
    "What happens if we call this function like this?"
   ]
  },
  {
   "cell_type": "code",
   "execution_count": null,
   "metadata": {
    "collapsed": false
   },
   "outputs": [],
   "source": [
    "countdown(3)"
   ]
  },
  {
   "cell_type": "markdown",
   "metadata": {},
   "source": [
    "The execution of ``countdown`` begins with ``n=3``, and since ``n`` is greater than 0, it outputs the value 3, and then calls itself...\n",
    "\n",
    "> The execution of ``countdown`` begins with ``n=2``,\n",
    "> and since ``n`` is greater than 0, it outputs the value 2,\n",
    "> and then calls itself...\n",
    ">\n",
    "> > The execution of ``countdown`` begins with\n",
    "> > ``n=1``, and since ``n`` is greater than 0, it\n",
    "> > outputs the value 1, and then calls itself...\n",
    "> >\n",
    "> > > The execution of ``countdown`` begins with\n",
    "> > > ``n=0``, and since ``n`` is not greater than 0,\n",
    "> > > it outputs the word, “Blastoff!” and then returns.\n",
    "> >\n",
    "> > The ``countdown`` that got ``n=1`` returns.\n",
    ">\n",
    "> The ``countdown`` that got ``n=2`` returns.\n",
    "\n",
    "The ``countdown`` that got ``n=3`` returns.\n",
    "\n",
    "And then you’re back in `__main__`. So, the total output looks like this:\n",
    "\n",
    "    3\n",
    "    2\n",
    "    1\n",
    "    Blastoff!\n",
    "\n",
    "A function that calls itself is **recursive**; the process is called **recursion**.\n",
    "\n",
    "As another example, we can write a function that prints a string\n",
    "``n`` times."
   ]
  },
  {
   "cell_type": "code",
   "execution_count": null,
   "metadata": {
    "collapsed": true
   },
   "outputs": [],
   "source": [
    "def print_n(s, n):\n",
    "    if n <= 0:\n",
    "        return\n",
    "    print s\n",
    "    print_n(s, n-1)"
   ]
  },
  {
   "cell_type": "markdown",
   "metadata": {},
   "source": [
    "If ``n <= 0`` the ``return`` statement exits the function. The flow of execution immediately returns to the caller, and the remaining lines of the function are not executed.\n",
    "\n",
    "The rest of the function is similar to ``countdown``: if\n",
    "``n`` is greater than 0, it displays ``s`` and then calls itself to display ``s`` $n-1$ additional times. So the number of lines of output is ``1 + (n - 1)``, which adds up to\n",
    "``n``.\n",
    "\n",
    "For simple examples like this, it is probably easier to use a\n",
    "``for`` loop. But we will see examples later that are hard to write with a ``for`` loop and easy to write with recursion, so it is good to start early."
   ]
  },
  {
   "cell_type": "markdown",
   "metadata": {},
   "source": [
    "## Stack diagrams for recursive functions\n",
    "\n",
    "We have used a stack diagram to represent the state of a program during a function call. The same kind of diagram can help interpret a recursive function.\n",
    "\n",
    "Every time a function gets called, Python creates a new function frame, which contains the function’s local variables and parameters. For a recursive function, there might be more than one frame on the stack at the same time.\n",
    "\n",
    "The stack diagram for ``countdown`` called with ``n = 3`` looks like:\n",
    "\n",
    "<img src='figs/stack2.png'/>\n",
    "\n",
    "As usual, the top of the stack is the frame for `__main__`. It is empty because we did not create any variables in `__main__` or pass any arguments to it.\n",
    "\n",
    "The four ``countdown`` frames have different values for the parameter ``n``. The bottom of the stack, where\n",
    "``n=0``, is called the **base case**. It does not make a recursive call, so there are no more frames.\n",
    "\n",
    "Draw a stack diagram for `print_n` called with `s = 'Hello'` and\n",
    "``n=2``.\n",
    "\n",
    "Write a function called `do_n` that takes a function object and a number, ``n``, as arguments, and that calls the given function\n",
    "``n`` times."
   ]
  },
  {
   "cell_type": "markdown",
   "metadata": {},
   "source": [
    "## Infinite recursion\n",
    "\n",
    "If a recursion never reaches a base case, it goes on making recursive calls forever, and the program never terminates. This is known as **infinite recursion**, and it is generally not a good idea. Here is a minimal program with an infinite recursion:"
   ]
  },
  {
   "cell_type": "code",
   "execution_count": null,
   "metadata": {
    "collapsed": false
   },
   "outputs": [],
   "source": [
    "def recurse():\n",
    "    recurse()\n",
    "recurse()"
   ]
  },
  {
   "cell_type": "markdown",
   "metadata": {},
   "source": [
    "Thankfully, Python reports an error message when the maximum recursion depth is reached.  This traceback is a little bigger than the one we saw in the previous chapter. When the error occurs, there are 1000 ``recurse`` frames on the stack!"
   ]
  },
  {
   "cell_type": "markdown",
   "metadata": {},
   "source": [
    "## Keyboard input\n",
    "\n",
    "The programs we have written so far are a bit rude in the sense that they accept no input from the user. They just do the same thing every time.\n",
    "\n",
    "Python 2 provides a built-in function called ``raw_input`` that gets input from the keyboard. In Python 3, it is called ``input``. When this function is called, the program stops and waits for the user to type something. When the user presses ``Return`` or ``Enter``, the program resumes and `raw_input` returns what the user typed as a string."
   ]
  },
  {
   "cell_type": "code",
   "execution_count": null,
   "metadata": {
    "collapsed": false
   },
   "outputs": [],
   "source": [
    "text = raw_input()\n",
    "print text"
   ]
  },
  {
   "cell_type": "markdown",
   "metadata": {},
   "source": [
    "Before getting input from the user, it is a good idea to print a prompt telling the user what to input. `raw_input` can take a prompt as an argument:"
   ]
  },
  {
   "cell_type": "code",
   "execution_count": null,
   "metadata": {
    "collapsed": false
   },
   "outputs": [],
   "source": [
    "name = raw_input('What...is your name?\\n')\n",
    "print name"
   ]
  },
  {
   "cell_type": "markdown",
   "metadata": {},
   "source": [
    "The sequence `\\n` at the end of the prompt represents a **newline**, which is a special character that causes a line break. That’s why the user’s input appears below the prompt.\n",
    "\n",
    "If you expect the user to type an integer, you can try to convert the return value to ``int``:"
   ]
  },
  {
   "cell_type": "code",
   "execution_count": null,
   "metadata": {
    "collapsed": false
   },
   "outputs": [],
   "source": [
    "prompt = 'What...is the airspeed velocity of an unladen swallow?\\n'\n",
    "speed = raw_input(prompt)\n",
    "int(speed)"
   ]
  },
  {
   "cell_type": "markdown",
   "metadata": {},
   "source": [
    "But if the user types something other than a string of digits, you get an error:"
   ]
  },
  {
   "cell_type": "markdown",
   "metadata": {},
   "source": [
    "We will see how to handle this kind of error later."
   ]
  },
  {
   "cell_type": "markdown",
   "metadata": {},
   "source": [
    "## Debugging\n",
    "\n",
    "The traceback Python displays when an error occurs contains a lot of information, but it can be overwhelming, especially when there are many frames on the stack. The most useful parts are usually:\n",
    "\n",
    "-   What kind of error it was, and\n",
    "\n",
    "-   Where it occurred.\n",
    "\n",
    "Syntax errors are usually easy to find, but there are a few gotchas. Whitespace errors can be tricky because spaces and tabs are invisible and we are used to ignoring them."
   ]
  },
  {
   "cell_type": "code",
   "execution_count": null,
   "metadata": {
    "collapsed": false
   },
   "outputs": [],
   "source": [
    "x = 5\n",
    " y = 6"
   ]
  },
  {
   "cell_type": "markdown",
   "metadata": {},
   "source": [
    "In this example, the problem is that the second line is indented by one space. But the error message points to ``y``, which is misleading. In general, error messages indicate where the problem was discovered, but the actual error might be earlier in the code, sometimes on a previous line.\n",
    "\n",
    "The same is true of runtime errors.\n",
    "\n",
    "Suppose you are trying to compute a signal-to-noise ratio in decibels. The formula is $SNR_{db} = 10 \\log_{10} (P_{signal} / P_{noise})$. In Python, you might write something like this:"
   ]
  },
  {
   "cell_type": "code",
   "execution_count": null,
   "metadata": {
    "collapsed": false
   },
   "outputs": [],
   "source": [
    "import math\n",
    "signal_power = 9\n",
    "noise_power = 10\n",
    "ratio = signal_power / noise_power\n",
    "decibels = 10 * math.log10(ratio)\n",
    "print decibels"
   ]
  },
  {
   "cell_type": "markdown",
   "metadata": {},
   "source": [
    "When run it in Python 2, you get an error message.\n",
    "\n",
    "The error message indicates line 5, but there is nothing wrong with that line. To find the real error, it might be useful to print the value of ``ratio``, which turns out to be 0. The problem is in line 4, because dividing two integers does floor division. The solution is to represent signal power and noise power with floating-point values.\n",
    "\n",
    "In general, error messages tell you where the problem was discovered, but that is often not where it was caused.\n",
    "\n",
    "In Python 3, this example does not cause an error; the division operator performs floating-point division even with integer operands."
   ]
  },
  {
   "cell_type": "markdown",
   "metadata": {},
   "source": [
    "## Glossary\n",
    "\n",
    "- **modulus operator:**\n",
    "\n",
    "    An operator, denoted with a percent sign (``%``), that\n",
    "    works on integers and yields the remainder when one number is\n",
    "    divided by another.\n",
    "\n",
    "- **boolean expression:**\n",
    "\n",
    "    An expression whose value is either ``True`` or\n",
    "    ``False``.\n",
    "\n",
    "- **relational operator:**\n",
    "\n",
    "    One of the operators that compares its operands: ``==``,\n",
    "    ``!=``, ``\\>``, ``\\<``, ``\\>=``,\n",
    "    and ``\\<=``.\n",
    "\n",
    "- **logical operator:**\n",
    "\n",
    "    One of the operators that combines boolean expressions:\n",
    "    ``and``, ``or``, and ``not``.\n",
    "\n",
    "- **conditional statement:**\n",
    "\n",
    "    A statement that controls the flow of execution depending on some\n",
    "    condition.\n",
    "\n",
    "- **condition:**\n",
    "\n",
    "    The boolean expression in a conditional statement that determines\n",
    "    which branch is executed.\n",
    "\n",
    "- **compound statement:**\n",
    "\n",
    "    A statement that consists of a header and a body. The header ends\n",
    "    with a colon (:). The body is indented relative to the header.\n",
    "\n",
    "- **branch:**\n",
    "\n",
    "    One of the alternative sequences of statements in a conditional\n",
    "    statement.\n",
    "\n",
    "- **chained conditional:**\n",
    "\n",
    "    A conditional statement with a series of alternative branches.\n",
    "\n",
    "- **nested conditional:**\n",
    "\n",
    "    A conditional statement that appears in one of the branches of\n",
    "    another conditional statement.\n",
    "\n",
    "- **recursion:**\n",
    "\n",
    "    The process of calling the function that is currently executing.\n",
    "\n",
    "- **base case:**\n",
    "\n",
    "    A conditional branch in a recursive function that does not make a\n",
    "    recursive call.\n",
    "\n",
    "- **infinite recursion:**\n",
    "\n",
    "    A recursion that doesn’t have a base case, or never reaches it.\n",
    "    Eventually, an infinite recursion causes a runtime error."
   ]
  },
  {
   "cell_type": "markdown",
   "metadata": {},
   "source": [
    "## Exercises"
   ]
  },
  {
   "cell_type": "markdown",
   "metadata": {},
   "source": [
    "### Exercise 1\n",
    "Fermat’s Last Theorem says that there are no positive integers $a$, $b$, and $c$ such that\n",
    "\n",
    "$$a^n + b^n = c^n$$ for any values of $n$ greater than 2.\n",
    "\n",
    "1.  Write a function named `check_fermat` that takes four\n",
    "    parameters—``a``, ``b``, ``c`` and\n",
    "    ``n``—and that checks to see if Fermat’s theorem holds. If\n",
    "    $n$ is greater than 2 and it turns out to be true that\n",
    "\n",
    "    $$a^n + b^n = c^n$$ the program should print, “Holy smokes, Fermat\n",
    "    was wrong!” Otherwise the program should print, “No, that doesn’t\n",
    "    work.”\n",
    "\n",
    "2.  Write a function that prompts the user to input values for\n",
    "    ``a``, ``b``, ``c`` and ``n``,\n",
    "    converts them to integers, and uses `check_fermat` to check whether\n",
    "    they violate Fermat’s theorem."
   ]
  },
  {
   "cell_type": "markdown",
   "metadata": {},
   "source": [
    "### Exercise 2\n",
    "If you are given three sticks, you may or may not be able to arrange them in a triangle. For example, if one of the sticks is 12 inches long and the other two are one inch long, it is clear that you will not be able to get the short sticks to meet in the middle. For any three lengths, there is a simple test to see if it is possible to form a triangle:\n",
    "\n",
    "> If any of the three lengths is greater than the sum of the other two,\n",
    "> then you cannot form a triangle. Otherwise, you can. (If the sum of\n",
    "> two lengths equals the third, they form what is called a “degenerate”\n",
    "> triangle.)\n",
    "\n",
    "1.  Write a function named `is_triangle` that takes three integers as\n",
    "    arguments, and that prints either “Yes” or “No,” depending on\n",
    "    whether you can or cannot form a triangle from sticks with the given\n",
    "    lengths.\n",
    "\n",
    "2.  Write a function that prompts the user to input three stick lengths,\n",
    "    converts them to integers, and uses `is_triangle` to check whether\n",
    "    sticks with the given lengths can form a triangle."
   ]
  }
 ],
 "metadata": {
  "kernelspec": {
   "display_name": "Python 2",
   "language": "python",
   "name": "python2"
  },
  "language_info": {
   "codemirror_mode": {
    "name": "ipython",
    "version": 2
   },
   "file_extension": ".py",
   "mimetype": "text/x-python",
   "name": "python",
   "nbconvert_exporter": "python",
   "pygments_lexer": "ipython2",
   "version": "2.7.10"
  }
 },
 "nbformat": 4,
 "nbformat_minor": 0
}
