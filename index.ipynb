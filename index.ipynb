{
 "cells": [
  {
   "cell_type": "markdown",
   "metadata": {},
   "source": [
    "# Index\n",
    "\n",
    "[A](#A) [B](#B) [C](#C) [D](#D) [E](#E) [F](#F) [G](#G) [H](#H) [I](#I) [J](#J) [K](#K) [L](#L) [M](#M) [N](#N) [O](#O) [P](#P) [Q](#Q) [R](#R) [S](#S) [T](#T) [U](#U) [V](#V) [W](#W) [X](#X) [Y](#Y) [Z](#Z)"
   ]
  },
  {
   "cell_type": "markdown",
   "metadata": {},
   "source": [
    "<a name='A'></a>\n",
    "## A\n",
    "\n",
    "- Argument (function) [1](functions.ipynb#arg), [2](functions.ipynb#arg1)"
   ]
  },
  {
   "cell_type": "markdown",
   "metadata": {},
   "source": [
    "<a name='C'></a>\n",
    "## C\n",
    "\n",
    "- Composition [1](functions.ipynb#composition)\n",
    "- Compiled languages [1](the_way_of_the_program.ipynb#compile)"
   ]
  },
  {
   "cell_type": "markdown",
   "metadata": {},
   "source": [
    "<a name='D'></a>\n",
    "## D\n",
    "\n",
    "- `def` keyword [1](functions.ipynb#def)\n",
    "- Dot operator [1](functions.ipynb#dot_notation)"
   ]
  },
  {
   "cell_type": "markdown",
   "metadata": {},
   "source": [
    "<a name='E'></a>\n",
    "## E\n",
    "\n",
    "- Exception [1](functions.ipynb#exception)"
   ]
  },
  {
   "cell_type": "markdown",
   "metadata": {},
   "source": [
    "<a name='F'></a>\n",
    "## F\n",
    "\n",
    "- `float` (builtin function) [1](functions.ipynb#float)\n",
    "- Flow (program) [1](the_way_of_the_program.ipynb#flow)\n",
    "- Function [1](functions.ipynb#funcchap)\n",
    "- Function call [1](functions.ipynb#function)\n",
    "- Function object [1](functions.ipynb#funobj)"
   ]
  },
  {
   "cell_type": "markdown",
   "metadata": {},
   "source": [
    "<a name='H'></a>\n",
    "## H\n",
    "\n",
    "- Header (function) [1](functions.ipynb#header)\n",
    "- High level language [1](the_way_of_the_program.ipynb#highlev)"
   ]
  },
  {
   "cell_type": "markdown",
   "metadata": {},
   "source": [
    "<a name='I'></a>\n",
    "## I\n",
    "\n",
    "- Indentation [1](functions.ipynb#indentation)\n",
    "- `int` (builtin function) [1](functions.ipynb#int)\n",
    "- Interactive mode [1](the_way_of_the_program#interact)\n",
    "- Interpreted languages [1](the_way_of_the_program#interp)\n",
    "- Interpreter [1](the_way_of_the_program#interp)"
   ]
  },
  {
   "cell_type": "markdown",
   "metadata": {},
   "source": [
    "<a name='L'></a>\n",
    "## L\n",
    "\n",
    "- Local variables [1](functions.ipynb#local)\n",
    "- Low level language [1](the_way_of_the_program.ipynb#lowlev)"
   ]
  },
  {
   "cell_type": "markdown",
   "metadata": {},
   "source": [
    "<a name='M'></a>\n",
    "## M\n",
    "\n",
    "- `math` module [1](functions.ipynb#math)\n",
    "- Module [1](functions.ipynb#module)"
   ]
  },
  {
   "cell_type": "markdown",
   "metadata": {},
   "source": [
    "<a name='O'></a>\n",
    "## O\n",
    "\n",
    "- Object code [1](the_way_of_the_program.ipynb#object)"
   ]
  },
  {
   "cell_type": "markdown",
   "metadata": {},
   "source": [
    "<a name='P'></a>\n",
    "\n",
    "## P\n",
    "\n",
    "- Parameters [1](the_way_of_the_program.ipynb#params)\n",
    "- Print function [1](the_way_of_the_program.ipynb#print_fun)\n",
    "- Print statement [1](the_way_of_the_program.ipynb#print_stmt)\n",
    "- Program (computer) [1](the_way_of_the_program.ipynb#program)\n",
    "- Prompt (python) [1](the_way_of_the_program.ipynb#prompt)"
   ]
  },
  {
   "cell_type": "markdown",
   "metadata": {},
   "source": [
    "<a name='Q'></a>\n",
    "## Q\n",
    "\n",
    "- Quotation marks [1](functions.ipynb#quotation_marks)"
   ]
  },
  {
   "cell_type": "markdown",
   "metadata": {},
   "source": [
    "<a name='R'></a>\n",
    "## R\n",
    "\n",
    "- Return value [1](functions.ipynb#retval)"
   ]
  },
  {
   "cell_type": "markdown",
   "metadata": {},
   "source": [
    "<a name='S'></a>\n",
    "## S\n",
    "\n",
    "- Script [1](the_way_of_the_program#script1)\n",
    "- Script mode [1](the_way_of_the_program#script)\n",
    "- Source code [1](the_way_of_the_program.ipynb#source)\n",
    "- `str` (builtin function) [1](functions.ipynb#str)\n",
    "- Suite [1](functions.ipynb#suite)"
   ]
  },
  {
   "cell_type": "markdown",
   "metadata": {},
   "source": [
    "<a name='T'></a>\n",
    "## T\n",
    "\n",
    "- Traceback [1](functions.ipynb#traceback)\n",
    "- `type` (builtin function) [1](functions.ipynb#type)"
   ]
  },
  {
   "cell_type": "markdown",
   "metadata": {},
   "source": [
    "<a name='U'></a>\n",
    "## U\n",
    "\n",
    "- User defined functions [1](functions.ipynb#userfun)"
   ]
  }
 ],
 "metadata": {
  "kernelspec": {
   "display_name": "Python 2",
   "language": "python",
   "name": "python2"
  },
  "language_info": {
   "codemirror_mode": {
    "name": "ipython",
    "version": 2
   },
   "file_extension": ".py",
   "mimetype": "text/x-python",
   "name": "python",
   "nbconvert_exporter": "python",
   "pygments_lexer": "ipython2",
   "version": "2.7.10"
  }
 },
 "nbformat": 4,
 "nbformat_minor": 0
}
