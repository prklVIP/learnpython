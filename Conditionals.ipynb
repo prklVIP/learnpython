{
 "cells": [
  {
   "cell_type": "markdown",
   "metadata": {},
   "source": [
    "# Conditionals"
   ]
  },
  {
   "cell_type": "markdown",
   "metadata": {},
   "source": [
    "## Boolean expressions\n",
    "\n",
    "A <a href='#boolexp'>boolean expression</a> is an expression that is either true or false. The following examples use the operator ``==``, which compares two operands and produces ``True`` if they are equal and ``False`` otherwise:"
   ]
  },
  {
   "cell_type": "code",
   "execution_count": null,
   "metadata": {
    "collapsed": false
   },
   "outputs": [],
   "source": [
    "5 == 5"
   ]
  },
  {
   "cell_type": "code",
   "execution_count": null,
   "metadata": {
    "collapsed": false
   },
   "outputs": [],
   "source": [
    "5 == 6"
   ]
  },
  {
   "cell_type": "markdown",
   "metadata": {},
   "source": [
    "``True`` and ``False`` are special values that belong to the type ``bool``; they are not strings:"
   ]
  },
  {
   "cell_type": "code",
   "execution_count": null,
   "metadata": {
    "collapsed": false
   },
   "outputs": [],
   "source": [
    "type(True)"
   ]
  },
  {
   "cell_type": "code",
   "execution_count": null,
   "metadata": {
    "collapsed": false
   },
   "outputs": [],
   "source": [
    "type(False)"
   ]
  },
  {
   "cell_type": "markdown",
   "metadata": {},
   "source": [
    "The ``==`` operator is one of the <a href='#relop'>relational operators</a>; the others are:"
   ]
  },
  {
   "cell_type": "code",
   "execution_count": null,
   "metadata": {
    "collapsed": false
   },
   "outputs": [],
   "source": [
    "x = 4\n",
    "y = 5\n",
    "print x != y               # x is not equal to y\n",
    "print x > y                # x is greater than y\n",
    "print x < y                # x is less than y\n",
    "print x >= y               # x is greater than or equal to y\n",
    "print x <= y               # x is less than or equal to y"
   ]
  },
  {
   "cell_type": "markdown",
   "metadata": {},
   "source": [
    "Although these operations are probably familiar to you, the Python symbols are different from the mathematical symbols. A common error is to use a single equal sign (``=``) instead of a double equal sign (``==``). Remember that ``=`` is an assignment operator and ``==`` is a relational operator. There is no such thing as ``=<`` or ``=>``."
   ]
  },
  {
   "cell_type": "markdown",
   "metadata": {},
   "source": [
    "## Logical operators\n",
    "\n",
    "There are three <a href='#logiop'>logical operators</a>: ``and``,\n",
    "``or``, and ``not``. The semantics (meaning) of these operators is similar to their meaning in English. For example,\n",
    "``x > 0 and x < 10`` is true only if ``x`` is greater than 0 *and* less than 10.\n",
    "\n",
    "``n%2 == 0 or n%3 == 0`` is true if *either* of the conditions is true, that is, if the number is divisible by 2 *or* 3.\n",
    "\n",
    "Finally, the ``not`` operator negates a boolean expression, so\n",
    "``not (x > y)`` is true if ``x > y`` is false, that is, if ``x`` is less than or equal to ``y``.\n",
    "\n",
    "Strictly speaking, the operands of the logical operators should be boolean expressions, but Python is not very strict. Any nonzero number is interpreted as “true.”"
   ]
  },
  {
   "cell_type": "code",
   "execution_count": null,
   "metadata": {
    "collapsed": false
   },
   "outputs": [],
   "source": [
    "17 and True"
   ]
  },
  {
   "cell_type": "markdown",
   "metadata": {},
   "source": [
    "This flexibility can be useful, but there are some subtleties to it that might be confusing."
   ]
  },
  {
   "cell_type": "markdown",
   "metadata": {},
   "source": [
    "## Conditional execution\n",
    "\n",
    "In order to write useful programs, we almost always need the ability to check conditions and change the behavior of the program accordingly. <a href='#condstmt'>Conditional statements</a> give us this ability. The simplest form is the ``if`` statement:"
   ]
  },
  {
   "cell_type": "code",
   "execution_count": null,
   "metadata": {
    "collapsed": false
   },
   "outputs": [],
   "source": [
    "x = 1\n",
    "if x > 0:\n",
    "    print 'x is positive'"
   ]
  },
  {
   "cell_type": "markdown",
   "metadata": {},
   "source": [
    "The boolean expression after ``if`` is called the <a href='#cond'>condition</a>. If it is true, then the indented statement, called the `suite`, gets executed. If not, nothing happens.\n",
    "\n",
    "The structure of the ``if`` statement is an example of a <a href='#compstmt'>compound statement</a>.  Compound statements consists of one or more ‘clauses.’ A clause consists of a <a href='#head'>header</a> and a <a href='#suite'>suite</a>. The clause headers of a particular compound statement are *all at the same indentation level*. Each clause header begins with a uniquely identifying keyword and ends with a colon. A suite is a group of statements controlled by a clause.  For example:\n",
    "\n",
    "    header:\n",
    "        suite\n",
    "\n",
    "A `suite` can be one or more indented statements on subsequent lines.  See [Indentation](Indentation.ipynb) for details on indentation in Python.\n",
    "\n",
    "There is no limit on the number of statements that can appear in the suite, but there has to be at least one. Occasionally, it is useful to have a body with no statements (usually as a place keeper for code you haven’t written yet). In that case, you can use the ``pass`` statement, which does nothing."
   ]
  },
  {
   "cell_type": "code",
   "execution_count": null,
   "metadata": {
    "collapsed": true
   },
   "outputs": [],
   "source": [
    "if x < 0:\n",
    "    pass          # need to handle negative values!"
   ]
  },
  {
   "cell_type": "markdown",
   "metadata": {},
   "source": [
    "## Alternative execution\n",
    "\n",
    "A second form of the ``if`` statement is *alternative execution*, in which there are two possibilities and the condition determines which one gets executed. The syntax looks like this:"
   ]
  },
  {
   "cell_type": "code",
   "execution_count": null,
   "metadata": {
    "collapsed": false
   },
   "outputs": [],
   "source": [
    "x = 5\n",
    "if x%2 == 0:\n",
    "    print 'x is even'\n",
    "else:\n",
    "    print 'x is odd'"
   ]
  },
  {
   "cell_type": "markdown",
   "metadata": {},
   "source": [
    "If the remainder when ``x`` is divided by 2 is 0, then we know that ``x`` is even, and the program displays a message to that effect. If the condition is false, the second set of statements is executed. Since the condition must be true or false, exactly one of the alternatives will be executed. The alternatives are called <a href='#branch'>branches</a>, because they are branches in the flow of execution."
   ]
  },
  {
   "cell_type": "markdown",
   "metadata": {},
   "source": [
    "## Chained conditionals\n",
    "\n",
    "Sometimes there are more than two possibilities and we need more than two branches. One way to express a computation like that is a <a href='#chained'>chained conditional</a>:"
   ]
  },
  {
   "cell_type": "code",
   "execution_count": null,
   "metadata": {
    "collapsed": false
   },
   "outputs": [],
   "source": [
    "x = 1\n",
    "y = 4\n",
    "if x < y:\n",
    "    print 'x is less than y'\n",
    "elif x > y:\n",
    "    print 'x is greater than y'\n",
    "else:\n",
    "    print 'x and y are equal'"
   ]
  },
  {
   "cell_type": "markdown",
   "metadata": {},
   "source": [
    "``elif`` is an abbreviation of “else if.” Again, exactly one branch will be executed. There is no limit on the number of ``elif`` statements. If there is an ``else`` clause, it has to be at the end, but there doesn’t have to be one."
   ]
  },
  {
   "cell_type": "code",
   "execution_count": null,
   "metadata": {
    "collapsed": false
   },
   "outputs": [],
   "source": [
    "choice = 'a'\n",
    "if choice == 'a':\n",
    "    print 'a'\n",
    "elif choice == 'b':\n",
    "    print 'b'\n",
    "elif choice == 'c':\n",
    "    print 'c'\n",
    "elif choice != 'd':\n",
    "    print 'not d'"
   ]
  },
  {
   "cell_type": "markdown",
   "metadata": {},
   "source": [
    "Each condition is checked in order. If the first is false, the next is checked, and so on. If one of them is true, the corresponding branch executes, and the statement ends. Even if more than one condition is true, only the first true branch executes."
   ]
  },
  {
   "cell_type": "markdown",
   "metadata": {},
   "source": [
    "## Nested conditionals\n",
    "\n",
    "One conditional can also be nested within another. We could have written the trichotomy example like this:"
   ]
  },
  {
   "cell_type": "code",
   "execution_count": null,
   "metadata": {
    "collapsed": false
   },
   "outputs": [],
   "source": [
    "x = 4\n",
    "y = 2\n",
    "if x == y:\n",
    "    print 'x and y are equal'\n",
    "else:\n",
    "    if x < y:\n",
    "        print 'x is less than y'\n",
    "    else:\n",
    "        print 'x is greater than y'"
   ]
  },
  {
   "cell_type": "markdown",
   "metadata": {},
   "source": [
    "The outer conditional contains two branches. The first branch contains a simple statement. The second branch contains another ``if`` statement, which has two branches of its own. Those two branches are both simple statements, although they could have been conditional statements as well.\n",
    "\n",
    "Although the indentation of the statements makes the structure apparent, <a href='#nested'>nested conditionals</a> become difficult to read very quickly. In general, it is a good idea to avoid them when you can.\n",
    "\n",
    "Logical operators often provide a way to simplify nested conditional statements. For example, we can rewrite the following code using a single conditional:"
   ]
  },
  {
   "cell_type": "code",
   "execution_count": null,
   "metadata": {
    "collapsed": false
   },
   "outputs": [],
   "source": [
    "x = 6\n",
    "if 0 < x:\n",
    "    if x < 10:\n",
    "        print 'x is a positive single-digit number.'"
   ]
  },
  {
   "cell_type": "markdown",
   "metadata": {},
   "source": [
    "The ``print`` statement is executed only if we make it past both conditionals, so we can get the same effect with the\n",
    "``and`` operator:"
   ]
  },
  {
   "cell_type": "code",
   "execution_count": null,
   "metadata": {
    "collapsed": false
   },
   "outputs": [],
   "source": [
    "x = 7\n",
    "if 0 < x and x < 10:\n",
    "    print 'x is a positive single-digit number.'"
   ]
  },
  {
   "cell_type": "markdown",
   "metadata": {},
   "source": [
    "## Debugging\n",
    "\n",
    "The traceback Python displays when an error occurs contains a lot of information, but it can be overwhelming, especially when there are many frames on the stack. The most useful parts are usually:\n",
    "\n",
    "-   What kind of error it was, and\n",
    "\n",
    "-   Where it occurred.\n",
    "\n",
    "Syntax errors are usually easy to find, but there are a few gotchas. Whitespace errors can be tricky because spaces and tabs are invisible and we are used to ignoring them."
   ]
  },
  {
   "cell_type": "code",
   "execution_count": null,
   "metadata": {
    "collapsed": false
   },
   "outputs": [],
   "source": [
    "x = 5\n",
    " y = 6"
   ]
  },
  {
   "cell_type": "markdown",
   "metadata": {},
   "source": [
    "In this example, the problem is that the second line is indented by one space. But the error message points to ``y``, which is misleading. In general, error messages indicate where the problem was discovered, but the actual error might be earlier in the code, sometimes on a previous line."
   ]
  },
  {
   "cell_type": "markdown",
   "metadata": {},
   "source": [
    "## Glossary\n",
    "\n",
    "- <a name='boolexp'>boolean expression:</a>\n",
    "\n",
    "    An expression whose value is either ``True`` or\n",
    "    ``False``.\n",
    "\n",
    "- <a name='relop'>relational operator:</a>\n",
    "\n",
    "    One of the operators that compares its operands: ``==``,\n",
    "    ``!=``, ``>``, ``<``, ``>=``,\n",
    "    and ``<=``.\n",
    "\n",
    "- <a name='logiop'>logical operator:</a>\n",
    "\n",
    "    One of the operators that combines boolean expressions:\n",
    "    ``and``, ``or``, and ``not``.\n",
    "\n",
    "- <a name='condstmt'>conditional statement:</a>\n",
    "\n",
    "    A statement that controls the flow of execution depending on some\n",
    "    condition.\n",
    "\n",
    "- <a name='cond'>condition:</a>\n",
    "\n",
    "    The boolean expression in a conditional statement that determines\n",
    "    which branch is executed.\n",
    "\n",
    "\n",
    "* <a name='head'>header:</a>\n",
    "\n",
    "    The first line of a function definition.\n",
    "\n",
    "* <a name='suite'>suite:</a>\n",
    "\n",
    "    The sequence of statements inside a function definition.\n",
    "    \n",
    "- <a name='compstmt'>compound statement:</a>\n",
    "\n",
    "    A statement that consists of a header and a body. The header ends\n",
    "    with a colon (:). The body is indented relative to the header.\n",
    "\n",
    "- <a name='branch'>branch:</a>\n",
    "\n",
    "    One of the alternative sequences of statements in a conditional\n",
    "    statement.\n",
    "\n",
    "- <a name='chained'>chained conditional:</a>\n",
    "\n",
    "    A conditional statement with a series of alternative branches.\n",
    "\n",
    "- <a name='nested'>nested conditional:</a>\n",
    "\n",
    "    A conditional statement that appears in one of the branches of\n",
    "    another conditional statement."
   ]
  },
  {
   "cell_type": "code",
   "execution_count": null,
   "metadata": {
    "collapsed": true
   },
   "outputs": [],
   "source": []
  }
 ],
 "metadata": {
  "kernelspec": {
   "display_name": "Python 2",
   "language": "python",
   "name": "python2"
  },
  "language_info": {
   "codemirror_mode": {
    "name": "ipython",
    "version": 2
   },
   "file_extension": ".py",
   "mimetype": "text/x-python",
   "name": "python",
   "nbconvert_exporter": "python",
   "pygments_lexer": "ipython2",
   "version": "2.7.10"
  }
 },
 "nbformat": 4,
 "nbformat_minor": 0
}
