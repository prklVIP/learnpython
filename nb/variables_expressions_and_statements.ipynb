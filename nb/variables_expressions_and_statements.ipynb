{
 "cells": [
  {
   "cell_type": "markdown",
   "metadata": {},
   "source": [
    "# Variables, expressions and statements"
   ]
  },
  {
   "cell_type": "markdown",
   "metadata": {},
   "source": [
    "## Values and types\n",
    "\n",
    "A <a href='#value'>value</a> is one of the basic things a program works with, like a letter or a number. The values we have seen so far are ``1``, ``2``, and `'Hello, World!'`.\n",
    "\n",
    "These values belong to different <a href='#type'>types</a>: ``2`` is an integer, and `'Hello, World!'` is a <a href='#string'>string</a>, so-called because it contains a “string” of letters. You (and the interpreter) can identify strings because they are enclosed in quotation marks.\n",
    "\n",
    "If you are not sure what type a value has, the interpreter can tell you."
   ]
  },
  {
   "cell_type": "code",
   "execution_count": null,
   "metadata": {
    "collapsed": false
   },
   "outputs": [],
   "source": [
    "type('Hello, World!')"
   ]
  },
  {
   "cell_type": "code",
   "execution_count": null,
   "metadata": {
    "collapsed": false
   },
   "outputs": [],
   "source": [
    "type(17)"
   ]
  },
  {
   "cell_type": "markdown",
   "metadata": {},
   "source": [
    "Not surprisingly, strings belong to the type ``str`` and integers belong to the type ``int``. Less obviously, numbers with a decimal point belong to a type called ``float``, because these numbers are represented in a format called < href='#floating_point'>floating-point</a>."
   ]
  },
  {
   "cell_type": "code",
   "execution_count": null,
   "metadata": {
    "collapsed": false
   },
   "outputs": [],
   "source": [
    "type(3.2)"
   ]
  },
  {
   "cell_type": "markdown",
   "metadata": {},
   "source": [
    "What about values like `'17'` and `'3.2'`? They look like numbers, but they are in quotation marks like strings."
   ]
  },
  {
   "cell_type": "code",
   "execution_count": null,
   "metadata": {
    "collapsed": false
   },
   "outputs": [],
   "source": [
    "type('17')"
   ]
  },
  {
   "cell_type": "code",
   "execution_count": null,
   "metadata": {
    "collapsed": false
   },
   "outputs": [],
   "source": [
    "type('3.2')"
   ]
  },
  {
   "cell_type": "markdown",
   "metadata": {},
   "source": [
    "They’re strings.\n",
    "\n",
    "When you type a large integer, you might be tempted to use commas between groups of three digits, as in ``1,000,000``. This is not a legal integer in Python, but it is legal:"
   ]
  },
  {
   "cell_type": "code",
   "execution_count": null,
   "metadata": {
    "collapsed": false
   },
   "outputs": [],
   "source": [
    "1,000,000"
   ]
  },
  {
   "cell_type": "markdown",
   "metadata": {},
   "source": [
    "Well, that’s not what we expected at all! Python interprets ``1,000,000`` as a comma-separated sequence of integers. This is the first example we have seen of a semantic error: the code runs without producing an error message, but it doesn’t do the “right” thing."
   ]
  },
  {
   "cell_type": "markdown",
   "metadata": {},
   "source": [
    "## Variables\n",
    "\n",
    "One of the most powerful features of a programming language is the ability to manipulate <a href='#variable'>variables</a>. A variable is a name that refers to a value.\n",
    "\n",
    "An <a href='#assignment'>assignment statement</a> creates new variables and gives them values:"
   ]
  },
  {
   "cell_type": "code",
   "execution_count": null,
   "metadata": {
    "collapsed": true
   },
   "outputs": [],
   "source": [
    "message = 'And now for something completely different'\n",
    "n = 17\n",
    "pi = 3.1415926535897932"
   ]
  },
  {
   "cell_type": "markdown",
   "metadata": {},
   "source": [
    "This example makes three assignments. The first assigns a string to a new variable named ``message``; the second gives the integer ``17`` to ``n``; the third assigns the (approximate) value of $\\pi$ to ``pi``.\n",
    "\n",
    "A common way to represent variables on paper is to write the name with an arrow pointing to the variable’s value. This kind of figure is called a <a href='#state_diagram'>state diagram</a> because it shows what state each of the variables is in (think of it as the variable’s state of mind). Figure [fig.state2] shows the result of the previous example.\n",
    "\n",
    "<img src='figs/state2.png'/>\n",
    "\n",
    "The type of a variable is the type of the value it refers to."
   ]
  },
  {
   "cell_type": "code",
   "execution_count": null,
   "metadata": {
    "collapsed": false
   },
   "outputs": [],
   "source": [
    "type(message)"
   ]
  },
  {
   "cell_type": "code",
   "execution_count": null,
   "metadata": {
    "collapsed": false
   },
   "outputs": [],
   "source": [
    "type(n)"
   ]
  },
  {
   "cell_type": "code",
   "execution_count": null,
   "metadata": {
    "collapsed": false
   },
   "outputs": [],
   "source": [
    "type(pi)"
   ]
  },
  {
   "cell_type": "markdown",
   "metadata": {},
   "source": [
    "## Variable names and keywords\n",
    "\n",
    "Programmers generally choose names for their variables that are meaningful—they document what the variable is used for.\n",
    "\n",
    "Variable names can be arbitrarily long. They can contain both letters and numbers, but they have to begin with a letter. It is legal to use uppercase letters, but it is a good idea to begin variable names with a lowercase letter (you’ll see why later).\n",
    "\n",
    "The underscore character, `_`, can appear in a name. It is often used in names with multiple words, such as `my_name` or `airspeed_of_unladen_swallow`.\n",
    "\n",
    "If you give a variable an illegal name, you get a syntax error:"
   ]
  },
  {
   "cell_type": "code",
   "execution_count": null,
   "metadata": {
    "collapsed": false
   },
   "outputs": [],
   "source": [
    "76trombones = 'big parade'"
   ]
  },
  {
   "cell_type": "code",
   "execution_count": null,
   "metadata": {
    "collapsed": false
   },
   "outputs": [],
   "source": [
    "more@ = 1000000"
   ]
  },
  {
   "cell_type": "code",
   "execution_count": null,
   "metadata": {
    "collapsed": false
   },
   "outputs": [],
   "source": [
    "class = 'Advanced Theoretical Zymurgy'"
   ]
  },
  {
   "cell_type": "markdown",
   "metadata": {},
   "source": [
    "``76trombones`` is illegal because it does not begin with a letter. ``more@`` is illegal because it contains an illegal character, ``@``. But what’s wrong with ``class``?\n",
    "\n",
    "It turns out that ``class`` is one of Python’s <a href='#keyword'>keywords</a>. The interpreter uses keywords to recognize the structure of the program, and they cannot be used as variable names.\n",
    "\n",
    "Python 2 has 31 keywords:\n",
    "\n",
    "    and       del       from      not       while\n",
    "    as        elif      global    or        with\n",
    "    assert    else      if        pass      yield\n",
    "    break     except    import    print\n",
    "    class     exec      in        raise\n",
    "    continue  finally   is        return\n",
    "    def       for       lambda    try\n",
    "\n",
    "In Python 3, ``exec`` is no longer a keyword, but ``nonlocal`` is.\n",
    "\n",
    "You might want to keep this list handy. If the interpreter complains about one of your variable names and you don’t know why, see if it is on this list."
   ]
  },
  {
   "cell_type": "markdown",
   "metadata": {},
   "source": [
    "## Operators and operands\n",
    "\n",
    "<a href='#operator'>Operators</a> are special symbols that represent computations like addition and multiplication. The values the operator is applied to are called <a href='#operand'>operands</a>.\n",
    "\n",
    "The operators ``+``, ``-``, `*`, ``/`` and ``**`` perform addition, subtraction, multiplication, division and exponentiation, as in the following examples:"
   ]
  },
  {
   "cell_type": "code",
   "execution_count": null,
   "metadata": {
    "collapsed": false
   },
   "outputs": [],
   "source": [
    "hour = 2\n",
    "20+32   \n",
    "hour-1   \n",
    "minute = 34\n",
    "hour*60+minute   \n",
    "minute/60   \n",
    "5**2   \n",
    "(5+9)*(15-7)"
   ]
  },
  {
   "cell_type": "markdown",
   "metadata": {},
   "source": [
    "In some other languages, `^` is used for exponentiation, but in Python it is a bitwise operator called XOR. I won’t cover bitwise operators in this book, but you can read about them at <http://wiki.python.org/moin/BitwiseOperators>.\n",
    "\n",
    "In Python 2, the division operator might not do what you expect:"
   ]
  },
  {
   "cell_type": "code",
   "execution_count": null,
   "metadata": {
    "collapsed": false
   },
   "outputs": [],
   "source": [
    "minute = 59\n",
    "minute/60"
   ]
  },
  {
   "cell_type": "markdown",
   "metadata": {},
   "source": [
    "The value of ``minute`` is 59, and in conventional arithmetic 59 divided by 60 is 0.98333, not 0. The reason for the discrepancy is that Python is performing <a href='#floor_division'>floor division</a>. When both of the operands are integers, the result is also an integer; floor division chops off the fraction part, so in this example it rounds down to zero.\n",
    "\n",
    "In Python 3, the result of this division is a ``float``. The new operator ``//`` performs floor division.\n",
    "\n",
    "If either of the operands is a floating-point number, Python performs floating-point division, and the result is a ``float``:"
   ]
  },
  {
   "cell_type": "code",
   "execution_count": null,
   "metadata": {
    "collapsed": false
   },
   "outputs": [],
   "source": [
    "minute/60.0"
   ]
  },
  {
   "cell_type": "markdown",
   "metadata": {},
   "source": [
    "## Expressions and statements\n",
    "\n",
    "An <a href='#expression'>expression</a> is a combination of values, variables, and operators. A value all by itself is considered an expression, and so is a variable, so the following are all legal expressions:"
   ]
  },
  {
   "cell_type": "code",
   "execution_count": null,
   "metadata": {
    "collapsed": false
   },
   "outputs": [],
   "source": [
    "x = 0\n",
    "17\n",
    "x\n",
    "x + 17"
   ]
  },
  {
   "cell_type": "markdown",
   "metadata": {},
   "source": [
    "A <a href='#statement'>statement</a> is a unit of code that the Python interpreter can execute. We have seen two kinds of statement: print and assignment.\n",
    "\n",
    "Technically an expression is also a statement, but it is probably simpler to think of them as different things. The important difference is that an expression has a value; a statement does not."
   ]
  },
  {
   "cell_type": "markdown",
   "metadata": {},
   "source": [
    "## Interactive mode and script mode\n",
    "\n",
    "One of the benefits of working with an interpreted language is that you can test bits of code in interactive mode before you put them in a script. But there are differences between interactive mode and script mode that can be confusing.\n",
    "\n",
    "For example, if you are using Python as a calculator, you might type"
   ]
  },
  {
   "cell_type": "code",
   "execution_count": null,
   "metadata": {
    "collapsed": false
   },
   "outputs": [],
   "source": [
    "miles = 26.2\n",
    "miles * 1.61"
   ]
  },
  {
   "cell_type": "markdown",
   "metadata": {},
   "source": [
    "The first line assigns a value to ``miles``, but it has no visible effect. The second line is an expression, so the interpreter evaluates it and displays the result. So we learn that a marathon is about 42 kilometers.\n",
    "\n",
    "But if you type the same code into a script and run it, you get no output at all. In script mode an expression, all by itself, has no visible effect. Python actually evaluates the expression, but it doesn’t display the value unless you tell it to:"
   ]
  },
  {
   "cell_type": "code",
   "execution_count": null,
   "metadata": {
    "collapsed": false
   },
   "outputs": [],
   "source": [
    "miles = 26.2\n",
    "print miles * 1.61"
   ]
  },
  {
   "cell_type": "markdown",
   "metadata": {},
   "source": [
    "This behavior can be confusing at first.\n",
    "\n",
    "A script usually contains a sequence of statements. If there is more than one statement, the results appear one at a time as the statements execute.\n",
    "\n",
    "For example, the script"
   ]
  },
  {
   "cell_type": "code",
   "execution_count": null,
   "metadata": {
    "collapsed": false
   },
   "outputs": [],
   "source": [
    "print 1\n",
    "x = 2\n",
    "print x"
   ]
  },
  {
   "cell_type": "markdown",
   "metadata": {},
   "source": [
    "produces the output\n",
    "\n",
    "The assignment statement produces no output.\n",
    "\n",
    "Type the following statements in the Python interpreter to see what they do:\n",
    "\n",
    "    5\n",
    "    x = 5\n",
    "    x + 1\n",
    "\n",
    "Now put the same statements into a script and run it. What is the output? Modify the script by transforming each expression into a print statement and then run it again."
   ]
  },
  {
   "cell_type": "markdown",
   "metadata": {},
   "source": [
    "## Order of operations\n",
    "\n",
    "When more than one operator appears in an expression, the order of evaluation depends on the <a href='#rules_of_precedence'>rules of precedence</a>. For mathematical operators, Python follows mathematical convention. The acronym **PEMDAS** is a useful way to remember the rules:\n",
    "\n",
    "-   **P**arentheses have the highest precedence and can be\n",
    "    used to force an expression to evaluate in the order you want. Since\n",
    "    expressions in parentheses are evaluated first, ``2 *\n",
    "    (3-1)`` is 4, and ``(1+1)**(5-2)`` is 8. You can\n",
    "    also use parentheses to make an expression easier to read, as in\n",
    "    ``(minute * 100) / 60``, even if it doesn’t change the\n",
    "    result.\n",
    "\n",
    "-   **E**xponentiation has the next highest precedence, so\n",
    "    ``2**1+1`` is 3, not 4, and ``3*1**3`` is 3,\n",
    "    not 27.\n",
    "\n",
    "-   **M**ultiplication and **D**ivision have\n",
    "    the same precedence, which is higher than **A**ddition\n",
    "    and **S**ubtraction, which also have the same\n",
    "    precedence. So ``2*3-1`` is 5, not 4, and\n",
    "    ``6+4/2`` is 8, not 5.\n",
    "\n",
    "-   Operators with the same precedence are evaluated from left to right\n",
    "    (except exponentiation). So in the expression ``degrees / 2 *\n",
    "    pi``, the division happens first and the result is multiplied\n",
    "    by ``pi``. To divide by $2 \\pi$, you can use parentheses or\n",
    "    write ``degrees / 2 / pi``.\n",
    "\n",
    "I don’t work very hard to remember rules of precedence for other operators. If I can’t tell by looking at the expression, I use parentheses to make it obvious."
   ]
  },
  {
   "cell_type": "markdown",
   "metadata": {},
   "source": [
    "## String operations\n",
    "\n",
    "In general, you can’t perform mathematical operations on strings, even if the strings look like numbers, so the following are illegal:"
   ]
  },
  {
   "cell_type": "code",
   "execution_count": null,
   "metadata": {
    "collapsed": false
   },
   "outputs": [],
   "source": [
    "'2'-'1'    "
   ]
  },
  {
   "cell_type": "code",
   "execution_count": null,
   "metadata": {
    "collapsed": false
   },
   "outputs": [],
   "source": [
    "'eggs'/'easy'    "
   ]
  },
  {
   "cell_type": "code",
   "execution_count": null,
   "metadata": {
    "collapsed": false
   },
   "outputs": [],
   "source": [
    "'third'*'a charm'"
   ]
  },
  {
   "cell_type": "markdown",
   "metadata": {},
   "source": [
    "The ``+`` operator works with strings, but it might not do what you expect: it performs <a href='#concatenate'>concatenation</a>, which means joining the strings by linking them end-to-end. For example:"
   ]
  },
  {
   "cell_type": "code",
   "execution_count": null,
   "metadata": {
    "collapsed": false
   },
   "outputs": [],
   "source": [
    "first = 'throat'\n",
    "second = 'warbler'\n",
    "print first + second"
   ]
  },
  {
   "cell_type": "markdown",
   "metadata": {},
   "source": [
    "The output of this program is ``throatwarbler``.\n",
    "\n",
    "The operator also works on strings; it performs repetition. For example, `'Spam'*3` is `'SpamSpamSpam'`. If one of the operands is a string, the other has to be an integer.\n",
    "\n",
    "This use of ``+`` and makes sense by analogy with addition and multiplication. Just as ``4*3`` is equivalent to ``4+4+4``, we expect `'Spam'*3` to be the same as `'Spam'+'Spam'+'Spam'`, and it is. On the other hand, there is a significant way in which string concatenation and repetition are different from integer addition and multiplication. Can you think of a property that addition has that string concatenation does not?"
   ]
  },
  {
   "cell_type": "markdown",
   "metadata": {},
   "source": [
    "## Comments\n",
    "\n",
    "As programs get bigger and more complicated, they get more difficult to read. Formal languages are dense, and it is often difficult to look at a piece of code and figure out what it is doing, or why.\n",
    "\n",
    "For this reason, it is a good idea to add notes to your programs to explain in natural language what the program is doing. These notes are called <a href='#comment'>comments</a>, and they start with the `#` symbol:"
   ]
  },
  {
   "cell_type": "code",
   "execution_count": null,
   "metadata": {
    "collapsed": true
   },
   "outputs": [],
   "source": [
    "# compute the percentage of the hour that has elapsed\n",
    "minute = 34.\n",
    "percentage = (minute * 100) / 60"
   ]
  },
  {
   "cell_type": "markdown",
   "metadata": {},
   "source": [
    "In this case, the comment appears on a line by itself. You can also put comments at the end of a line:"
   ]
  },
  {
   "cell_type": "code",
   "execution_count": null,
   "metadata": {
    "collapsed": true
   },
   "outputs": [],
   "source": [
    "percentage = (minute * 100) / 60     # percentage of an hour"
   ]
  },
  {
   "cell_type": "markdown",
   "metadata": {},
   "source": [
    "Everything from the ``#`` to the end of the line is ignored—it has no effect on the program.\n",
    "\n",
    "Comments are most useful when they document non-obvious features of the code. It is reasonable to assume that the reader can figure out *what* the code does; it is much more useful to explain *why*.\n",
    "\n",
    "This comment is redundant with the code and useless:"
   ]
  },
  {
   "cell_type": "code",
   "execution_count": null,
   "metadata": {
    "collapsed": true
   },
   "outputs": [],
   "source": [
    "v = 5     # assign 5 to v"
   ]
  },
  {
   "cell_type": "markdown",
   "metadata": {},
   "source": [
    "This comment contains useful information that is not in the code:"
   ]
  },
  {
   "cell_type": "code",
   "execution_count": null,
   "metadata": {
    "collapsed": true
   },
   "outputs": [],
   "source": [
    "v = 5     # velocity in meters/second."
   ]
  },
  {
   "cell_type": "markdown",
   "metadata": {},
   "source": [
    "Good variable names can reduce the need for comments, but long names can make complex expressions hard to read, so there is a tradeoff."
   ]
  },
  {
   "cell_type": "markdown",
   "metadata": {},
   "source": [
    "## Debugging\n",
    "\n",
    "At this point the syntax error you are most likely to make is an illegal variable name, like ``class`` and ``yield``, which are keywords, or `odd~job` and `US$`, which contain illegal characters.\n",
    "\n",
    "If you put a space in a variable name, Python thinks it is two operands without an operator:"
   ]
  },
  {
   "cell_type": "code",
   "execution_count": null,
   "metadata": {
    "collapsed": false
   },
   "outputs": [],
   "source": [
    "bad name = 5"
   ]
  },
  {
   "cell_type": "markdown",
   "metadata": {},
   "source": [
    "For syntax errors, the error messages don’t help much. The most common messages are ``SyntaxError: invalid syntax`` and ``SyntaxError: invalid token``, neither of which is very informative.\n",
    "\n",
    "The runtime error you are most likely to make is a “use before def;” that is, trying to use a variable before you have assigned a value. This can happen if you spell a variable name wrong:"
   ]
  },
  {
   "cell_type": "code",
   "execution_count": null,
   "metadata": {
    "collapsed": false
   },
   "outputs": [],
   "source": [
    "principal = 327.68\n",
    "interest = principle * rate"
   ]
  },
  {
   "cell_type": "markdown",
   "metadata": {},
   "source": [
    "Variables names are case sensitive, so ``LaTeX`` is not the same as ``latex``.\n",
    "\n",
    "At this point the most likely cause of a semantic error is the order of operations. For example, to evaluate $\\frac{1}{2 \\pi}$, you might be tempted to write"
   ]
  },
  {
   "cell_type": "code",
   "execution_count": null,
   "metadata": {
    "collapsed": false
   },
   "outputs": [],
   "source": [
    "1.0 / 2.0 * pi"
   ]
  },
  {
   "cell_type": "markdown",
   "metadata": {},
   "source": [
    "But the division happens first, so you would get $\\pi / 2$, which is not the same thing! There is no way for Python to know what you meant to write, so in this case you don’t get an error message; you just get the wrong answer."
   ]
  },
  {
   "cell_type": "markdown",
   "metadata": {},
   "source": [
    "## Glossary\n",
    "\n",
    "- <a name='value'>value</a>\n",
    "\n",
    "    One of the basic units of data, like a number or string, that a\n",
    "    program manipulates.\n",
    "\n",
    "- <a name='type'>type</a>\n",
    "\n",
    "    A category of values. The types we have seen so far are integers\n",
    "    (type ``int``), floating-point numbers (type\n",
    "    ``float``), and strings (type ``str``).\n",
    "\n",
    "- <a name='integer'>integer</a>\n",
    "\n",
    "    A type that represents whole numbers.\n",
    "\n",
    "- <a name='floating_point'>floating point</a>\n",
    "\n",
    "    A type that represents numbers with fractional parts.\n",
    "\n",
    "- <a name='string'>string</a>\n",
    "\n",
    "    A type that represents sequences of characters.\n",
    "\n",
    "- <a name='variable'>variable</a>\n",
    "\n",
    "    A name that refers to a value.\n",
    "\n",
    "- <a name='statement'>statement</a>\n",
    "\n",
    "    A section of code that represents a command or action. So far, the\n",
    "    statements we have seen are assignments and print statements.\n",
    "\n",
    "- <a name='assignment'>assignment</a>\n",
    "\n",
    "    A statement that assigns a value to a variable.\n",
    "\n",
    "- <a name='state_diagram'>state diagram</a>\n",
    "\n",
    "    A graphical representation of a set of variables and the values they\n",
    "    refer to.\n",
    "\n",
    "- <a name='keyword'>keyword</a>\n",
    "\n",
    "    A reserved word that is used by the compiler to parse a program; you\n",
    "    cannot use keywords like ``if``, ``def``, and\n",
    "    ``while`` as variable names.\n",
    "\n",
    "- <a name='operator'>operator</a>\n",
    "\n",
    "    A special symbol that represents a simple computation like addition,\n",
    "    multiplication, or string concatenation.\n",
    "\n",
    "- <a name='operand'>operand</a>\n",
    "\n",
    "    One of the values on which an operator operates.\n",
    "\n",
    "- <a name='floor_division'>floor division</a>\n",
    "\n",
    "    The operation that divides two numbers and chops off the fraction\n",
    "    part.\n",
    "\n",
    "- <a name='expression'>expression</a>\n",
    "\n",
    "    A combination of variables, operators, and values that represents a\n",
    "    single result value.\n",
    "\n",
    "- <a name='evaluate'>evaluate</a>\n",
    "\n",
    "    To simplify an expression by performing the operations in order to\n",
    "    yield a single value.\n",
    "\n",
    "- <a name='rules_of_precedence'>rules of precedence</a>\n",
    "\n",
    "    The set of rules governing the order in which expressions involving\n",
    "    multiple operators and operands are evaluated.\n",
    "\n",
    "- <a name='concatenate'>concatenate</a>\n",
    "\n",
    "    To join two operands end-to-end.\n",
    "\n",
    "- <a name='comment'>comment</a>\n",
    "\n",
    "    Information in a program that is meant for other programmers (or\n",
    "    anyone reading the source code) and has no effect on the execution\n",
    "    of the program."
   ]
  },
  {
   "cell_type": "markdown",
   "metadata": {},
   "source": [
    "## Exercises"
   ]
  },
  {
   "cell_type": "markdown",
   "metadata": {},
   "source": [
    "### Exercise 1\n",
    "\n",
    "Let"
   ]
  },
  {
   "cell_type": "code",
   "execution_count": null,
   "metadata": {
    "collapsed": true
   },
   "outputs": [],
   "source": [
    "width = 17\n",
    "height = 12.0\n",
    "delimiter = '.'"
   ]
  },
  {
   "cell_type": "markdown",
   "metadata": {},
   "source": [
    "For each of the following expressions, determine value of the expression and the type (of the value of the expression).\n",
    "\n",
    "1.  ``width/2``\n",
    "\n",
    "2.  ``width/2.0``\n",
    "\n",
    "3.  ``height/3``\n",
    "\n",
    "4.  ``1 + 2 * 5``\n",
    "\n",
    "5.  ``delimiter * 5``"
   ]
  },
  {
   "cell_type": "markdown",
   "metadata": {},
   "source": [
    "### Exercise 2\n",
    "\n",
    "Use the Python interpreter to check your answers.\n",
    "\n",
    "Practice using the Python interpreter as a calculator:\n",
    "\n",
    "1.  The volume of a sphere with radius $r$ is $\\frac{4}{3} \\pi r^3$.\n",
    "    What is the volume of a sphere with radius 5? Hint: 392.7 is wrong!\n",
    "\n",
    "2.  Suppose the cover price of a book is \\$24.95, but bookstores get a\n",
    "    40% discount. Shipping costs \\$3 for the first copy and 75 cents for\n",
    "    each additional copy. What is the total wholesale cost for 60\n",
    "    copies?\n",
    "\n",
    "3.  If I leave my house at 6:52 am and run 1 mile at an easy pace (8:15\n",
    "    per mile), then 3 miles at tempo (7:12 per mile) and 1 mile at easy\n",
    "    pace again, what time do I get home for breakfast?"
   ]
  }
 ],
 "metadata": {
  "kernelspec": {
   "display_name": "Python 2",
   "language": "python",
   "name": "python2"
  },
  "language_info": {
   "codemirror_mode": {
    "name": "ipython",
    "version": 2
   },
   "file_extension": ".py",
   "mimetype": "text/x-python",
   "name": "python",
   "nbconvert_exporter": "python",
   "pygments_lexer": "ipython2",
   "version": "2.7.10"
  }
 },
 "nbformat": 4,
 "nbformat_minor": 0
}
