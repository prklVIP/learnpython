{
 "cells": [
  {
   "cell_type": "markdown",
   "metadata": {},
   "source": [
    "# Strings"
   ]
  },
  {
   "cell_type": "markdown",
   "metadata": {},
   "source": [
    "## A string is a sequence\n",
    "\n",
    "A string is a **sequence** of characters. You can access the characters one at a time with the bracket operator:"
   ]
  },
  {
   "cell_type": "code",
   "execution_count": null,
   "metadata": {
    "collapsed": false
   },
   "outputs": [],
   "source": [
    "fruit = 'banana'\n",
    "letter = fruit[1]"
   ]
  },
  {
   "cell_type": "markdown",
   "metadata": {},
   "source": [
    "The second statement selects character number 1 from ``fruit`` and assigns it to ``letter``.\n",
    "\n",
    "The expression in brackets is called an **index**. The index indicates which character in the sequence you want (hence the name).\n",
    "\n",
    "But you might not get what you expect:"
   ]
  },
  {
   "cell_type": "code",
   "execution_count": null,
   "metadata": {
    "collapsed": false
   },
   "outputs": [],
   "source": [
    "print letter"
   ]
  },
  {
   "cell_type": "markdown",
   "metadata": {},
   "source": [
    "For most people, the first letter of `'banana'` is ``b``, not ``a``. But for computer scientists, the index is an offset from the beginning of the string, and the offset of the first letter is zero."
   ]
  },
  {
   "cell_type": "code",
   "execution_count": null,
   "metadata": {
    "collapsed": false
   },
   "outputs": [],
   "source": [
    "letter = fruit[0]\n",
    "letter"
   ]
  },
  {
   "cell_type": "markdown",
   "metadata": {},
   "source": [
    "So ``b`` is the 0th letter (“zero-eth”) of `'banana'`, ``a`` is the 1th letter (“one-eth”), and ``n`` is the 2th (“two-eth”) letter.\n",
    "\n",
    "You can use any expression, including variables and operators, as an index, but the value of the index has to be an integer. Otherwise you get:"
   ]
  },
  {
   "cell_type": "code",
   "execution_count": null,
   "metadata": {
    "collapsed": false
   },
   "outputs": [],
   "source": [
    "letter = fruit[1.5]"
   ]
  },
  {
   "cell_type": "markdown",
   "metadata": {},
   "source": [
    "## ``len``\n",
    "\n",
    "``len`` is a built-in function that returns the number of characters in a string:"
   ]
  },
  {
   "cell_type": "code",
   "execution_count": null,
   "metadata": {
    "collapsed": false
   },
   "outputs": [],
   "source": [
    "fruit = 'banana'\n",
    "len(fruit)"
   ]
  },
  {
   "cell_type": "markdown",
   "metadata": {},
   "source": [
    "To get the last letter of a string, you might be tempted to try something like this:"
   ]
  },
  {
   "cell_type": "code",
   "execution_count": null,
   "metadata": {
    "collapsed": false
   },
   "outputs": [],
   "source": [
    "length = len(fruit)\n",
    "last = fruit[length]"
   ]
  },
  {
   "cell_type": "markdown",
   "metadata": {},
   "source": [
    "The reason for the ``IndexError`` is that there is no letter in ``’banana’`` with the index 6. Since we started counting at zero, the six letters are numbered 0 to 5. To get the last character, you have to subtract 1 from ``length``:"
   ]
  },
  {
   "cell_type": "code",
   "execution_count": null,
   "metadata": {
    "collapsed": false
   },
   "outputs": [],
   "source": [
    "last = fruit[length-1]\n",
    "print last"
   ]
  },
  {
   "cell_type": "markdown",
   "metadata": {},
   "source": [
    "Alternatively, you can use negative indices, which count backward from the end of the string. The expression ``fruit[-1]`` yields the last letter, ``fruit[-2]`` yields the second to last, and so on."
   ]
  },
  {
   "cell_type": "code",
   "execution_count": null,
   "metadata": {
    "collapsed": false
   },
   "outputs": [],
   "source": [
    "fruit[-1]"
   ]
  },
  {
   "cell_type": "markdown",
   "metadata": {},
   "source": [
    "## Traversal with a ``for`` loop\n",
    "\n",
    "A lot of computations involve processing a string one character at a time. Often they start at the beginning, select each character in turn, do something to it, and continue until the end. This pattern of processing is called a **traversal**. One way to write a traversal is with a ``while`` loop:"
   ]
  },
  {
   "cell_type": "code",
   "execution_count": null,
   "metadata": {
    "collapsed": false
   },
   "outputs": [],
   "source": [
    "index = 0\n",
    "while index < len(fruit):\n",
    "    letter = fruit[index]\n",
    "    print letter\n",
    "    index = index + 1"
   ]
  },
  {
   "cell_type": "markdown",
   "metadata": {},
   "source": [
    "This loop traverses the string and displays each letter on a line by itself. The loop condition is ``index < len(fruit)``, so when ``index`` is equal to the length of the string, the condition is false, and the body of the loop is not executed. The last character accessed is the one with the index ``len(fruit)-1``, which is the last character in the string."
   ]
  },
  {
   "cell_type": "markdown",
   "metadata": {},
   "source": [
    "<div style=\"background-color: #FFF8C6; margin-left: 20px; margin-right: 20px; padding-bottom: 8px; padding-left: 8px; padding-right: 8px; padding-top: 8px;\">\n",
    "Write a function that takes a string as an argument and displays the letters backward, one per line.\n",
    "</div>"
   ]
  },
  {
   "cell_type": "markdown",
   "metadata": {},
   "source": [
    "Another way to write a traversal is with a ``for`` loop:"
   ]
  },
  {
   "cell_type": "code",
   "execution_count": null,
   "metadata": {
    "collapsed": false
   },
   "outputs": [],
   "source": [
    "for char in fruit:\n",
    "    print char"
   ]
  },
  {
   "cell_type": "markdown",
   "metadata": {},
   "source": [
    "Each time through the loop, the next character in the string is assigned to the variable ``char``. The loop continues until no characters are left.\n",
    "\n",
    "The following example shows how to use concatenation (string addition) and a ``for`` loop to generate an abecedarian series (that is, in alphabetical order). In Robert McCloskey’s book ``*Make Way for Ducklings*``, the names of the ducklings are Jack, Kack, Lack, Mack, Nack, Ouack, Pack, and Quack. This loop outputs these names in order:"
   ]
  },
  {
   "cell_type": "code",
   "execution_count": null,
   "metadata": {
    "collapsed": false
   },
   "outputs": [],
   "source": [
    "prefixes = 'JKLMNOPQ'\n",
    "suffix = 'ack'\n",
    "\n",
    "for letter in prefixes:\n",
    "    print letter + suffix"
   ]
  },
  {
   "cell_type": "markdown",
   "metadata": {},
   "source": [
    "Of course, that’s not quite right because “Ouack” and “Quack” are misspelled."
   ]
  },
  {
   "cell_type": "markdown",
   "metadata": {},
   "source": [
    "<div style=\"background-color: #FFF8C6; margin-left: 20px; margin-right: 20px; padding-bottom: 8px; padding-left: 8px; padding-right: 8px; padding-top: 8px;\">\n",
    "Modify the program to fix this error.\n",
    "</div>"
   ]
  },
  {
   "cell_type": "markdown",
   "metadata": {},
   "source": [
    "## String slices \n",
    "\n",
    "A segment of a string is called a **slice**. Selecting a slice is similar to selecting a character:"
   ]
  },
  {
   "cell_type": "code",
   "execution_count": null,
   "metadata": {
    "collapsed": false
   },
   "outputs": [],
   "source": [
    "s = 'Monty Python'\n",
    "print s[0:5]"
   ]
  },
  {
   "cell_type": "code",
   "execution_count": null,
   "metadata": {
    "collapsed": false
   },
   "outputs": [],
   "source": [
    "print s[6:12]"
   ]
  },
  {
   "cell_type": "markdown",
   "metadata": {},
   "source": [
    "The operator returns the part of the string from the “n-eth” character to the “m-eth” character, including the first but excluding the last. This behavior is counterintuitive, but it might help to imagine the indices pointing *between* the characters, as shown\n",
    "\n",
    "<img src='figs/banana.png'/>\n",
    "\n",
    "If you omit the first index (before the colon), the slice starts at the beginning of the string. If you omit the second index, the slice goes to the end of the string:"
   ]
  },
  {
   "cell_type": "code",
   "execution_count": null,
   "metadata": {
    "collapsed": false
   },
   "outputs": [],
   "source": [
    "fruit = 'banana'\n",
    "print fruit[:3]\n",
    "print fruit[3:]"
   ]
  },
  {
   "cell_type": "markdown",
   "metadata": {},
   "source": [
    "If the first index is greater than or equal to the second the result is an **empty string**, represented by two quotation marks:"
   ]
  },
  {
   "cell_type": "code",
   "execution_count": null,
   "metadata": {
    "collapsed": false
   },
   "outputs": [],
   "source": [
    "fruit = 'banana'\n",
    "fruit[3:3]"
   ]
  },
  {
   "cell_type": "markdown",
   "metadata": {},
   "source": [
    "An empty string contains no characters and has length 0, but other than that, it is the same as any other string."
   ]
  },
  {
   "cell_type": "markdown",
   "metadata": {},
   "source": [
    "<div style=\"background-color: #FFF8C6; margin-left: 20px; margin-right: 20px; padding-bottom: 8px; padding-left: 8px; padding-right: 8px; padding-top: 8px;\">\n",
    "Given that ``fruit`` is a string, what does ``fruit[:]`` mean?\n",
    "</div>"
   ]
  },
  {
   "cell_type": "markdown",
   "metadata": {},
   "source": [
    "## Strings are immutable\n",
    "\n",
    "It is tempting to use the operator on the left side of an assignment, with the intention of changing a character in a string. For example:"
   ]
  },
  {
   "cell_type": "code",
   "execution_count": null,
   "metadata": {
    "collapsed": false
   },
   "outputs": [],
   "source": [
    "greeting = 'Hello, world!'\n",
    "greeting[0] = 'J'"
   ]
  },
  {
   "cell_type": "markdown",
   "metadata": {},
   "source": [
    "The “object” in this case is the string and the “item” is the character you tried to assign. For now, an **object** is the same thing as a value, but we will refine that definition later. An **item** is one of the values in a sequence.\n",
    "\n",
    "The reason for the error is that strings are **immutable**, which means you can’t change an existing string. The best you can do is create a new string that is a variation on the original:"
   ]
  },
  {
   "cell_type": "code",
   "execution_count": null,
   "metadata": {
    "collapsed": false
   },
   "outputs": [],
   "source": [
    "greeting = 'Hello, world!'\n",
    "new_greeting = 'J' + greeting[1:]\n",
    "print new_greeting"
   ]
  },
  {
   "cell_type": "markdown",
   "metadata": {},
   "source": [
    "This example concatenates a new first letter onto a slice of ``greeting``. It has no effect on the original string."
   ]
  },
  {
   "cell_type": "markdown",
   "metadata": {},
   "source": [
    "<a name='find'></a>\n",
    "## Searching\n",
    "\n",
    "What does the following function do?"
   ]
  },
  {
   "cell_type": "code",
   "execution_count": null,
   "metadata": {
    "collapsed": true
   },
   "outputs": [],
   "source": [
    "def find(word, letter):\n",
    "    index = 0\n",
    "    while index < len(word):\n",
    "        if word[index] == letter:\n",
    "            return index\n",
    "        index = index + 1\n",
    "    return -1"
   ]
  },
  {
   "cell_type": "markdown",
   "metadata": {},
   "source": [
    "In a sense, ``find`` is the opposite of the operator. Instead of taking an index and extracting the corresponding character, it takes a character and finds the index where that character appears. If the character is not found, the function returns ``-1``.\n",
    "\n",
    "This is the first example we have seen of a ``return`` statement inside a loop. If ``word[index] == letter``, the function breaks out of the loop and returns immediately.\n",
    "\n",
    "If the character doesn’t appear in the string, the program exits the loop normally and returns ``-1``.\n",
    "\n",
    "This pattern of computation—traversing a sequence and returning when we find what we are looking for—is called a **search**."
   ]
  },
  {
   "cell_type": "markdown",
   "metadata": {},
   "source": [
    "<div style=\"background-color: #FFF8C6; margin-left: 20px; margin-right: 20px; padding-bottom: 8px; padding-left: 8px; padding-right: 8px; padding-top: 8px;\">\n",
    "Modify ``find`` so that it has a third parameter, the index in ``word`` where it should start looking.\n",
    "</div>"
   ]
  },
  {
   "cell_type": "markdown",
   "metadata": {},
   "source": [
    "## Looping and counting\n",
    "\n",
    "The following program counts the number of times the letter ``a`` appears in a string:"
   ]
  },
  {
   "cell_type": "code",
   "execution_count": null,
   "metadata": {
    "collapsed": false
   },
   "outputs": [],
   "source": [
    "word = 'banana'\n",
    "count = 0\n",
    "for letter in word:\n",
    "    if letter == 'a':\n",
    "        count = count + 1\n",
    "print count"
   ]
  },
  {
   "cell_type": "markdown",
   "metadata": {},
   "source": [
    "This program demonstrates another pattern of computation called a **counter**. The variable ``count`` is initialized to 0 and then incremented each time an ``a`` is found. When the loop exits, ``count`` contains the result—the total number of ``a``’s."
   ]
  },
  {
   "cell_type": "markdown",
   "metadata": {},
   "source": [
    "<div style=\"background-color: #FFF8C6; margin-left: 20px; margin-right: 20px; padding-bottom: 8px; padding-left: 8px; padding-right: 8px; padding-top: 8px;\">\n",
    "Encapsulate this code in a function named ``count``, and generalize it so that it accepts the string and the letter as arguments.\n",
    "</div>"
   ]
  },
  {
   "cell_type": "markdown",
   "metadata": {},
   "source": [
    "<div style=\"background-color: #FFF8C6; margin-left: 20px; margin-right: 20px; padding-bottom: 8px; padding-left: 8px; padding-right: 8px; padding-top: 8px;\">\n",
    "Rewrite this function so that instead of traversing the string, it uses the three-parameter version of ``find`` from the previous section.\n",
    "</div>"
   ]
  },
  {
   "cell_type": "markdown",
   "metadata": {},
   "source": [
    "## String methods\n",
    "\n",
    "A **method** is similar to a function — it takes arguments and returns a value — but the syntax is different. For example, the method ``upper`` takes a string and returns a new string with all uppercase letters:\n",
    "\n",
    "Instead of the function syntax ``upper(word)``, it uses the method syntax ``word.upper()``."
   ]
  },
  {
   "cell_type": "code",
   "execution_count": null,
   "metadata": {
    "collapsed": false
   },
   "outputs": [],
   "source": [
    "word = 'banana'\n",
    "new_word = word.upper()\n",
    "print new_word"
   ]
  },
  {
   "cell_type": "markdown",
   "metadata": {},
   "source": [
    "This form of dot notation specifies the name of the method, ``upper``, and the name of the string to apply the method to, ``word``. The empty parentheses indicate that this method takes no argument.\n",
    "\n",
    "A method call is called an **invocation**; in this case, we would say that we are invoking ``upper`` on the ``word``.\n",
    "\n",
    "As it turns out, there is a string method named ``find`` that is remarkably similar to the function we wrote:"
   ]
  },
  {
   "cell_type": "code",
   "execution_count": null,
   "metadata": {
    "collapsed": false
   },
   "outputs": [],
   "source": [
    "word = 'banana'\n",
    "index = word.find('a')\n",
    "print index"
   ]
  },
  {
   "cell_type": "markdown",
   "metadata": {},
   "source": [
    "In this example, we invoke ``find`` on ``word`` and pass the letter we are looking for as a parameter.\n",
    "\n",
    "Actually, the ``find`` method is more general than our function; it can find substrings, not just characters:"
   ]
  },
  {
   "cell_type": "code",
   "execution_count": null,
   "metadata": {
    "collapsed": false
   },
   "outputs": [],
   "source": [
    "word.find('na')"
   ]
  },
  {
   "cell_type": "markdown",
   "metadata": {},
   "source": [
    "It can take as a second argument the index where it should start:"
   ]
  },
  {
   "cell_type": "code",
   "execution_count": null,
   "metadata": {
    "collapsed": false
   },
   "outputs": [],
   "source": [
    "word.find('na', 3)"
   ]
  },
  {
   "cell_type": "markdown",
   "metadata": {},
   "source": [
    "And as a third argument the index where it should stop:"
   ]
  },
  {
   "cell_type": "code",
   "execution_count": null,
   "metadata": {
    "collapsed": false
   },
   "outputs": [],
   "source": [
    "name = 'bob'\n",
    "name.find('b', 1, 2)"
   ]
  },
  {
   "cell_type": "markdown",
   "metadata": {},
   "source": [
    "This search fails because ``b`` does not appear in the index range from ``1`` to ``2`` (not including ``2``).\n",
    "\n",
    "There is a string method called ``count`` that is similar to the function in the previous exercise. Read the documentation of this method and write an invocation that counts the number of ``a``s in `'banana'`.\n",
    "\n",
    "Read the [string methods](http://docs.python.org/2/library/stdtypes.html#string-methods) documentation. You might want to experiment with some of them to make sure you understand how they work. ``strip`` and ``replace`` are particularly useful.\n",
    "\n",
    "The documentation uses a syntax that might be confusing. For example, in `find(sub[, start[, end]])`, the brackets indicate optional arguments. So ``sub`` is required, but ``start`` is optional, and if you include ``start``, then ``end`` is optional."
   ]
  },
  {
   "cell_type": "markdown",
   "metadata": {},
   "source": [
    "## The ``in`` operator\n",
    "\n",
    "The word ``in`` is a boolean operator that takes two strings and returns ``True`` if the first appears as a substring in the second:"
   ]
  },
  {
   "cell_type": "code",
   "execution_count": null,
   "metadata": {
    "collapsed": false
   },
   "outputs": [],
   "source": [
    "'a' in 'banana'"
   ]
  },
  {
   "cell_type": "code",
   "execution_count": null,
   "metadata": {
    "collapsed": false
   },
   "outputs": [],
   "source": [
    "'seed' in 'banana'"
   ]
  },
  {
   "cell_type": "markdown",
   "metadata": {},
   "source": [
    "For example, the following function prints all the letters from ``word1`` that also appear in ``word2``:"
   ]
  },
  {
   "cell_type": "code",
   "execution_count": null,
   "metadata": {
    "collapsed": true
   },
   "outputs": [],
   "source": [
    "def in_both(word1, word2):\n",
    "    for letter in word1:\n",
    "        if letter in word2:\n",
    "            print letter"
   ]
  },
  {
   "cell_type": "markdown",
   "metadata": {},
   "source": [
    "With well-chosen variable names, Python sometimes reads like English. You could read this loop, “for (each) letter in (the first) word, if\n",
    "(the) letter (appears) in (the second) word, print (the) letter.”\n",
    "\n",
    "Here’s what you get if you compare apples and oranges:"
   ]
  },
  {
   "cell_type": "code",
   "execution_count": null,
   "metadata": {
    "collapsed": false
   },
   "outputs": [],
   "source": [
    "in_both('apples', 'oranges')"
   ]
  },
  {
   "cell_type": "markdown",
   "metadata": {},
   "source": [
    "## String comparison\n",
    "\n",
    "The relational operators work on strings. To see if two strings are equal:"
   ]
  },
  {
   "cell_type": "code",
   "execution_count": null,
   "metadata": {
    "collapsed": false
   },
   "outputs": [],
   "source": [
    "if word == 'banana':\n",
    "    print 'All right, bananas.'"
   ]
  },
  {
   "cell_type": "markdown",
   "metadata": {},
   "source": [
    "Other relational operations are useful for putting words in alphabetical order:"
   ]
  },
  {
   "cell_type": "code",
   "execution_count": null,
   "metadata": {
    "collapsed": false
   },
   "outputs": [],
   "source": [
    "if word < 'banana':\n",
    "    print 'Your word,' + word + ', comes before banana.'\n",
    "elif word > 'banana':\n",
    "    print 'Your word,' + word + ', comes after banana.'\n",
    "else:\n",
    "    print 'All right, bananas.'"
   ]
  },
  {
   "cell_type": "markdown",
   "metadata": {},
   "source": [
    "Python does not handle uppercase and lowercase letters the same way that people do. All the uppercase letters come before all the lowercase letters, so:"
   ]
  },
  {
   "cell_type": "markdown",
   "metadata": {},
   "source": [
    "    Your word, Pineapple, comes before banana."
   ]
  },
  {
   "cell_type": "markdown",
   "metadata": {},
   "source": [
    "A common way to address this problem is to convert strings to a standard format, such as all lowercase, before performing the comparison. Keep that in mind in case you have to defend yourself against a man armed with a Pineapple."
   ]
  },
  {
   "cell_type": "markdown",
   "metadata": {},
   "source": [
    "## Debugging\n",
    "\n",
    "When you use indices to traverse the values in a sequence, it is tricky to get the beginning and end of the traversal right. Here is a function that is supposed to compare two words and return ``True`` if one of the words is the reverse of the other, but it contains two errors:"
   ]
  },
  {
   "cell_type": "code",
   "execution_count": null,
   "metadata": {
    "collapsed": true
   },
   "outputs": [],
   "source": [
    "def is_reverse(word1, word2):\n",
    "    if len(word1) != len(word2):\n",
    "        return False\n",
    "\n",
    "    i = 0\n",
    "    j = len(word2)\n",
    "\n",
    "    while j > 0:\n",
    "        if word1[i] != word2[j]:\n",
    "            return False\n",
    "        i = i+1\n",
    "        j = j-1\n",
    "\n",
    "    return True"
   ]
  },
  {
   "cell_type": "markdown",
   "metadata": {},
   "source": [
    "The first ``if`` statement checks whether the words are the same length. If not, we can return ``False`` immediately and then, for the rest of the function, we can assume that the words are the same length. This is an example of the guardian pattern in Section [guardian].\n",
    "\n",
    "``i`` and ``j`` are indices: ``i`` traverses ``word1`` forward while ``j`` traverses ``word2`` backward. If we find two letters that don’t match, we can return ``False`` immediately. If we get through the whole loop and all the letters match, we return ``True``.\n",
    "\n",
    "If we test this function with the words “pots” and “stop”, we expect the return value ``True``, but we get an IndexError:"
   ]
  },
  {
   "cell_type": "code",
   "execution_count": null,
   "metadata": {
    "collapsed": false
   },
   "outputs": [],
   "source": [
    "is_reverse('pots', 'stop')"
   ]
  },
  {
   "cell_type": "markdown",
   "metadata": {},
   "source": [
    "For debugging this kind of error, my first move is to print the values of the indices immediately before the line where the error appears."
   ]
  },
  {
   "cell_type": "code",
   "execution_count": null,
   "metadata": {
    "collapsed": true
   },
   "outputs": [],
   "source": [
    "def is_reverse(word1, word2):\n",
    "    if len(word1) != len(word2):\n",
    "        return False\n",
    "\n",
    "    i = 0\n",
    "    j = len(word2)\n",
    "\n",
    "    while j > 0:\n",
    "        print i, j  # print here\n",
    "        if word1[i] != word2[j]:\n",
    "            return False\n",
    "        i = i+1\n",
    "        j = j-1\n",
    "\n",
    "    return True"
   ]
  },
  {
   "cell_type": "markdown",
   "metadata": {},
   "source": [
    "Now when I run the program again, I get more information:"
   ]
  },
  {
   "cell_type": "code",
   "execution_count": null,
   "metadata": {
    "collapsed": false
   },
   "outputs": [],
   "source": [
    "is_reverse('pots', 'stop')"
   ]
  },
  {
   "cell_type": "markdown",
   "metadata": {},
   "source": [
    "The first time through the loop, the value of ``j`` is 4, which is out of range for the string `'pots'`. The index of the last character is 3, so the initial value for ``j`` should be ``len(word2)-1``."
   ]
  },
  {
   "cell_type": "code",
   "execution_count": null,
   "metadata": {
    "collapsed": true
   },
   "outputs": [],
   "source": [
    "def is_reverse(word1, word2):\n",
    "    if len(word1) != len(word2):\n",
    "        return False\n",
    "\n",
    "    i = 0\n",
    "    j = len(word2) - 1\n",
    "\n",
    "    while j > 0:\n",
    "        print i, j  # print here\n",
    "        if word1[i] != word2[j]:\n",
    "            return False\n",
    "        i = i+1\n",
    "        j = j-1\n",
    "\n",
    "    return True"
   ]
  },
  {
   "cell_type": "markdown",
   "metadata": {},
   "source": [
    "If I fix that error and run the program again, I get:"
   ]
  },
  {
   "cell_type": "code",
   "execution_count": null,
   "metadata": {
    "collapsed": false
   },
   "outputs": [],
   "source": [
    "is_reverse('pots', 'stop')"
   ]
  },
  {
   "cell_type": "markdown",
   "metadata": {},
   "source": [
    "This time we get the right answer, but it looks like the loop only ran three times, which is suspicious. To get a better idea of what is happening, it is useful to draw a state diagram. During the first iteration, the frame for `is_reverse` is shown below.\n",
    "\n",
    "<img src='figs/state4.png'/>\n",
    "\n",
    "I took a little license by arranging the variables in the frame and adding dotted lines to show that the values of ``i`` and ``j`` indicate characters in ``word1`` and ``word2``."
   ]
  },
  {
   "cell_type": "markdown",
   "metadata": {},
   "source": [
    "<div style=\"background-color: #FFF8C6; margin-left: 20px; margin-right: 20px; padding-bottom: 8px; padding-left: 8px; padding-right: 8px; padding-top: 8px;\">\n",
    "Starting with this diagram, execute the program on paper, changing the values of ``i`` and ``j`` during each iteration. Find and fix the second error in this function.\n",
    "</div>"
   ]
  },
  {
   "cell_type": "markdown",
   "metadata": {},
   "source": [
    "## Glossary\n",
    "\n",
    "- **object:**\n",
    "\n",
    "    Something a variable can refer to. For now, you can use “object” and\n",
    "    “value” interchangeably.\n",
    "\n",
    "- **sequence:**\n",
    "\n",
    "    An ordered set; that is, a set of values where each value is\n",
    "    identified by an integer index.\n",
    "\n",
    "- **item:**\n",
    "\n",
    "    One of the values in a sequence.\n",
    "\n",
    "- **index:**\n",
    "\n",
    "    An integer value used to select an item in a sequence, such as a\n",
    "    character in a string.\n",
    "\n",
    "- **slice:**\n",
    "\n",
    "    A part of a string specified by a range of indices.\n",
    "\n",
    "- **empty string:**\n",
    "\n",
    "    A string with no characters and length 0, represented by two\n",
    "    quotation marks.\n",
    "\n",
    "- **immutable:**\n",
    "\n",
    "    The property of a sequence whose items cannot be assigned.\n",
    "\n",
    "- **traverse:**\n",
    "\n",
    "    To iterate through the items in a sequence, performing a similar\n",
    "    operation on each.\n",
    "\n",
    "- **search:**\n",
    "\n",
    "    A pattern of traversal that stops when it finds what it is looking\n",
    "    for.\n",
    "\n",
    "- **counter:**\n",
    "\n",
    "    A variable used to count something, usually initialized to zero and\n",
    "    then incremented.\n",
    "\n",
    "- **method:**\n",
    "\n",
    "    A function that is associated with an object and called using dot\n",
    "    notation.\n",
    "\n",
    "- **invocation:**\n",
    "\n",
    "    A statement that calls a method."
   ]
  },
  {
   "cell_type": "markdown",
   "metadata": {},
   "source": [
    "## Exercises"
   ]
  },
  {
   "cell_type": "markdown",
   "metadata": {},
   "source": [
    "### Exercise 1\n",
    "\n",
    "A string slice can take a third index that specifies the “step size;” that is, the number of spaces between successive characters. A step size of 2 means every other character; 3 means every third, etc."
   ]
  },
  {
   "cell_type": "code",
   "execution_count": null,
   "metadata": {
    "collapsed": false
   },
   "outputs": [],
   "source": [
    "fruit = 'banana'\n",
    "fruit[0:5:2]"
   ]
  },
  {
   "cell_type": "markdown",
   "metadata": {},
   "source": [
    "A step size of -1 goes through the word backwards, so the slice `[::-1]` generates a reversed string.\n",
    "\n",
    "Use this idiom to write a one-line version of `is_palindrome`."
   ]
  },
  {
   "cell_type": "markdown",
   "metadata": {},
   "source": [
    "### Exercise 2\n",
    "\n",
    "The following functions are all *intended* to check whether a string contains any lowercase letters, but at least some of them are wrong. For each function, describe what the function actually does\n",
    "(assuming that the parameter is a string)."
   ]
  },
  {
   "cell_type": "code",
   "execution_count": null,
   "metadata": {
    "collapsed": true
   },
   "outputs": [],
   "source": [
    "def any_lowercase1(s):\n",
    "    for c in s:\n",
    "        if c.islower():\n",
    "            return True\n",
    "        else:\n",
    "            return False\n",
    "\n",
    "def any_lowercase2(s):\n",
    "    for c in s:\n",
    "        if 'c'.islower():\n",
    "            return 'True'\n",
    "        else:\n",
    "            return 'False'\n",
    "\n",
    "def any_lowercase3(s):\n",
    "    for c in s:\n",
    "        flag = c.islower()\n",
    "    return flag\n",
    "\n",
    "def any_lowercase4(s):\n",
    "    flag = False\n",
    "    for c in s:\n",
    "        flag = flag or c.islower()\n",
    "    return flag\n",
    "\n",
    "def any_lowercase5(s):\n",
    "    for c in s:\n",
    "        if not c.islower():\n",
    "            return False\n",
    "    return True"
   ]
  },
  {
   "cell_type": "markdown",
   "metadata": {},
   "source": [
    "<a name='exrotate'></a>\n",
    "\n",
    "### Exericse 3\n",
    "\n",
    "ROT13 is a weak form of encryption that involves “rotating” each letter in a word by 13 places. To rotate a letter means to shift it through the alphabet, wrapping around to the beginning if necessary, so\n",
    "’A’ shifted by 3 is ’D’ and ’Z’ shifted by 1 is ’A’.\n",
    "\n",
    "Write a function called `rotate_word` that takes a string and an integer as parameters, and that returns a new string that contains the letters from the original string “rotated” by the given amount.\n",
    "\n",
    "For example, “cheer” rotated by 7 is “jolly” and “melon” rotated by -10 is “cubed”.\n",
    "\n",
    "You might want to use the built-in functions ``ord``, which converts a character to a numeric code, and ``chr``, which converts numeric codes to characters.\n",
    "\n",
    "Potentially offensive jokes on the Internet are sometimes encoded in ROT13. If you are not easily offended, find and decode some of them."
   ]
  },
  {
   "cell_type": "code",
   "execution_count": null,
   "metadata": {
    "collapsed": true
   },
   "outputs": [],
   "source": []
  }
 ],
 "metadata": {
  "kernelspec": {
   "display_name": "Python 2",
   "language": "python",
   "name": "python2"
  },
  "language_info": {
   "codemirror_mode": {
    "name": "ipython",
    "version": 2
   },
   "file_extension": ".py",
   "mimetype": "text/x-python",
   "name": "python",
   "nbconvert_exporter": "python",
   "pygments_lexer": "ipython2",
   "version": "2.7.10"
  }
 },
 "nbformat": 4,
 "nbformat_minor": 0
}
