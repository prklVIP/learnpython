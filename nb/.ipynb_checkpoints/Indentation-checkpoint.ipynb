{
 "cells": [
  {
   "cell_type": "markdown",
   "metadata": {},
   "source": [
    "# Python Indentation"
   ]
  },
  {
   "cell_type": "markdown",
   "metadata": {},
   "source": [
    "## Code blocks\n",
    "\n",
    "A block of code is group of statements in a program or script. A language, which allows grouping with blocks, is called a block structured language. Generally, blocks can contain blocks as well, so we get a nested block structure. A block in a script or program functions as a way for group statements to be treated as if they were one compound statement. In many cases, it also serves as a way to limit the lexical scope of variables and functions. \n",
    "\n",
    "In the early days of programming, languages like Basic and Fortran provided no way of explicitly using block structures. Instead, \"go to\" structures were used to create complex code structures.  The use of \"go to\" is frowned upon today.\n",
    "\n",
    "Most (all?) modern programming languages provide methods of creating blocks of code.  Some languages like Pascal, Fortran, matlab, etc. use \n",
    "`begin ... end` delimeters to mark the beginning and end of code blocks.  For example, in Fortran a `do` loop could be defined as\n",
    "\n",
    "    x = 0._8\n",
    "    do i=1,n\n",
    "      x = x + a(i)\n",
    "    end do\n",
    "\n",
    "Bourne and bash shell languages use a `do ... done` structure.\n",
    "\n",
    "Many programming languages, such as C, C++, Perl, Java, and many others, use braces: `{ ... }`.  For example, in C the following defines an `if` statement:\n",
    "\n",
    "    if (x==42) {\n",
    "        printf(\"The Answer to the Ultimate Question of Life, the Universe, and Everything\\n\");\n",
    "    } else {\n",
    "        printf(\"Just a number!\\n\");\n",
    "    }\n",
    "    \n",
    "The indentations in this code fragment are not necessary. So the code could be written - offending common decency - as\n",
    "\n",
    "    if (x==42) {printf(\"The  Answer to the Ultimate Question of Life, the Universe, and Everything\\n\");} else {printf(\"Just a number!\\n\");}"
   ]
  },
  {
   "cell_type": "markdown",
   "metadata": {},
   "source": [
    "## Python code blocks\n",
    "\n",
    "Blocks in Python are defined by indentation.  While it might be expected that programmers indent their code for readability, Python requires the practice.  For example, the Fortran `do` loop would be translated to Python as:\n",
    "\n",
    "    x = 0.\n",
    "    for i in range(n):\n",
    "        x = x + a[i]\n",
    "\n",
    "More precisely, a compound statement consists of one or more ‘clauses.’ A clause consists of a header and a ‘suite.’ The clause headers of a particular compound statement are all at the same indentation level. Each clause header begins with a uniquely identifying keyword and ends with a colon. A suite is a group of statements controlled by a clause.  For example:\n",
    "\n",
    "    header:\n",
    "        suite\n",
    "\n",
    "A `suite` can be one or more indented statements on subsequent lines.       \n",
    "\n",
    "The Python language does not define a standard indentation depth for a code suite, but the following advice should be followed:\n",
    "\n",
    "  - don't mix tabs and spaces\n",
    "  - spaces are preferred in new code\n",
    "  - be consistent with indentation\n",
    "  - use 4 spaces in new code\n",
    "  \n",
    "### Readability Counts\n",
    "\n",
    "A complaint from some newcomers to Python is that the language *forces* you to indent code.  To a certain extent, this is true.  But, for well written code, Python forces the use of indentation that should used anyway, unless code obfuscation were a goal. In other words: Python does not allow to obfuscate the structure of a program by using bogus indentations. Consider the following statements in C:\n",
    "\n",
    "    if (some_condition)\n",
    "        if (another_condition)\n",
    "                do_something(useful);\n",
    "    else\n",
    "        do_backup(plan);\n",
    "\n",
    "To which `if` statement does the `else` belong?\n",
    "\n",
    "In C, an `else` always applies to the nearest `if`, unless you use braces.  So, either the indentation in the code snippet is wrong, or the program is buggy.  Of course, one could always use braces, (and many style guides require that you do), but it doesn't prevent the obfuscation of source code by having the wrong indentation.  The same code snippet in Python would be written:\n",
    "\n",
    "    if some_condition:\n",
    "        if another_condition:\n",
    "            do_something(useful)\n",
    "        else:\n",
    "            do_backup(plan)\n",
    "            \n",
    "there is no ambiguity as to which `if` statement the `else` belongs.\n",
    "\n",
    "Quoting Bruce Eckel:\n",
    "\n",
    "> Because blocks are denoted by indentation in Python, indentation is uniform in Python programs. And indentation is meaningful to us as readers. So because we have consistent code formatting, I can read somebody else's code and I'm not constantly tripping over, \"Oh, I see. They're putting their curly braces here or there.\" I don't have to think about that."
   ]
  },
  {
   "cell_type": "code",
   "execution_count": null,
   "metadata": {
    "collapsed": true
   },
   "outputs": [],
   "source": []
  }
 ],
 "metadata": {
  "kernelspec": {
   "display_name": "Python 2",
   "language": "python",
   "name": "python2"
  },
  "language_info": {
   "codemirror_mode": {
    "name": "ipython",
    "version": 2
   },
   "file_extension": ".py",
   "mimetype": "text/x-python",
   "name": "python",
   "nbconvert_exporter": "python",
   "pygments_lexer": "ipython2",
   "version": "2.7.10"
  }
 },
 "nbformat": 4,
 "nbformat_minor": 0
}
