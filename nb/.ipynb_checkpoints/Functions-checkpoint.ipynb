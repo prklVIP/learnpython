{
 "cells": [
  {
   "cell_type": "markdown",
   "metadata": {},
   "source": [
    "# Introduction to Functions"
   ]
  },
  {
   "cell_type": "markdown",
   "metadata": {},
   "source": [
    "## Function calls\n",
    "\n",
    "In the context of programming, a <a href='#func'>function</a> is a named sequence of statements that performs a computation. When you define a function, you specify the name and the sequence of statements. Later, you can “call” the function by name. We have already seen one example of a <a href='#funcall'>function call</a>:"
   ]
  },
  {
   "cell_type": "code",
   "execution_count": null,
   "metadata": {
    "collapsed": false
   },
   "outputs": [],
   "source": [
    "type(32)"
   ]
  },
  {
   "cell_type": "markdown",
   "metadata": {},
   "source": [
    "The name of the function is ``type``. The expression in parentheses is called the <a href='#arg'>argument</a> of the function. The result, for this function, is the type of the argument.\n",
    "\n",
    "It is common to say that a function “takes” an argument and “returns” a result. The result is called the <a href='retval'>return value</a>."
   ]
  },
  {
   "cell_type": "markdown",
   "metadata": {},
   "source": [
    "## Why functions?\n",
    "\n",
    "Before continuing, it is worthwhile considering the utility in dividing a program into functions. There are several reasons one may wish to do so (divide a program in to functions):\n",
    "\n",
    "- Creating a new function gives you an opportunity to name a group of statements, which makes your program easier to read and debug.\n",
    "\n",
    "- Functions can make a program smaller by eliminating repetitive code. Later, if you make a change, you only have to make it in one place.\n",
    "\n",
    "- Dividing a long program into functions allows you to debug the parts one at a time and then assemble them into a working whole.\n",
    "\n",
    "- Well-designed functions are often useful for many programs. Once you write and debug one, you can reuse it."
   ]
  },
  {
   "cell_type": "markdown",
   "metadata": {},
   "source": [
    "## Builtin functions\n",
    "\n",
    "Python provides dozens of builtin functions for performing common tasks.  The `type` function is example of a builtin function.  Other builtin functions include ``int``, a function that takes any value and converts it to an integer, if it can, or complains otherwise:"
   ]
  },
  {
   "cell_type": "code",
   "execution_count": null,
   "metadata": {
    "collapsed": false
   },
   "outputs": [],
   "source": [
    "int('32')"
   ]
  },
  {
   "cell_type": "code",
   "execution_count": null,
   "metadata": {
    "collapsed": false
   },
   "outputs": [],
   "source": [
    "int('Hello')"
   ]
  },
  {
   "cell_type": "markdown",
   "metadata": {},
   "source": [
    "``int`` can convert floating-point values to integers, but it doesn’t round off; it chops off the fraction part:"
   ]
  },
  {
   "cell_type": "code",
   "execution_count": null,
   "metadata": {
    "collapsed": false
   },
   "outputs": [],
   "source": [
    "int(3.99999)"
   ]
  },
  {
   "cell_type": "code",
   "execution_count": null,
   "metadata": {
    "collapsed": false
   },
   "outputs": [],
   "source": [
    "int(-2.3)"
   ]
  },
  {
   "cell_type": "markdown",
   "metadata": {},
   "source": [
    "``float`` converts integers and strings to floating-point numbers:"
   ]
  },
  {
   "cell_type": "code",
   "execution_count": null,
   "metadata": {
    "collapsed": false
   },
   "outputs": [],
   "source": [
    "float(32)"
   ]
  },
  {
   "cell_type": "code",
   "execution_count": null,
   "metadata": {
    "collapsed": false
   },
   "outputs": [],
   "source": [
    "float('3.14159')"
   ]
  },
  {
   "cell_type": "markdown",
   "metadata": {},
   "source": [
    "``str`` converts its argument to a string:"
   ]
  },
  {
   "cell_type": "code",
   "execution_count": null,
   "metadata": {
    "collapsed": false
   },
   "outputs": [],
   "source": [
    "str(32)"
   ]
  },
  {
   "cell_type": "code",
   "execution_count": null,
   "metadata": {
    "collapsed": false
   },
   "outputs": [],
   "source": [
    "str(3.14159)"
   ]
  },
  {
   "cell_type": "markdown",
   "metadata": {},
   "source": [
    "``eval`` takes a string and evaluates it using the Python interpreter:"
   ]
  },
  {
   "cell_type": "code",
   "execution_count": null,
   "metadata": {
    "collapsed": false
   },
   "outputs": [],
   "source": [
    "eval('1 + 2')"
   ]
  },
  {
   "cell_type": "code",
   "execution_count": null,
   "metadata": {
    "collapsed": false
   },
   "outputs": [],
   "source": [
    "eval('type(5)')"
   ]
  },
  {
   "cell_type": "markdown",
   "metadata": {},
   "source": [
    "Python provides dozens of other builtin functions.  See [Builtin Functions](https://docs.python.org/2/library/functions.html) for a complete list."
   ]
  },
  {
   "cell_type": "markdown",
   "metadata": {},
   "source": [
    "## User defined functions\n",
    "\n",
    "The functions used thus far have been provided by the Python library itself.  It is also possible to add new functions. A <a href='#funcdef'>function definition</a> specifies the name of a new function and the sequence of statements that execute when the function is called.  The function definition has the following syntax:\n",
    "\n",
    "    def function_name \"(\" [parameter_list] \")\" \":\"\n",
    "        suite\n",
    "\n",
    "For example"
   ]
  },
  {
   "cell_type": "code",
   "execution_count": null,
   "metadata": {
    "collapsed": true
   },
   "outputs": [],
   "source": [
    "def print_lyrics(): \n",
    "    print \"I'm a lumberjack, and I'm okay.\" \n",
    "    print \"I sleep all night and I work all day.\""
   ]
  },
  {
   "cell_type": "markdown",
   "metadata": {},
   "source": [
    "``def`` is a keyword that indicates that this is a function definition. The name of the function is ``print_lyrics``. The rules for function names are the same as for variable names: letters, numbers and some punctuation marks are legal, but the first character can’t be a number. You can’t use a keyword as the name of a function, and you should avoid having a variable and a function with the same name."
   ]
  },
  {
   "cell_type": "markdown",
   "metadata": {},
   "source": [
    "<div style=\"background-color: #FFF8C6; margin-left: 20px; margin-right: 20px; padding-bottom: 8px; padding-left: 8px; padding-right: 8px; padding-top: 8px;\">\n",
    "</a><b>Variable Naming Convention</b><br/>\n",
    "It is customary for function names to be lowercase, with words separated by underscores as necessary to improve readability.  See [PEP8](https://www.python.org/dev/peps/pep-0008) for more conventions and coding style guidelines.\n",
    "</div>"
   ]
  },
  {
   "cell_type": "markdown",
   "metadata": {},
   "source": [
    "The empty parentheses after the name indicate that this function doesn’t take any arguments.\n",
    "\n",
    "Like other compound statements, the first line of the function definition is called the *header*; the rest is called the *suite*. The header *must end with a colon* and the suite *must be indented* (see [Indentation](Indentation.ipynb) for more on indentation). By convention, the indentation is four spaces (see <a href='#editor'>Debugging</a>). The suite can contain any number of statements.\n",
    "\n",
    "The strings in the print statements are enclosed in double quotes. Single quotes and double quotes do the same thing; it is common to use single quotes except in cases where a single quote (which is also an apostrophe) appears in the string.\n",
    "\n",
    "If you type a function definition in interactive mode, the interpreter prints ellipses (``...``) to let you know that the definition isn’t complete:"
   ]
  },
  {
   "cell_type": "markdown",
   "metadata": {},
   "source": [
    "    >>> def print_lyrics():\n",
    "    ...     print \"I'm a lumberjack, and I'm okay.\"\n",
    "    ...     print \"I sleep all night and I work all day.\"\n",
    "    ..."
   ]
  },
  {
   "cell_type": "markdown",
   "metadata": {},
   "source": [
    "To end the function, you have to enter an empty line (this is not necessary in a script).\n",
    "\n",
    "Defining a function creates a variable with the same name."
   ]
  },
  {
   "cell_type": "code",
   "execution_count": null,
   "metadata": {
    "collapsed": false
   },
   "outputs": [],
   "source": [
    "print print_lyrics\n",
    "type(print_lyrics)"
   ]
  },
  {
   "cell_type": "markdown",
   "metadata": {},
   "source": [
    "The value of ``print_lyrics`` is a <a href='#funcobj'>function object</a>, which has type '``function``'.\n",
    "\n",
    "The syntax for calling the new function is the same as for built-in functions:"
   ]
  },
  {
   "cell_type": "code",
   "execution_count": null,
   "metadata": {
    "collapsed": false
   },
   "outputs": [],
   "source": [
    "print_lyrics()"
   ]
  },
  {
   "cell_type": "markdown",
   "metadata": {},
   "source": [
    "Once you have defined a function, you can use it inside another function. For example, to repeat the previous refrain, we could write a function called ``repeat_lyrics``:"
   ]
  },
  {
   "cell_type": "code",
   "execution_count": null,
   "metadata": {
    "collapsed": true
   },
   "outputs": [],
   "source": [
    "def repeat_lyrics(): \n",
    "    print_lyrics() \n",
    "    print_lyrics()"
   ]
  },
  {
   "cell_type": "markdown",
   "metadata": {},
   "source": [
    "And then call ``repeat_lyrics``:"
   ]
  },
  {
   "cell_type": "code",
   "execution_count": null,
   "metadata": {
    "collapsed": false
   },
   "outputs": [],
   "source": [
    "repeat_lyrics()"
   ]
  },
  {
   "cell_type": "markdown",
   "metadata": {},
   "source": [
    "But that’s not really how the song goes."
   ]
  },
  {
   "cell_type": "markdown",
   "metadata": {},
   "source": [
    "## Definitions and uses\n",
    "\n",
    "Pulling together the code fragments from the previous section, the whole program looks like this:"
   ]
  },
  {
   "cell_type": "code",
   "execution_count": null,
   "metadata": {
    "collapsed": false
   },
   "outputs": [],
   "source": [
    "def print_lyrics(): \n",
    "    print \"I'm a lumberjack, and I'm okay.\" \n",
    "    print \"I sleep all night and I work all day.\"\n",
    "\n",
    "def repeat_lyrics(): \n",
    "    print_lyrics() \n",
    "    print_lyrics()\n",
    "\n",
    "repeat_lyrics()"
   ]
  },
  {
   "cell_type": "markdown",
   "metadata": {},
   "source": [
    "This program contains two function definitions: ``print_lyrics`` and ``repeat_lyrics``. Function definitions get executed just like other statements, but the effect is to create function objects. The statements inside the function do not get executed until the function is called, and the function definition generates no output.\n",
    "\n",
    "As you might expect, you have to create a function before you can execute it. In other words, the function definition has to be executed before the first time it is called.\n",
    "\n",
    "Move the last line of this program to the top, so the function call appears before the definitions. Run the program and see what error message you get.\n",
    "\n",
    "Move the function call back to the bottom and move the definition of ``print_lyrics`` after the definition of ``repeat_lyrics``. What happens when you run this program?"
   ]
  },
  {
   "cell_type": "markdown",
   "metadata": {},
   "source": [
    "## Flow of execution\n",
    "\n",
    "In order to ensure that a function is defined before its first use, you have to know the order in which statements are executed, which is called the <a href='#flow'>flow of execution</a>.\n",
    "\n",
    "Execution always begins at the first statement of the program. Statements are executed one at a time, in order from top to bottom.\n",
    "\n",
    "Function definitions do not alter the flow of execution of the program, but remember that statements inside the function are not executed until the function is called.\n",
    "\n",
    "A function call is like a detour in the flow of execution. Instead of going to the next statement, the flow jumps to the body of the function, executes all the statements there, and then comes back to pick up where it left off.\n",
    "\n",
    "That sounds simple enough, until you remember that one function can call another. While in the middle of one function, the program might have to execute the statements in another function. But while executing that new function, the program might have to execute yet another function!\n",
    "\n",
    "Fortunately, Python is good at keeping track of where it is, so each time a function completes, the program picks up where it left off in the function that called it. When it gets to the end of the program, it terminates.\n",
    "\n",
    "What’s the moral of this sordid tale? When you read a program, you don’t always want to read from top to bottom. Sometimes it makes more sense if you follow the flow of execution."
   ]
  },
  {
   "cell_type": "markdown",
   "metadata": {},
   "source": [
    "## Parameters and arguments\n",
    "\n",
    "Some of the built-in functions we have seen require arguments. For example, when you call ``int`` you pass a string or a number as an argument. Some functions take more than one argument.\n",
    "\n",
    "Inside the function, the arguments are assigned to variables called <a href='#param'>parameters</a>. Here is an example of a user-defined function that takes an argument:"
   ]
  },
  {
   "cell_type": "code",
   "execution_count": null,
   "metadata": {
    "collapsed": true
   },
   "outputs": [],
   "source": [
    "def print_twice(bruce): \n",
    "    print bruce \n",
    "    print bruce"
   ]
  },
  {
   "cell_type": "markdown",
   "metadata": {},
   "source": [
    "This function assigns the argument to a parameter named ``bruce``. When the function is called, it prints the value of the parameter (whatever it is) twice.\n",
    "\n",
    "This function works with any value that can be printed."
   ]
  },
  {
   "cell_type": "code",
   "execution_count": null,
   "metadata": {
    "collapsed": false
   },
   "outputs": [],
   "source": [
    "print_twice('Spam')"
   ]
  },
  {
   "cell_type": "code",
   "execution_count": null,
   "metadata": {
    "collapsed": false
   },
   "outputs": [],
   "source": [
    "print_twice(17)"
   ]
  },
  {
   "cell_type": "markdown",
   "metadata": {},
   "source": [
    "The same rules of composition that apply to built-in functions also apply to user-defined functions, so we can use any kind of expression as an argument for ``print_twice``:"
   ]
  },
  {
   "cell_type": "code",
   "execution_count": null,
   "metadata": {
    "collapsed": false
   },
   "outputs": [],
   "source": [
    "print_twice('Spam '*4)"
   ]
  },
  {
   "cell_type": "markdown",
   "metadata": {},
   "source": [
    "The argument is evaluated before the function is called, so in the examples the expressions ``'Spam '*4`` is only evaluated once.\n",
    "\n",
    "You can also use a variable as an argument:"
   ]
  },
  {
   "cell_type": "code",
   "execution_count": null,
   "metadata": {
    "collapsed": false
   },
   "outputs": [],
   "source": [
    "michael = 'Eric, the half a bee.'\n",
    "print_twice(michael)"
   ]
  },
  {
   "cell_type": "markdown",
   "metadata": {},
   "source": [
    "The name of the variable we pass as an argument (``michael``) has nothing to do with the name of the parameter (``bruce``). It doesn’t matter what the value was called back home (in the caller); here in ``print_twice``, we call everybody ``bruce``."
   ]
  },
  {
   "cell_type": "markdown",
   "metadata": {},
   "source": [
    "## Variable scope\n",
    "\n",
    "### Variables and parameters are local\n",
    "\n",
    "When you create a variable inside a function, it is <a href='#local'>local</a>, which means that it only exists inside the function. For example:"
   ]
  },
  {
   "cell_type": "code",
   "execution_count": null,
   "metadata": {
    "collapsed": true
   },
   "outputs": [],
   "source": [
    "def cat_twice(part1, part2): \n",
    "    cat = part1 + part2 \n",
    "    print_twice(cat)"
   ]
  },
  {
   "cell_type": "markdown",
   "metadata": {},
   "source": [
    "This function takes two arguments, concatenates them, and prints the result twice. Here is an example that uses it:"
   ]
  },
  {
   "cell_type": "code",
   "execution_count": null,
   "metadata": {
    "collapsed": false
   },
   "outputs": [],
   "source": [
    "line1 = 'Bing tiddle '\n",
    "line2 = 'tiddle bang.'\n",
    "cat_twice(line1, line2)"
   ]
  },
  {
   "cell_type": "markdown",
   "metadata": {},
   "source": [
    "When ``cat_twice`` terminates, the variable ``cat`` is destroyed. If we try to print it, we get an exception:"
   ]
  },
  {
   "cell_type": "code",
   "execution_count": null,
   "metadata": {
    "collapsed": false
   },
   "outputs": [],
   "source": [
    "print cat"
   ]
  },
  {
   "cell_type": "markdown",
   "metadata": {},
   "source": [
    "Parameters are also local. For example, outside ``print_twice``, there is no such thing as ``bruce``.  This list of functions is called a <a href='#tb'>traceback</a>. It tells you what program file the error occurred in, and what line, and what functions were executing at the time. It also shows the line of code that caused the error."
   ]
  },
  {
   "cell_type": "markdown",
   "metadata": {},
   "source": [
    "### Global variables\n",
    "\n",
    "Consider the following:"
   ]
  },
  {
   "cell_type": "code",
   "execution_count": null,
   "metadata": {
    "collapsed": false
   },
   "outputs": [],
   "source": [
    "X = 1\n",
    "def fn():\n",
    "    print X\n",
    "fn()"
   ]
  },
  {
   "cell_type": "markdown",
   "metadata": {},
   "source": [
    "``X`` was created outside the function at the notebook level.  Variables defined in this way are is sometimes called <a href='#global'>global</a> variables because they can be accessed from any function. Unlike local variables, which disappear when their function ends, global variables persist from one function call to the next."
   ]
  },
  {
   "cell_type": "markdown",
   "metadata": {},
   "source": [
    "<div style=\"background-color: #FFF8C6; margin-left: 20px; margin-right: 20px; padding-bottom: 8px; padding-left: 8px; padding-right: 8px; padding-top: 8px;\">\n",
    "</a><b>Variable Naming Convention</b><br/>\n",
    "It is customary for global variables to be uppercase, with words separated by underscores as necessary to improve readability.  See [PEP8](https://www.python.org/dev/peps/pep-0008) for more conventions and coding style guidelines.\n",
    "</div>"
   ]
  },
  {
   "cell_type": "markdown",
   "metadata": {},
   "source": [
    "It is common to use global variables for <a href='#flags'>flags</a>; that is, boolean variables that indicate (“flag”) whether a condition is true. For example, some programs use a flag named ``VERBOSE`` to control the level of detail in the output:"
   ]
  },
  {
   "cell_type": "code",
   "execution_count": null,
   "metadata": {
    "collapsed": false
   },
   "outputs": [],
   "source": [
    "VERBOSE = True\n",
    "def print_if_verbose():\n",
    "    if VERBOSE:\n",
    "        print 'I am chatty'\n",
    "print_if_verbose()"
   ]
  },
  {
   "cell_type": "markdown",
   "metadata": {},
   "source": [
    "If you try to reassign a global variable, you might be surprised. The following example is supposed to keep track of whether the function has been called:"
   ]
  },
  {
   "cell_type": "code",
   "execution_count": null,
   "metadata": {
    "collapsed": false
   },
   "outputs": [],
   "source": [
    "BEEN_CALLED = False\n",
    "def fn():\n",
    "    BEEN_CALLED = True  # WRONG\n",
    "fn()\n",
    "BEEN_CALLED"
   ]
  },
  {
   "cell_type": "markdown",
   "metadata": {},
   "source": [
    "When the code is run the value of `BEEN_CALLED` doesn’t change. The problem is that ``fn`` creates a new local variable named `BEEN_CALLED`. The local variable goes away when the function ends, and has no effect on the global variable.\n",
    "\n",
    "To reassign a global variable inside a function you have to <a href='#declare'>declare</a> the global variable before you use it:"
   ]
  },
  {
   "cell_type": "code",
   "execution_count": null,
   "metadata": {
    "collapsed": false
   },
   "outputs": [],
   "source": [
    "BEEN_CALLED = False\n",
    "def fn():\n",
    "    global BEEN_CALLED\n",
    "    BEEN_CALLED = True  # WRONG\n",
    "fn()\n",
    "BEEN_CALLED"
   ]
  },
  {
   "cell_type": "markdown",
   "metadata": {},
   "source": [
    "The ``global`` statement informs the interpreter that references to `BEEN_CALLED` from whithin the function refer to the global variable and that a local variable should not be created.\n",
    "\n",
    "Here’s an example that tries to update a global variable:"
   ]
  },
  {
   "cell_type": "code",
   "execution_count": null,
   "metadata": {
    "collapsed": false
   },
   "outputs": [],
   "source": [
    "COUNT = 0\n",
    "def counter():\n",
    "    COUNT += 1\n",
    "counter()"
   ]
  },
  {
   "cell_type": "markdown",
   "metadata": {},
   "source": [
    "An `UnboundLocalError` is raised because Python assumes that ``COUNT`` is local, which means that you are reading it before writing it. The solution, again, is to declare ``COUNT`` global."
   ]
  },
  {
   "cell_type": "code",
   "execution_count": null,
   "metadata": {
    "collapsed": false
   },
   "outputs": [],
   "source": [
    "COUNT = 0\n",
    "def counter():\n",
    "    global COUNT\n",
    "    COUNT += 1\n",
    "counter()\n",
    "COUNT"
   ]
  },
  {
   "cell_type": "markdown",
   "metadata": {},
   "source": [
    "<div style=\"background-color: #FFF8C6; margin-left: 20px; margin-right: 20px; padding-bottom: 8px; padding-left: 8px; padding-right: 8px; padding-top: 8px;\">\n",
    "Global variables may seem like a handy thing - but they should be avoided if at all possible.  There almost always exists a better way of accomplishing a task that does not include global variables.  Global *constants* on the other hand, are very useful.\n",
    "</div>"
   ]
  },
  {
   "cell_type": "markdown",
   "metadata": {},
   "source": [
    "## Function return values\n",
    "\n",
    "Some of the builtin functions encountered, such as the `int` or `float`, explicitly return a value. Other functions, like ``print_twice``, perform an action but don’t return a value.  For these functions, the return value is `None`.  The value <a href='#none'>`None`</a> is not the same as the string ``'None'``. It is a special value that has its own type:"
   ]
  },
  {
   "cell_type": "code",
   "execution_count": null,
   "metadata": {
    "collapsed": false
   },
   "outputs": [],
   "source": [
    "type(None)"
   ]
  },
  {
   "cell_type": "markdown",
   "metadata": {},
   "source": [
    "As an example of a user defined function with a return value, consider the following function '``area``', that returns the area of a circle with the given radius:"
   ]
  },
  {
   "cell_type": "code",
   "execution_count": null,
   "metadata": {
    "collapsed": true
   },
   "outputs": [],
   "source": [
    "def area(radius):\n",
    "    temp = math.pi * radius**2\n",
    "    return temp"
   ]
  },
  {
   "cell_type": "markdown",
   "metadata": {},
   "source": [
    "We have seen the ``return`` statement before, but here the ``return`` statement includes an expression. This statement means: “Return immediately from this function and use the following expression as a return value.” The expression can be arbitrarily complicated, so we could have written this function more concisely:"
   ]
  },
  {
   "cell_type": "code",
   "execution_count": null,
   "metadata": {
    "collapsed": true
   },
   "outputs": [],
   "source": [
    "def area(radius):\n",
    "    return math.pi * radius**2"
   ]
  },
  {
   "cell_type": "markdown",
   "metadata": {},
   "source": [
    "On the other hand, <a href='#tempvar'>temporary variables</a> like ``temp`` often make debugging easier.\n",
    "\n",
    "Sometimes it is useful to have multiple return statements, one in each branch of a conditional:"
   ]
  },
  {
   "cell_type": "code",
   "execution_count": null,
   "metadata": {
    "collapsed": true
   },
   "outputs": [],
   "source": [
    "def absolute_value(x):\n",
    "    if x < 0:\n",
    "        return -x\n",
    "    else:\n",
    "        return x"
   ]
  },
  {
   "cell_type": "markdown",
   "metadata": {},
   "source": [
    "Since these ``return`` statements are in an alternative conditional, only one will be executed.\n",
    "\n",
    "As soon as a return statement executes, the function terminates without executing any subsequent statements. Code that appears after a\n",
    "``return`` statement, or any other place the flow of execution can never reach, is called <a href='#dead'>dead code</a>.\n",
    "\n",
    "In a fruitful function, it is a good idea to ensure that every possible path through the program hits a ``return`` statement. For example:"
   ]
  },
  {
   "cell_type": "code",
   "execution_count": null,
   "metadata": {
    "collapsed": true
   },
   "outputs": [],
   "source": [
    "def absolute_value(x):\n",
    "    if x < 0:\n",
    "        return -x\n",
    "    if x > 0:\n",
    "        return x"
   ]
  },
  {
   "cell_type": "markdown",
   "metadata": {},
   "source": [
    "This function is incorrect because if ``x`` happens to be 0, neither condition is true, and the function ends without hitting a ``return`` statement. If the flow of execution gets to the end of a function, the return value is ``None``, which is not the absolute value of 0."
   ]
  },
  {
   "cell_type": "code",
   "execution_count": null,
   "metadata": {
    "collapsed": false
   },
   "outputs": [],
   "source": [
    "print absolute_value(0)"
   ]
  },
  {
   "cell_type": "markdown",
   "metadata": {},
   "source": [
    "By the way, Python provides a built-in function called ``abs`` that computes absolute values."
   ]
  },
  {
   "cell_type": "markdown",
   "metadata": {},
   "source": [
    "<div style=\"background-color: #FFF8C6; margin-left: 20px; margin-right: 20px; padding-bottom: 8px; padding-left: 8px; padding-right: 8px; padding-top: 8px;\">\n",
    "Write a ``compare`` function that returns ``1`` if ``x > y``, ``0`` if ``x == y``, and ``-1`` if ``x < y``.\n",
    "</div>"
   ]
  },
  {
   "cell_type": "markdown",
   "metadata": {},
   "source": [
    "## Incremental development\n",
    "\n",
    "As you write larger functions, you might find yourself spending more time debugging.\n",
    "\n",
    "To deal with increasingly complex programs, you might want to try a process called <a href='#incdev'>incremental development</a>. The goal of incremental development is to avoid long debugging sessions by adding and testing only a small amount of code at a time.\n",
    "\n",
    "As an example, suppose you want to find the distance between two points, given by the coordinates $(x_1, y_1)$ and $(x_2, y_2)$. By the Pythagorean theorem, the distance is:\n",
    "\n",
    "$$\\mathrm{distance} = \\sqrt{(x_2 - x_1)^2 + (y_2 - y_1)^2}$$\n",
    "\n",
    "The first step is to consider what a ``distance`` function should look like in Python. In other words, what are the inputs\n",
    "(parameters) and what is the output (return value)?\n",
    "\n",
    "In this case, the inputs are two points, which you can represent using four numbers. The return value is the distance, which is a floating-point value.\n",
    "\n",
    "Already you can write an outline of the function:"
   ]
  },
  {
   "cell_type": "code",
   "execution_count": null,
   "metadata": {
    "collapsed": true
   },
   "outputs": [],
   "source": [
    "def distance(x1, y1, x2, y2):\n",
    "    return 0.0"
   ]
  },
  {
   "cell_type": "markdown",
   "metadata": {},
   "source": [
    "Obviously, this version doesn’t compute distances; it always returns zero. But it is syntactically correct, and it runs, which means that you can test it before you make it more complicated.\n",
    "\n",
    "To test the new function, call it with sample arguments:"
   ]
  },
  {
   "cell_type": "code",
   "execution_count": null,
   "metadata": {
    "collapsed": false
   },
   "outputs": [],
   "source": [
    "distance(1, 2, 4, 6)"
   ]
  },
  {
   "cell_type": "markdown",
   "metadata": {},
   "source": [
    "I chose these values so that the horizontal distance is 3 and the vertical distance is 4; that way, the result is 5 (the hypotenuse of a 3-4-5 triangle). When testing a function, it is useful to know the right answer.\n",
    "\n",
    "At this point we have confirmed that the function is syntactically correct, and we can start adding code to the body. A reasonable next step is to find the differences $x_2 - x_1$ and $y_2 - y_1$. The next version stores those values in temporary variables and prints them."
   ]
  },
  {
   "cell_type": "code",
   "execution_count": null,
   "metadata": {
    "collapsed": false
   },
   "outputs": [],
   "source": [
    "def distance(x1, y1, x2, y2):\n",
    "    dx = x2 - x1\n",
    "    dy = y2 - y1\n",
    "    print 'dx is', dx\n",
    "    print 'dy is', dy\n",
    "    return 0.0\n",
    "distance(1, 2, 4, 6)"
   ]
  },
  {
   "cell_type": "markdown",
   "metadata": {},
   "source": [
    "If the function is working, it should display `'dx is 3'` and ``’dy is 4’``. If so, we know that the function is getting the right arguments and performing the first computation correctly. If not, there are only a few lines to check.\n",
    "\n",
    "Next we compute the sum of squares of ``dx`` and ``dy``:"
   ]
  },
  {
   "cell_type": "code",
   "execution_count": null,
   "metadata": {
    "collapsed": false
   },
   "outputs": [],
   "source": [
    "def distance(x1, y1, x2, y2):\n",
    "    dx = x2 - x1\n",
    "    dy = y2 - y1\n",
    "    dsquared = dx**2 + dy**2\n",
    "    print 'dsquared is: ', dsquared\n",
    "    return 0.0\n",
    "distance(1, 2, 4, 6)"
   ]
  },
  {
   "cell_type": "markdown",
   "metadata": {},
   "source": [
    "Again, you would run the program at this stage and check the output (which should be 25). Finally, you can use ``math.sqrt`` to compute and return the result:"
   ]
  },
  {
   "cell_type": "code",
   "execution_count": null,
   "metadata": {
    "collapsed": false
   },
   "outputs": [],
   "source": [
    "def distance(x1, y1, x2, y2):\n",
    "    dx = x2 - x1\n",
    "    dy = y2 - y1\n",
    "    dsquared = dx**2 + dy**2\n",
    "    result = math.sqrt(dsquared)\n",
    "    return result\n",
    "distance(1, 2, 4, 6)"
   ]
  },
  {
   "cell_type": "markdown",
   "metadata": {},
   "source": [
    "If that works correctly, you are done. Otherwise, you might want to print the value of ``result`` before the return statement.\n",
    "\n",
    "The final version of the function doesn’t display anything when it runs; it only returns a value. The ``print`` statements we wrote are useful for debugging, but once you get the function working, you should remove them. Code like that is called <a href='#scaffold'>scaffolding</a> because it is helpful for building the program but is not part of the final product.\n",
    "\n",
    "When you start out, you should add only a line or two of code at a time. As you gain more experience, you might find yourself writing and debugging bigger chunks. Either way, incremental development can save you a lot of debugging time.\n",
    "\n",
    "The key aspects of the process are:\n",
    "\n",
    "1.  Start with a working program and make small incremental changes. At\n",
    "    any point, if there is an error, you should have a good idea where\n",
    "    it is.\n",
    "\n",
    "2.  Use temporary variables to hold intermediate values so you can\n",
    "    display and check them.\n",
    "\n",
    "3.  Once the program is working, you might want to remove some of the\n",
    "    scaffolding or consolidate multiple statements into compound\n",
    "    expressions, but only if it does not make the program difficult to\n",
    "    read.\n",
    "\n",
    "Use incremental development to write a function called\n",
    "``hypotenuse`` that returns the length of the hypotenuse of a right triangle given the lengths of the two legs as arguments. Record each stage of the development process as you go."
   ]
  },
  {
   "cell_type": "markdown",
   "metadata": {},
   "source": [
    "## Composition\n",
    "\n",
    "As you should expect by now, you can call one function from within another. This ability is called <a href='#comp'>composition</a>.\n",
    "\n",
    "As an example, we’ll write a function that takes two points, the center of the circle and a point on the perimeter, and computes the area of the circle.\n",
    "\n",
    "Assume that the center point is stored in the variables ``xc`` and ``yc``, and the perimeter point is in ``xp`` and\n",
    "``yp``. The first step is to find the radius of the circle, which is the distance between the two points. We just wrote a function, ``distance``, that does that:"
   ]
  },
  {
   "cell_type": "code",
   "execution_count": null,
   "metadata": {
    "collapsed": true
   },
   "outputs": [],
   "source": [
    "xc = 1\n",
    "yc = 2\n",
    "xp = 4\n",
    "yp = 6\n",
    "radius = distance(xc, yc, xp, yp)"
   ]
  },
  {
   "cell_type": "markdown",
   "metadata": {},
   "source": [
    "The next step is to find the area of a circle with that radius; we just wrote that, too:"
   ]
  },
  {
   "cell_type": "code",
   "execution_count": null,
   "metadata": {
    "collapsed": false
   },
   "outputs": [],
   "source": [
    "result = area(radius)\n",
    "result"
   ]
  },
  {
   "cell_type": "markdown",
   "metadata": {},
   "source": [
    "Encapsulating these steps in a function, we get:"
   ]
  },
  {
   "cell_type": "code",
   "execution_count": null,
   "metadata": {
    "collapsed": false
   },
   "outputs": [],
   "source": [
    "def circle_area(xc, yc, xp, yp):\n",
    "    radius = distance(xc, yc, xp, yp)\n",
    "    result = area(radius)\n",
    "    return result\n",
    "circle_area(xc, yc, xp, yp)"
   ]
  },
  {
   "cell_type": "markdown",
   "metadata": {},
   "source": [
    "The temporary variables ``radius`` and ``result`` are useful for development and debugging, but once the program is working, we can make it more concise by composing the function calls:"
   ]
  },
  {
   "cell_type": "code",
   "execution_count": null,
   "metadata": {
    "collapsed": false
   },
   "outputs": [],
   "source": [
    "def circle_area(xc, yc, xp, yp):\n",
    "    return area(distance(xc, yc, xp, yp))\n",
    "circle_area(xc, yc, xp, yp)"
   ]
  },
  {
   "cell_type": "markdown",
   "metadata": {},
   "source": [
    "## Boolean functions\n",
    "\n",
    "Functions can return booleans, which is often convenient for hiding complicated tests inside functions. For example:"
   ]
  },
  {
   "cell_type": "code",
   "execution_count": null,
   "metadata": {
    "collapsed": true
   },
   "outputs": [],
   "source": [
    "def is_divisible(x, y):\n",
    "    if x % y == 0:\n",
    "        return True\n",
    "    else:\n",
    "        return False"
   ]
  },
  {
   "cell_type": "markdown",
   "metadata": {},
   "source": [
    "It is common to give boolean functions names that sound like yes/no questions; `is_divisible` returns either ``True`` or ``False`` to indicate whether ``x`` is divisible by ``y``.\n",
    "\n",
    "Here is an example:"
   ]
  },
  {
   "cell_type": "code",
   "execution_count": null,
   "metadata": {
    "collapsed": false
   },
   "outputs": [],
   "source": [
    "is_divisible(6, 4)"
   ]
  },
  {
   "cell_type": "code",
   "execution_count": null,
   "metadata": {
    "collapsed": false
   },
   "outputs": [],
   "source": [
    "is_divisible(6, 3)"
   ]
  },
  {
   "cell_type": "markdown",
   "metadata": {},
   "source": [
    "The result of the ``==`` operator is a boolean, so we can write the function more concisely by returning it directly:"
   ]
  },
  {
   "cell_type": "code",
   "execution_count": null,
   "metadata": {
    "collapsed": true
   },
   "outputs": [],
   "source": [
    "def is_divisible(x, y):\n",
    "    return x % y == 0"
   ]
  },
  {
   "cell_type": "markdown",
   "metadata": {},
   "source": [
    "Boolean functions are often used in conditional statements:"
   ]
  },
  {
   "cell_type": "code",
   "execution_count": null,
   "metadata": {
    "collapsed": false
   },
   "outputs": [],
   "source": [
    "x = 6\n",
    "y = 3\n",
    "if is_divisible(x, y):\n",
    "    print 'x is divisible by y'"
   ]
  },
  {
   "cell_type": "markdown",
   "metadata": {},
   "source": [
    "It might be tempting to write something like:"
   ]
  },
  {
   "cell_type": "code",
   "execution_count": null,
   "metadata": {
    "collapsed": false
   },
   "outputs": [],
   "source": [
    "if is_divisible(x, y) == True:\n",
    "    print 'x is divisible by y'"
   ]
  },
  {
   "cell_type": "markdown",
   "metadata": {},
   "source": [
    "But the extra comparison is unnecessary."
   ]
  },
  {
   "cell_type": "markdown",
   "metadata": {},
   "source": [
    "<div style=\"background-color: #FFF8C6; margin-left: 20px; margin-right: 20px; padding-bottom: 8px; padding-left: 8px; padding-right: 8px; padding-top: 8px;\">\n",
    "Write a function `is_between(x, y, z)` that returns ``True`` if $x \\le y \\le z$ or ``False`` otherwise.\n",
    "</div>"
   ]
  },
  {
   "cell_type": "markdown",
   "metadata": {},
   "source": [
    "## Debugging\n",
    "\n",
    "<a name='editor'></a>\n",
    "If you are using a text editor to write your scripts, you might run into problems with spaces and tabs. The best way to avoid these problems is to use spaces exclusively (no tabs). Most text editors that know about Python do this by default, but some don’t.\n",
    "\n",
    "Tabs and spaces are usually invisible, which makes them hard to debug, so try to find an editor that manages indentation for you.\n",
    "\n",
    "Also, don’t forget to save your program before you run it. Some development environments do this automatically, but some don’t. In that case the program you are looking at in the text editor is not the same as the program you are running.\n",
    "\n",
    "Debugging can take a long time if you keep running the same, incorrect, program over and over!\n",
    "\n",
    "Make sure that the code you are looking at is the code you are running. If you’re not sure, put something like ``print 'hello'`` at the beginning of the program and run it again. If you don’t see ``hello``, you’re not running the right program!"
   ]
  },
  {
   "cell_type": "markdown",
   "metadata": {},
   "source": [
    "## Glossary\n",
    "\n",
    "* <a name='func'>function</a>\n",
    "\n",
    "    A named sequence of statements that performs some useful operation. Functions may or may not take arguments and may or may not produce a result.\n",
    "\n",
    "* <a name='funcdef'>function definition</a>\n",
    "\n",
    "    A statement that creates a new function, specifying its name, parameters, and the statements it executes.\n",
    "\n",
    "* <a name='funcobj'>function object</a>\n",
    "\n",
    "    A value created by a function definition. The name of the function is a variable that refers to a function object.\n",
    "\n",
    "* <a name='param'>parameter</a>\n",
    "\n",
    "    A name used inside a function to refer to the value passed as an argument.\n",
    "\n",
    "* <a name='funcall'>function call</a>\n",
    "\n",
    "    A statement that executes a function. It consists of the function name followed by an argument list.\n",
    "\n",
    "* <a name='arg'>argument</a>\n",
    "\n",
    "    A value provided to a function when the function is called. This value is assigned to the corresponding parameter in the function.\n",
    "\n",
    "* <a name='local'>local variable</a>\n",
    "\n",
    "    A variable defined inside a function. A local variable can only be used inside its function.\n",
    "    \n",
    "* <a name='global'>global variable</a>\n",
    "\n",
    "    A variable defined outside a function. Global variables can be\n",
    "    accessed from any function.\n",
    "    \n",
    "* <a name='declare'>declaration</a>\n",
    "\n",
    "    A statement like ``global`` that tells the interpreter\n",
    "    something about a variable.\n",
    "\n",
    "* <a name='flag'>flag</a>\n",
    "\n",
    "    A boolean variable used to indicate whether a condition is true.\n",
    "\n",
    "* <a name='retval'>return value</a>\n",
    "\n",
    "    The result of a function. If a function call is used as an expression, the return value is the value of the expression.\n",
    "\n",
    "* <a name='composition'>composition</a>\n",
    "\n",
    "    Using an expression as part of a larger expression, or a statement as part of a larger statement.\n",
    "\n",
    "* <a name='flow'>flow of execution</a>\n",
    "\n",
    "    The order in which statements are executed during a program run.\n",
    "\n",
    "- <a name='tempvar'>temporary variable:</a>\n",
    "\n",
    "    A variable used to store an intermediate value in a complex\n",
    "    calculation.\n",
    "\n",
    "- <a name='dead'>dead code:</a>\n",
    "\n",
    "    Part of a program that can never be executed, often because it\n",
    "    appears after a ``return`` statement.\n",
    "\n",
    "- <a name='none'>None:</a>\n",
    "\n",
    "    A special value returned by functions that have no return statement\n",
    "    or a return statement without an argument.\n",
    "\n",
    "- <a name='tb'>traceback</a>\n",
    "\n",
    "    A list of the functions that are executing, printed when an exception occurs.\n",
    "    \n",
    "- <a name='incdev'>incremental development:</a>\n",
    "\n",
    "    A program development plan intended to avoid debugging by adding and\n",
    "    testing only a small amount of code at a time.\n",
    "\n",
    "- <a name='scaffold'>scaffolding:</a>\n",
    "\n",
    "    Code that is used during program development but is not part of the\n",
    "    final version."
   ]
  },
  {
   "cell_type": "markdown",
   "metadata": {},
   "source": [
    "## Exercises"
   ]
  },
  {
   "cell_type": "markdown",
   "metadata": {},
   "source": [
    "### Exercise 1\n",
    "Python provides a built-in function called ``len`` that returns the length of a string, so the value of ``len('allen')`` is 5."
   ]
  },
  {
   "cell_type": "markdown",
   "metadata": {},
   "source": [
    "### Exercise 2\n",
    "Write a function named ``right_justify`` that takes a string named ``s`` as a parameter and prints the string with enough leading spaces so that the last letter of the string is in column 70 of the display.\n",
    "\n",
    "    >>> right_justify('allen')\n",
    "                                                                      allen"
   ]
  },
  {
   "cell_type": "markdown",
   "metadata": {},
   "source": [
    "### Exercise 3\n",
    "A function object is a value you can assign to a variable or pass as an argument. For example, ``do_twice`` is a function that takes a function object as an argument and calls it twice:"
   ]
  },
  {
   "cell_type": "code",
   "execution_count": null,
   "metadata": {
    "collapsed": true
   },
   "outputs": [],
   "source": [
    "def do_twice(f): \n",
    "    f() \n",
    "    f()"
   ]
  },
  {
   "cell_type": "markdown",
   "metadata": {},
   "source": [
    "Here’s an example that uses ``do_twice`` to call a function named ``print_spam`` twice."
   ]
  },
  {
   "cell_type": "code",
   "execution_count": null,
   "metadata": {
    "collapsed": false
   },
   "outputs": [],
   "source": [
    "def print_spam(): \n",
    "    print 'spam'\n",
    "\n",
    "do_twice(print_spam)"
   ]
  },
  {
   "cell_type": "markdown",
   "metadata": {},
   "source": [
    "1. Modify ``do_twice`` so that it takes two arguments, a function object and a value, and calls the function twice, passing the value as an argument.\n",
    "\n",
    "2. Write a more general version of ``print_spam``, called ``print_twice``, that takes a string as a parameter and prints it twice.\n",
    "\n",
    "3. Use the modified version of ``do_twice`` to call ``print_twice`` twice, passing ``'spam'`` as an argument.\n",
    "\n",
    "4. Define a new function called ``do_four`` that takes a function object and a value and calls the function four times, passing the value as a parameter. There should be only two statements in the body of this function, not four."
   ]
  },
  {
   "cell_type": "markdown",
   "metadata": {},
   "source": [
    "### Exercise 4\n",
    "This exercise can be done using only the statements and other features we have learned so far.\n",
    "\n",
    "1. Write a function that draws a grid like the following:\n",
    "\n",
    "        + - - - - + - - - - +\n",
    "        |         |         |\n",
    "        |         |         |\n",
    "        |         |         |\n",
    "        |         |         |\n",
    "        + - - - - + - - - - +\n",
    "        |         |         |\n",
    "        |         |         |\n",
    "        |         |         |\n",
    "        |         |         |\n",
    "        + - - - - + - - - - +\n",
    "\n",
    "    Hint: to print more than one value on a line, you can print a comma-separated sequence:\n",
    "\n",
    "        print '+', '-'\n",
    "\n",
    "    If the sequence ends with a comma, Python leaves the line unfinished, so the value printed next appears on the same line.\n",
    "\n",
    "        print '+', \n",
    "        print '-'\n",
    "\n",
    "    The output of these statements is ``'+ -'``.\n",
    "\n",
    "    A ``print`` statement all by itself ends the current line and goes to the next line.\n",
    "\n",
    "2. Write a function that draws a similar grid with four rows and four columns.\n",
    "\n",
    "Credit: This exercise is based on an exercise in Oualline, *Practical C Programming, Third Edition*, O’Reilly Media, 1997."
   ]
  },
  {
   "cell_type": "markdown",
   "metadata": {},
   "source": [
    "<a name='ackermann'></a>\n",
    "### Exercise 5\n",
    "\n",
    "The Ackermann function, $A(m, n)$, is defined:\n",
    "\n",
    "$$\\begin{aligned} A(m, n) = \\begin{cases}\n",
    "              n+1 & \\mbox{if } m = 0 \\\\\n",
    "        A(m-1, 1) & \\mbox{if } m > 0 \\mbox{ and } n = 0 \\\\ A(m-1, A(m, n-1)) & \\mbox{if } m > 0 \\mbox{ and } n > 0.\n",
    "\\end{cases}\\end{aligned}$$\n",
    "\n",
    "See <http://en.wikipedia.org/wiki/Ackermann_function>. Write a function named ``ack`` that evaluates Ackermann’s function. Use your function to evaluate ``ack(3, 4)``, which should be 125. What happens for larger values of ``m`` and ``n``? "
   ]
  },
  {
   "cell_type": "markdown",
   "metadata": {},
   "source": [
    "### Exercise 6\n",
    "\n",
    "A palindrome is a word that is spelled the same backward and forward, like “noon” and “redivider”. Recursively, a word is a palindrome if the first and last letters are the same and the middle is a palindrome.\n",
    "\n",
    "The following are functions that take a string argument and return the first, last, and middle letters:"
   ]
  },
  {
   "cell_type": "code",
   "execution_count": null,
   "metadata": {
    "collapsed": true
   },
   "outputs": [],
   "source": [
    "def first(word):\n",
    "    return word[0]\n",
    "\n",
    "def last(word):\n",
    "    return word[-1]\n",
    "\n",
    "def middle(word):\n",
    "    return word[1:-1]"
   ]
  },
  {
   "cell_type": "markdown",
   "metadata": {},
   "source": [
    "We’ll see how they work in a later chapter.\n",
    "\n",
    "1.  What happens if you call ``middle`` with\n",
    "    a string with two letters? One letter? What about the empty string,\n",
    "    which is written `''` and contains no letters?\n",
    "\n",
    "2.  Write a function called `is_palindrome` that takes a string argument\n",
    "    and returns ``True`` if it is a palindrome and ``False`` otherwise. Remember that you can use the built-in\n",
    "    function ``len`` to check the length of a string."
   ]
  },
  {
   "cell_type": "markdown",
   "metadata": {},
   "source": [
    "### Exercise 7\n",
    "\n",
    "A number, $a$, is a power of $b$ if it is divisible by $b$ and $a/b$ is a power of $b$. Write a function called `is_power` that takes parameters\n",
    "``a`` and ``b`` and returns ``True`` if\n",
    "``a`` is a power of ``b``. Note: you will have to think about the base case.\n",
    "\n",
    "The greatest common divisor (GCD) of $a$ and $b$ is the largest number that divides both of them with no remainder.\n",
    "\n",
    "One way to find the GCD of two numbers is based on the observation that if $r$ is the remainder when $a$ is divided by $b$, then $gcd(a, b) = gcd(b, r)$. As a base case, we can use $gcd(a, 0) = a$.\n",
    "\n",
    "Write a function called `gcd` that takes parameters ``a`` and ``b`` and returns their greatest common divisor.\n",
    "\n",
    "Credit: This exercise is based on an example from Abelson and Sussman’s *Structure and Interpretation of Computer Programs*."
   ]
  }
 ],
 "metadata": {
  "kernelspec": {
   "display_name": "Python 2",
   "language": "python",
   "name": "python2"
  },
  "language_info": {
   "codemirror_mode": {
    "name": "ipython",
    "version": 2
   },
   "file_extension": ".py",
   "mimetype": "text/x-python",
   "name": "python",
   "nbconvert_exporter": "python",
   "pygments_lexer": "ipython2",
   "version": "2.7.10"
  }
 },
 "nbformat": 4,
 "nbformat_minor": 0
}
