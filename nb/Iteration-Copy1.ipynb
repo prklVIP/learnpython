{
 "cells": [
  {
   "cell_type": "markdown",
   "metadata": {},
   "source": [
    "# Iteration"
   ]
  },
  {
   "cell_type": "markdown",
   "metadata": {},
   "source": [
    "## Multiple assignment\n",
    "\n",
    "As you may have discovered, it is legal to make more than one assignment to the same variable. A new assignment makes an existing variable refer to a new value (and stop referring to the old value)."
   ]
  },
  {
   "cell_type": "code",
   "execution_count": null,
   "metadata": {
    "collapsed": false
   },
   "outputs": [],
   "source": [
    "bruce = 5\n",
    "print bruce,\n",
    "bruce = 7\n",
    "print bruce"
   ]
  },
  {
   "cell_type": "markdown",
   "metadata": {},
   "source": [
    "The output of this program is ``5 7``, because the first time ``bruce`` is printed, its value is 5, and the second time, its value is 7. The comma at the end of the first ``print`` statement suppresses the newline, which is why both outputs appear on the same line.\n",
    "\n",
    "Figure [fig.assign2] shows what **multiple assignment** looks like in a state diagram.\n",
    "\n",
    "With multiple assignment it is especially important to distinguish between an assignment operation and a statement of equality. Because Python uses the equal sign (``=``) for assignment, it is tempting to interpret a statement like ``a = b`` as a statement of equality. It is not!\n",
    "\n",
    "First, equality is a symmetric relation and assignment is not. For example, in mathematics, if $a=7$ then $7=a$. But in Python, the statement ``a = 7`` is legal and ``7 = a`` is not.\n",
    "\n",
    "Furthermore, in mathematics, a statement of equality is either true or false, for all time. If $a=b$ now, then $a$ will always equal $b$. In Python, an assignment statement can make two variables equal, but they don’t have to stay that way:"
   ]
  },
  {
   "cell_type": "code",
   "execution_count": null,
   "metadata": {
    "collapsed": false
   },
   "outputs": [],
   "source": [
    "a = 5\n",
    "b = a    # a and b are now equal\n",
    "a = 3    # a and b are no longer equal\n",
    "print a, b"
   ]
  },
  {
   "cell_type": "markdown",
   "metadata": {},
   "source": [
    "The third line changes the value of ``a`` but does not change the value of ``b``, so they are no longer equal.\n",
    "\n",
    "Although multiple assignment is frequently helpful, you should use it with caution. If the values of variables change frequently, it can make the code difficult to read and debug.\n",
    "\n",
    "<img src='figs/assign2.png'/>"
   ]
  },
  {
   "cell_type": "markdown",
   "metadata": {},
   "source": [
    "## Updating variables\n",
    "\n",
    "One of the most common forms of multiple assignment is an **update**, where the new value of the variable depends on the old."
   ]
  },
  {
   "cell_type": "code",
   "execution_count": null,
   "metadata": {
    "collapsed": false
   },
   "outputs": [],
   "source": [
    "x = 1\n",
    "x = x + 1\n",
    "x"
   ]
  },
  {
   "cell_type": "markdown",
   "metadata": {},
   "source": [
    "This means “get the current value of ``x``, add one, and then update ``x`` with the new value.”\n",
    "\n",
    "If you try to update a variable that doesn’t exist, you get an error, because Python evaluates the right side before it assigns a value to the left hand side:"
   ]
  },
  {
   "cell_type": "code",
   "execution_count": null,
   "metadata": {
    "collapsed": false
   },
   "outputs": [],
   "source": [
    "z = z + 1"
   ]
  },
  {
   "cell_type": "markdown",
   "metadata": {},
   "source": [
    "Before you can update a variable, you have to **initialize** it, usually with a simple assignment:"
   ]
  },
  {
   "cell_type": "code",
   "execution_count": null,
   "metadata": {
    "collapsed": false
   },
   "outputs": [],
   "source": [
    "x = 0\n",
    "x = x + 1\n",
    "x"
   ]
  },
  {
   "cell_type": "markdown",
   "metadata": {},
   "source": [
    "Updating a variable by adding 1 is called an **increment**; subtracting 1 is called a **decrement**.  The preceding statement can be abbreviated using the ``+=`` assignment operator:"
   ]
  },
  {
   "cell_type": "code",
   "execution_count": null,
   "metadata": {
    "collapsed": false
   },
   "outputs": [],
   "source": [
    "x = 0\n",
    "x += 1\n",
    "x"
   ]
  },
  {
   "cell_type": "markdown",
   "metadata": {},
   "source": [
    "## The ``while`` statement\n",
    "\n",
    "Computers are often used to automate repetitive tasks. Repeating identical or similar tasks without making errors is something that computers do well and people do poorly.\n",
    "\n",
    "We have seen two programs, ``countdown`` and `print_n`, that use recursion to perform repetition, which is also called **iteration**. Because iteration is so common, Python provides several language features to make it easier. One is the ``for`` statement we saw in Section [repetition]. We’ll get back to that later.\n",
    "\n",
    "Another is the ``while`` statement. Here is a version of ``countdown`` that uses a ``while`` statement:"
   ]
  },
  {
   "cell_type": "code",
   "execution_count": null,
   "metadata": {
    "collapsed": true
   },
   "outputs": [],
   "source": [
    "def countdown(n):\n",
    "    while n > 0:\n",
    "        print n\n",
    "        n = n-1\n",
    "    print 'Blastoff!'"
   ]
  },
  {
   "cell_type": "code",
   "execution_count": null,
   "metadata": {
    "collapsed": false
   },
   "outputs": [],
   "source": [
    "countdown(5)"
   ]
  },
  {
   "cell_type": "markdown",
   "metadata": {},
   "source": [
    "You can almost read the ``while`` statement as if it were English. It means, “While ``n`` is greater than 0, display the value of ``n`` and then reduce the value of ``n`` by 1. When you get to 0, display the word ``Blastoff!``”\n",
    "\n",
    "More formally, here is the flow of execution for a ``while`` statement:\n",
    "\n",
    "1.  Evaluate the condition, yielding ``True`` or\n",
    "    ``False``.\n",
    "\n",
    "2.  If the condition is false, exit the ``while`` statement and\n",
    "    continue execution at the next statement.\n",
    "\n",
    "3.  If the condition is true, execute the body and then go back to step\n",
    "    1.\n",
    "\n",
    "This type of flow is called a **loop** because the third step loops back around to the top.\n",
    "\n",
    "The body of the loop should change the value of one or more variables so that eventually the condition becomes false and the loop terminates. Otherwise the loop will repeat forever, which is called an **infinite loop**. An endless source of amusement for computer scientists is the observation that the directions on shampoo,\n",
    "“Lather, rinse, repeat,” are an infinite loop.\n",
    "\n",
    "In the case of ``countdown``, we can prove that the loop terminates because we know that the value of ``n`` is finite, and we can see that the value of ``n`` gets smaller each time through the loop, so eventually we have to get to 0. In other cases, it is not so easy to tell:"
   ]
  },
  {
   "cell_type": "code",
   "execution_count": null,
   "metadata": {
    "collapsed": true
   },
   "outputs": [],
   "source": [
    "def sequence(n):\n",
    "    while n != 1:\n",
    "        print n,\n",
    "        if n%2 == 0:        # n is even\n",
    "            n = n/2\n",
    "        else:               # n is odd\n",
    "            n = n*3+1"
   ]
  },
  {
   "cell_type": "markdown",
   "metadata": {},
   "source": [
    "The condition for this loop is ``n != 1``, so the loop will continue until ``n`` is ``1``, which makes the condition false.\n",
    "\n",
    "Each time through the loop, the program outputs the value of ``n`` and then checks whether it is even or odd. If it is even, ``n`` is divided by 2. If it is odd, the value of ``n`` is replaced with ``n*3+1``. For example, if the argument passed to ``sequence`` is 3, the resulting sequence is 3, 10, 5, 16, 8, 4, 2, 1.\n",
    "\n",
    "Since ``n`` sometimes increases and sometimes decreases, there is no obvious proof that ``n`` will ever reach 1, or that the program terminates. For some particular values of ``n``, we can prove termination. For example, if the starting value is a power of two, then the value of ``n`` will be even each time through the loop until it reaches 1. The previous example ends with such a sequence, starting with 16.\n",
    "\n",
    "The hard question is whether we can prove that this program terminates for *all positive values* of ``n``. So far, no one has been able to prove it *or* disprove it! (See\n",
    "<http://en.wikipedia.org/wiki/Collatz_conjecture>.)\n",
    "\n",
    "Rewrite the function `print_n` from [Recursion and Conditionals](Conditionals and Recursion.ipynb) using iteration instead of recursion."
   ]
  },
  {
   "cell_type": "markdown",
   "metadata": {},
   "source": [
    "## ``break``\n",
    "\n",
    "Sometimes you don’t know it’s time to end a loop until you get half way through the body. In that case you can use the ``break`` statement to jump out of the loop.\n",
    "\n",
    "For example, suppose you want to take input from the user until they type ``done``. You could write:"
   ]
  },
  {
   "cell_type": "code",
   "execution_count": null,
   "metadata": {
    "collapsed": false
   },
   "outputs": [],
   "source": [
    "while True:\n",
    "    line = raw_input('> ')\n",
    "    if line == 'done':\n",
    "        break\n",
    "    print line\n",
    "\n",
    "print 'Done!'"
   ]
  },
  {
   "cell_type": "markdown",
   "metadata": {},
   "source": [
    "The loop condition is ``True``, which is always true, so the loop runs until it hits the break statement.\n",
    "\n",
    "Each time through, it prompts the user with an angle bracket. If the user types ``done``, the ``break`` statement exits the loop. Otherwise the program echoes whatever the user types and goes back to the top of the loop. \n",
    "\n",
    "This way of writing ``while`` loops is common because you can check the condition anywhere in the loop (not just at the top) and you can express the stop condition affirmatively (“stop when this happens”) rather than negatively (“keep going until that happens.”)."
   ]
  },
  {
   "cell_type": "markdown",
   "metadata": {},
   "source": [
    "## Square roots\n",
    "\n",
    "Loops are often used in programs that compute numerical results by starting with an approximate answer and iteratively improving it.\n",
    "\n",
    "For example, one way of computing square roots is Newton’s method. Suppose that you want to know the square root of $a$. If you start with almost any estimate, $x$, you can compute a better estimate with the following formula:\n",
    "\n",
    "$$y = \\frac{x + a/x}{2}$$ For example, if $a$ is 4 and $x$ is 3:"
   ]
  },
  {
   "cell_type": "code",
   "execution_count": null,
   "metadata": {
    "collapsed": false
   },
   "outputs": [],
   "source": [
    "a = 4.0\n",
    "x = 3.0\n",
    "y = (x + a / x) / 2\n",
    "print y"
   ]
  },
  {
   "cell_type": "markdown",
   "metadata": {},
   "source": [
    "Which is closer to the correct answer ($\\sqrt{4} = 2$). If we repeat the process with the new estimate, it gets even closer:"
   ]
  },
  {
   "cell_type": "code",
   "execution_count": null,
   "metadata": {
    "collapsed": false
   },
   "outputs": [],
   "source": [
    "x = y\n",
    "y = (x + a / x) / 2\n",
    "print y"
   ]
  },
  {
   "cell_type": "markdown",
   "metadata": {},
   "source": [
    "After a few more updates, the estimate is almost exact:"
   ]
  },
  {
   "cell_type": "code",
   "execution_count": null,
   "metadata": {
    "collapsed": false
   },
   "outputs": [],
   "source": [
    "x = y\n",
    "y = (x + a / x) / 2\n",
    "print y\n",
    "\n",
    "x = y\n",
    "y = (x + a / x) / 2\n",
    "print y"
   ]
  },
  {
   "cell_type": "markdown",
   "metadata": {},
   "source": [
    "In general we don’t know ahead of time how many steps it takes to get to the right answer, but we know when we get there because the estimate stops changing:"
   ]
  },
  {
   "cell_type": "code",
   "execution_count": null,
   "metadata": {
    "collapsed": false
   },
   "outputs": [],
   "source": [
    "x = y\n",
    "y = (x + a / x) / 2\n",
    "print y\n",
    "\n",
    "x = y\n",
    "y = (x + a / x) / 2\n",
    "print y"
   ]
  },
  {
   "cell_type": "markdown",
   "metadata": {},
   "source": [
    "When ``y == x``, we can stop. Here is a loop that starts with an initial estimate, ``x``, and improves it until it stops changing:"
   ]
  },
  {
   "cell_type": "code",
   "execution_count": null,
   "metadata": {
    "collapsed": false
   },
   "outputs": [],
   "source": [
    "while True:\n",
    "    print x\n",
    "    y = (x + a / x) / 2\n",
    "    if y == x:\n",
    "        break\n",
    "    x = y"
   ]
  },
  {
   "cell_type": "markdown",
   "metadata": {},
   "source": [
    "For most values of ``a`` this works fine, but in general it is dangerous to test ``float`` equality. Floating-point values are only approximately right: most rational numbers, like $1/3$, and irrational numbers, like $\\sqrt{2}$, can’t be represented exactly with a ``float``.\n",
    "\n",
    "Rather than checking whether ``x`` and ``y`` are exactly equal, it is safer to use the built-in function ``abs`` to compute the absolute value, or magnitude, of the difference between them:"
   ]
  },
  {
   "cell_type": "code",
   "execution_count": null,
   "metadata": {
    "collapsed": false
   },
   "outputs": [],
   "source": [
    "epsilon = 1e-12\n",
    "x = 2.5\n",
    "while True:\n",
    "    print x\n",
    "    y = (x + a / x) / 2\n",
    "    if abs(y - x) < epsilon:\n",
    "        break\n",
    "    x = y        "
   ]
  },
  {
   "cell_type": "markdown",
   "metadata": {},
   "source": [
    "Where `epsilon` is a tolerance that determines how close is close enough."
   ]
  },
  {
   "cell_type": "markdown",
   "metadata": {},
   "source": [
    "<div style=\"background-color: #FFF8C6; margin-left: 20px; margin-right: 20px; padding-bottom: 8px; padding-left: 8px; padding-right: 8px; padding-top: 8px;\">\n",
    "Encapsulate this loop in a function called `square_root` that takes ``a`` as a parameter, chooses a reasonable value of ``x``, and returns an estimate of the square root of ``a``.\n",
    "</div>"
   ]
  },
  {
   "cell_type": "markdown",
   "metadata": {},
   "source": [
    "## Algorithms\n",
    "\n",
    "Newton’s method is an example of an **algorithm**: it is a mechanical process for solving a category of problems (in this case, computing square roots).\n",
    "\n",
    "It is not easy to define an algorithm. It might help to start with something that is not an algorithm. When you learned to multiply single-digit numbers, you probably memorized the multiplication table. In effect, you memorized 100 specific solutions. That kind of knowledge is not algorithmic.\n",
    "\n",
    "But if you were “lazy,” you probably cheated by learning a few tricks. For example, to find the product of $n$ and 9, you can write $n-1$ as the first digit and $10-n$ as the second digit. This trick is a general solution for multiplying any single-digit number by 9. That’s an algorithm!\n",
    "\n",
    "Similarly, the techniques you learned for addition with carrying, subtraction with borrowing, and long division are all algorithms. One of the characteristics of algorithms is that they do not require any intelligence to carry out. They are mechanical processes in which each step follows from the last according to a simple set of rules.\n",
    "\n",
    "In my opinion, it is embarrassing that humans spend so much time in school learning to execute algorithms that, quite literally, require no intelligence.\n",
    "\n",
    "On the other hand, the process of designing algorithms is interesting, intellectually challenging, and a central part of what we call programming.\n",
    "\n",
    "Some of the things that people do naturally, without difficulty or conscious thought, are the hardest to express algorithmically. Understanding natural language is a good example. We all do it, but so far no one has been able to explain *how* we do it, at least not in the form of an algorithm."
   ]
  },
  {
   "cell_type": "markdown",
   "metadata": {},
   "source": [
    "## Debugging\n",
    "\n",
    "As you start writing bigger programs, you might find yourself spending more time debugging. More code means more chances to make an error and more place for bugs to hide.\n",
    "\n",
    "One way to cut your debugging time is “debugging by bisection.” For example, if there are 100 lines in your program and you check them one at a time, it would take 100 steps.\n",
    "\n",
    "Instead, try to break the problem in half. Look at the middle of the program, or near it, for an intermediate value you can check. Add a ``print`` statement (or something else that has a verifiable effect) and run the program.\n",
    "\n",
    "If the mid-point check is incorrect, there must be a problem in the first half of the program. If it is correct, the problem is in the second half.\n",
    "\n",
    "Every time you perform a check like this, you halve the number of lines you have to search. After six steps (which is fewer than 100), you would be down to one or two lines of code, at least in theory.\n",
    "\n",
    "In practice it is not always clear what the “middle of the program” is and not always possible to check it. It doesn’t make sense to count lines and find the exact midpoint. Instead, think about places in the program where there might be errors and places where it is easy to put a check. Then choose a spot where you think the chances are about the same that the bug is before or after the check."
   ]
  },
  {
   "cell_type": "markdown",
   "metadata": {},
   "source": [
    "## Glossary\n",
    "\n",
    "- **multiple assignment:**\n",
    "\n",
    "    Making more than one assignment to the same variable during the\n",
    "    execution of a program.\n",
    "\n",
    "- **update:**\n",
    "\n",
    "    An assignment where the new value of the variable depends on the\n",
    "    old.\n",
    "\n",
    "- **initialization:**\n",
    "\n",
    "    An assignment that gives an initial value to a variable that will be\n",
    "    updated.\n",
    "\n",
    "- **increment:**\n",
    "\n",
    "    An update that increases the value of a variable (often by one).\n",
    "\n",
    "- **decrement:**\n",
    "\n",
    "    An update that decreases the value of a variable.\n",
    "\n",
    "- **iteration:**\n",
    "\n",
    "    Repeated execution of a set of statements using either a recursive\n",
    "    function call or a loop.\n",
    "\n",
    "- **infinite loop:**\n",
    "\n",
    "    A loop in which the terminating condition is never satisfied."
   ]
  },
  {
   "cell_type": "markdown",
   "metadata": {},
   "source": [
    "## Exercises"
   ]
  },
  {
   "cell_type": "markdown",
   "metadata": {},
   "source": [
    "### Exercise 1\n",
    "\n",
    "To test the square root algorithm in this chapter, you could compare it with ``math.sqrt``. Write a function named `test_square_root` that prints a table like this:\n",
    "\n",
    "    1.0 1.0           1.0           0.0\n",
    "    2.0 1.41421356237 1.41421356237 2.22044604925e-16\n",
    "    3.0 1.73205080757 1.73205080757 0.0\n",
    "    4.0 2.0           2.0           0.0\n",
    "    5.0 2.2360679775  2.2360679775  0.0\n",
    "    6.0 2.44948974278 2.44948974278 0.0\n",
    "    7.0 2.64575131106 2.64575131106 0.0\n",
    "    8.0 2.82842712475 2.82842712475 4.4408920985e-16\n",
    "    9.0 3.0           3.0           0.0\n",
    "\n",
    "The first column is a number, $a$; the second column is the square root of $a$ computed with your own square root function; the third column is the square root computed by ``math.sqrt``; the fourth column is the absolute value of the difference between the two estimates."
   ]
  },
  {
   "cell_type": "markdown",
   "metadata": {},
   "source": [
    "### Exercise 2\n",
    "\n",
    "The built-in function ``eval`` takes a string and evaluates it using the Python interpreter. For example:"
   ]
  },
  {
   "cell_type": "code",
   "execution_count": null,
   "metadata": {
    "collapsed": false
   },
   "outputs": [],
   "source": [
    "eval('1 + 2 * 3')"
   ]
  },
  {
   "cell_type": "code",
   "execution_count": null,
   "metadata": {
    "collapsed": false
   },
   "outputs": [],
   "source": [
    "import math\n",
    "eval('math.sqrt(5)')"
   ]
  },
  {
   "cell_type": "code",
   "execution_count": null,
   "metadata": {
    "collapsed": false
   },
   "outputs": [],
   "source": [
    "eval('type(math.pi)')"
   ]
  },
  {
   "cell_type": "markdown",
   "metadata": {},
   "source": [
    "Write a function called `eval_loop` that iteratively prompts the user, takes the resulting input and evaluates it using ``eval``, and prints the result.\n",
    "\n",
    "It should continue until the user enters `'done'`, and then return the value of the last expression it evaluated."
   ]
  },
  {
   "cell_type": "markdown",
   "metadata": {},
   "source": [
    "### Exercise 3\n",
    "\n",
    "The mathematician Srinivasa Ramanujan found an infinite series that can be used to generate a numerical approximation of $1 / \\pi$:\n",
    "\n",
    "$$\\frac{1}{\\pi} = \\frac{2\\sqrt{2}}{9801}\n",
    "\\sum^\\infty_{k=0} \\frac{(4k)!(1103+26390k)}{(k!)^4 396^{4k}}$$\n",
    "\n",
    "Write a function called `estimate_pi` that uses this formula to compute and return an estimate of $\\pi$. It should use a ``while`` loop to compute terms of the summation until the last term is smaller than ``1e-15`` (which is Python notation for $10^{-15}$). You can check the result by comparing it to ``math.pi``."
   ]
  }
 ],
 "metadata": {
  "kernelspec": {
   "display_name": "Python 2",
   "language": "python",
   "name": "python2"
  },
  "language_info": {
   "codemirror_mode": {
    "name": "ipython",
    "version": 2
   },
   "file_extension": ".py",
   "mimetype": "text/x-python",
   "name": "python",
   "nbconvert_exporter": "python",
   "pygments_lexer": "ipython2",
   "version": "2.7.10"
  }
 },
 "nbformat": 4,
 "nbformat_minor": 0
}
