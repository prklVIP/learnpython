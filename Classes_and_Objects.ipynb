{
 "cells": [
  {
   "cell_type": "markdown",
   "metadata": {},
   "source": [
    "# Classes and objects"
   ]
  },
  {
   "cell_type": "markdown",
   "metadata": {},
   "source": [
    "<a name='point'></a>\n",
    "## User-defined types\n",
    "\n",
    "We have used many of Python’s built-in types; now we are going to define a new type. As an example, we will create a type called ``Point`` that represents a point in two-dimensional space.  The ``Point`` class is defined in ``point1.py``:"
   ]
  },
  {
   "cell_type": "code",
   "execution_count": null,
   "metadata": {
    "collapsed": false
   },
   "outputs": [],
   "source": [
    "from code.point1 import *"
   ]
  },
  {
   "cell_type": "markdown",
   "metadata": {},
   "source": [
    "In mathematical notation, points are often written in parentheses with a comma separating the coordinates. For example, $(0,0)$ represents the origin, and $(x,y)$ represents the point $x$ units to the right and $y$ units up from the origin.\n",
    "\n",
    "There are several ways we might represent points in Python:\n",
    "\n",
    "-   We could store the coordinates separately in two variables,\n",
    "    ``x`` and ``y``.\n",
    "\n",
    "-   We could store the coordinates as elements in a list or tuple.\n",
    "\n",
    "-   We could create a new type to represent points as objects.\n",
    "\n",
    "Creating a new type is (a little) more complicated than the other options, but it has advantages that will be apparent soon.\n",
    "\n",
    "A user-defined type is also called a **class**. The point class definition is the line:\n",
    "\n",
    "    class Point(object):\n",
    "        \"\"\"Represents a point in 2-D space.\"\"\"\n",
    "\n",
    "This header indicates that the new class is a ``Point``, which is a kind of ``object``, which is a built-in type.\n",
    "\n",
    "The body is a docstring that explains what the class is for. You can define variables and functions inside a class definition, but we will get back to that later.\n",
    "\n",
    "Defining a class named ``Point`` creates a class object."
   ]
  },
  {
   "cell_type": "code",
   "execution_count": null,
   "metadata": {
    "collapsed": false
   },
   "outputs": [],
   "source": [
    "print Point"
   ]
  },
  {
   "cell_type": "markdown",
   "metadata": {},
   "source": [
    "Because ``Point`` is defined at the top level, its “full name” is `__main__.Point`.\n",
    "\n",
    "The class object is like a factory for creating objects. To create a Point, you call ``Point`` as if it were a function."
   ]
  },
  {
   "cell_type": "code",
   "execution_count": null,
   "metadata": {
    "collapsed": false
   },
   "outputs": [],
   "source": [
    "blank = Point()\n",
    "blank"
   ]
  },
  {
   "cell_type": "markdown",
   "metadata": {},
   "source": [
    "The return value is a reference to a Point object, which we assign to ``blank``. Creating a new object is called **instantiation**, and the object is an **instance** of the class.\n",
    "\n",
    "When you print an instance, Python tells you what class it belongs to and where it is stored in memory (the prefix ``0x`` means that the following number is in hexadecimal)."
   ]
  },
  {
   "cell_type": "markdown",
   "metadata": {},
   "source": [
    "## Attributes\n",
    "\n",
    "You can assign values to an instance using dot notation:"
   ]
  },
  {
   "cell_type": "code",
   "execution_count": null,
   "metadata": {
    "collapsed": true
   },
   "outputs": [],
   "source": [
    "blank.x = 3.0\n",
    "blank.y = 4.0"
   ]
  },
  {
   "cell_type": "markdown",
   "metadata": {},
   "source": [
    "This syntax is similar to the syntax for selecting a variable from a module, such as ``math.pi`` or ``string.whitespace``. In this case, though, we are assigning values to named elements of an object. These elements are called **attributes**.\n",
    "\n",
    "As a noun, “AT-trib-ute” is pronounced with emphasis on the first syllable, as opposed to “a-TRIB-ute,” which is a verb.\n",
    "\n",
    "The following diagram shows the result of these assignments. A state diagram that shows an object and its attributes is called an **object diagram**; see <a href='#fig.point'>Figure 1</a>\n",
    "\n",
    "<a name='fig.point'></a>\n",
    "<img src='figs/point.png'/>\n",
    "\n",
    "The variable ``blank`` refers to a Point object, which contains two attributes. Each attribute refers to a floating-point number.\n",
    "\n",
    "You can read the value of an attribute using the same syntax:"
   ]
  },
  {
   "cell_type": "code",
   "execution_count": null,
   "metadata": {
    "collapsed": false
   },
   "outputs": [],
   "source": [
    "print blank.y"
   ]
  },
  {
   "cell_type": "code",
   "execution_count": null,
   "metadata": {
    "collapsed": false
   },
   "outputs": [],
   "source": [
    "x = blank.x\n",
    "print x"
   ]
  },
  {
   "cell_type": "markdown",
   "metadata": {},
   "source": [
    "The expression ``blank.x`` means, “Go to the object ``blank`` refers to and get the value of ``x``.” In this case, we assign that value to a variable named ``x``. There is no conflict between the variable ``x`` and the attribute ``x``.\n",
    "\n",
    "You can use dot notation as part of any expression. For example:"
   ]
  },
  {
   "cell_type": "code",
   "execution_count": null,
   "metadata": {
    "collapsed": false
   },
   "outputs": [],
   "source": [
    "print '(%g, %g)' % (blank.x, blank.y)"
   ]
  },
  {
   "cell_type": "code",
   "execution_count": null,
   "metadata": {
    "collapsed": false
   },
   "outputs": [],
   "source": [
    "import math\n",
    "distance = math.sqrt(blank.x**2 + blank.y**2)\n",
    "print distance"
   ]
  },
  {
   "cell_type": "markdown",
   "metadata": {},
   "source": [
    "You can pass an instance as an argument in the usual way. For example:\n",
    "\n",
    "    def print_point(p):\n",
    "        print '(%g, %g)' % (p.x, p.y)\n",
    "\n",
    "`print_point` takes a point as an argument and displays it in mathematical notation. To invoke it, you can pass ``blank`` as an argument:"
   ]
  },
  {
   "cell_type": "code",
   "execution_count": null,
   "metadata": {
    "collapsed": false
   },
   "outputs": [],
   "source": [
    "print_point(blank)"
   ]
  },
  {
   "cell_type": "markdown",
   "metadata": {},
   "source": [
    "Inside the function, ``p`` is an alias for ``blank``, so if the function modifies ``p``, ``blank`` changes."
   ]
  },
  {
   "cell_type": "markdown",
   "metadata": {},
   "source": [
    "<div style=\"background-color: #FFF8C6; margin-left: 20px; margin-right: 20px; padding-bottom: 8px; padding-left: 8px; padding-right: 8px; padding-top: 8px;\">\n",
    "Write a function called `distance_between_points` that takes two Points as arguments and returns the distance between them.</div>"
   ]
  },
  {
   "cell_type": "markdown",
   "metadata": {},
   "source": [
    "## Rectangles\n",
    "\n",
    "Sometimes it is obvious what the attributes of an object should be, but other times you have to make decisions. For example, imagine you are designing a class to represent rectangles. What attributes would you use to specify the location and size of a rectangle? You can ignore angle; to keep things simple, assume that the rectangle is either vertical or horizontal.\n",
    "\n",
    "There are at least two possibilities:\n",
    "\n",
    "-   You could specify one corner of the rectangle (or the center), the\n",
    "    width, and the height.\n",
    "\n",
    "-   You could specify two opposing corners.\n",
    "\n",
    "At this point it is hard to say whether either is better than the other, so we’ll implement the first one, just as an example.\n",
    "\n",
    "Here is the class definition:\n",
    "\n",
    "    class Rectangle(object):\n",
    "        \"\"\"Represents a rectangle.\n",
    "\n",
    "        attributes: width, height, corner.\n",
    "        \"\"\"\n",
    "\n",
    "The docstring lists the attributes: ``width`` and ``height`` are numbers; ``corner`` is a Point object that specifies the lower-left corner.\n",
    "\n",
    "To represent a rectangle, you have to instantiate a Rectangle object and assign values to the attributes:"
   ]
  },
  {
   "cell_type": "code",
   "execution_count": null,
   "metadata": {
    "collapsed": true
   },
   "outputs": [],
   "source": [
    "box = Rectangle()\n",
    "box.width = 100.0\n",
    "box.height = 200.0\n",
    "box.corner = Point()\n",
    "box.corner.x = 0.0\n",
    "box.corner.y = 0.0"
   ]
  },
  {
   "cell_type": "markdown",
   "metadata": {},
   "source": [
    "The expression ``box.corner.x`` means, “Go to the object ``box`` refers to and select the attribute named ``corner``; then go to that object and select the attribute named ``x``.”\n",
    "\n",
    "<a name='fig.rectangle'></a>\n",
    "<img src='figs/rectangle.png'/>\n",
    "\n",
    "<a href='#fig.rectangle'>Figure 2</a> shows the state of this object. An object that is an attribute of another object is **embedded**."
   ]
  },
  {
   "cell_type": "markdown",
   "metadata": {},
   "source": [
    "## Instances as return values\n",
    "\n",
    "Functions can return instances. For example, `find_center` takes a ``Rectangle`` as an argument and returns a ``Point`` that contains the coordinates of the center of the ``Rectangle``:\n",
    "\n",
    "    def find_center(rect):\n",
    "        p = Point()\n",
    "        p.x = rect.corner.x + rect.width/2.0\n",
    "        p.y = rect.corner.y + rect.height/2.0\n",
    "        return p\n",
    "\n",
    "Here is an example that passes ``box`` as an argument and assigns the resulting Point to ``center``:"
   ]
  },
  {
   "cell_type": "code",
   "execution_count": null,
   "metadata": {
    "collapsed": false
   },
   "outputs": [],
   "source": [
    "center = find_center(box)\n",
    "print_point(center)"
   ]
  },
  {
   "cell_type": "markdown",
   "metadata": {},
   "source": [
    "## Objects are mutable\n",
    "\n",
    "You can change the state of an object by making an assignment to one of its attributes. For example, to change the size of a rectangle without changing its position, you can modify the values of ``width`` and ``height``:\n",
    "\n",
    "box.width = box.width + 50\n",
    "box.height = box.width + 100\n",
    "\n",
    "You can also write functions that modify objects. For example, `grow_rectangle` takes a Rectangle object and two numbers, ``dwidth`` and ``dheight``, and adds the numbers to the width and height of the rectangle:\n",
    "\n",
    "    def grow_rectangle(rect, dwidth, dheight):\n",
    "        rect.width += dwidth\n",
    "        rect.height += dheight\n",
    "\n",
    "Here is an example that demonstrates the effect:"
   ]
  },
  {
   "cell_type": "code",
   "execution_count": null,
   "metadata": {
    "collapsed": false
   },
   "outputs": [],
   "source": [
    "box.width"
   ]
  },
  {
   "cell_type": "code",
   "execution_count": null,
   "metadata": {
    "collapsed": false
   },
   "outputs": [],
   "source": [
    "box.height"
   ]
  },
  {
   "cell_type": "code",
   "execution_count": null,
   "metadata": {
    "collapsed": false
   },
   "outputs": [],
   "source": [
    "grow_rectangle(box, 50, 100)\n",
    "box.width"
   ]
  },
  {
   "cell_type": "code",
   "execution_count": null,
   "metadata": {
    "collapsed": false
   },
   "outputs": [],
   "source": [
    "box.height"
   ]
  },
  {
   "cell_type": "markdown",
   "metadata": {},
   "source": [
    "Inside the function, ``rect`` is an alias for ``box``, so if the function modifies ``rect``, ``box`` changes.\n",
    "\n",
    "<div style=\"background-color: #FFF8C6; margin-left: 20px; margin-right: 20px; padding-bottom: 8px; padding-left: 8px; padding-right: 8px; padding-top: 8px;\">\n",
    "Write a function named `move_rectangle` that takes a Rectangle and two numbers named ``dx`` and ``dy``. It should change the location of the rectangle by adding ``dx`` to the ``x`` coordinate of ``corner`` and adding ``dy`` to the ``y`` coordinate of ``corner``.</div>"
   ]
  },
  {
   "cell_type": "markdown",
   "metadata": {},
   "source": [
    "## Copying\n",
    "\n",
    "Aliasing can make a program difficult to read because changes in one place might have unexpected effects in another place. It is hard to keep track of all the variables that might refer to a given object.\n",
    "\n",
    "Copying an object is often an alternative to aliasing. The ``copy`` module contains a function called ``copy`` that can duplicate any object:"
   ]
  },
  {
   "cell_type": "code",
   "execution_count": null,
   "metadata": {
    "collapsed": true
   },
   "outputs": [],
   "source": [
    "p1 = Point()\n",
    "p1.x = 3.0\n",
    "p1.y = 4.0"
   ]
  },
  {
   "cell_type": "code",
   "execution_count": null,
   "metadata": {
    "collapsed": true
   },
   "outputs": [],
   "source": [
    "import copy\n",
    "p2 = copy.copy(p1)"
   ]
  },
  {
   "cell_type": "markdown",
   "metadata": {},
   "source": [
    "``p1`` and ``p2`` contain the same data, but they are not the same Point."
   ]
  },
  {
   "cell_type": "code",
   "execution_count": null,
   "metadata": {
    "collapsed": false
   },
   "outputs": [],
   "source": [
    "print_point(p1)\n",
    "print_point(p2)"
   ]
  },
  {
   "cell_type": "code",
   "execution_count": null,
   "metadata": {
    "collapsed": false
   },
   "outputs": [],
   "source": [
    "p1 is p2"
   ]
  },
  {
   "cell_type": "code",
   "execution_count": null,
   "metadata": {
    "collapsed": false
   },
   "outputs": [],
   "source": [
    "p1 == p2"
   ]
  },
  {
   "cell_type": "markdown",
   "metadata": {},
   "source": [
    "The ``is`` operator indicates that ``p1`` and ``p2`` are not the same object, which is what we expected. But you might have expected ``==`` to yield ``True`` because these points contain the same data. In that case, you will be disappointed to learn that for instances, the default behavior of the ``==`` operator is the same as the ``is`` operator; it checks object identity, not object equivalence. This behavior can be changed—we’ll see how later.\n",
    "\n",
    "If you use ``copy.copy`` to duplicate a Rectangle, you will find that it copies the Rectangle object but not the embedded Point."
   ]
  },
  {
   "cell_type": "code",
   "execution_count": null,
   "metadata": {
    "collapsed": false
   },
   "outputs": [],
   "source": [
    "box2 = copy.copy(box)\n",
    "box2 is box"
   ]
  },
  {
   "cell_type": "code",
   "execution_count": null,
   "metadata": {
    "collapsed": false
   },
   "outputs": [],
   "source": [
    "box2.corner is box.corner"
   ]
  },
  {
   "cell_type": "markdown",
   "metadata": {},
   "source": [
    "<a name='fig.rectangle2'></a>\n",
    "<img src='figs/rectangle2.png'/>\n",
    "\n",
    "<a href='#fig.rectangle2>Figure 3</a> shows what the object diagram looks like. This operation is called a **shallow copy** because it copies the object and any references it contains, but not the embedded objects.\n",
    "\n",
    "For most applications, this is not what you want. In this example, invoking `grow_rectangle` on one of the Rectangles would not affect the other, but invoking `move_rectangle` on either would affect both! This behavior is confusing and error-prone.\n",
    "\n",
    "Fortunately, the ``copy`` module contains a method named ``deepcopy`` that copies not only the object but also the objects it refers to, and the objects *they* refer to, and so on. You will not be surprised to learn that this operation is called a **deep copy**."
   ]
  },
  {
   "cell_type": "code",
   "execution_count": null,
   "metadata": {
    "collapsed": false
   },
   "outputs": [],
   "source": [
    "box3 = copy.deepcopy(box)\n",
    "box3 is box"
   ]
  },
  {
   "cell_type": "code",
   "execution_count": null,
   "metadata": {
    "collapsed": false
   },
   "outputs": [],
   "source": [
    "box3.corner is box.corner"
   ]
  },
  {
   "cell_type": "markdown",
   "metadata": {},
   "source": [
    "``box3`` and ``box`` are completely separate objects.\n",
    "\n",
    "Write a version of `move_rectangle` that creates and returns a new Rectangle instead of modifying the old one."
   ]
  },
  {
   "cell_type": "markdown",
   "metadata": {},
   "source": [
    "<a name='hasattr'></a>\n",
    "## Debugging\n",
    "\n",
    "When you start working with objects, you are likely to encounter some new exceptions. If you try to access an attribute that doesn’t exist, you get an ``AttributeError``:"
   ]
  },
  {
   "cell_type": "code",
   "execution_count": null,
   "metadata": {
    "collapsed": false
   },
   "outputs": [],
   "source": [
    "p = Point()\n",
    "print p.z"
   ]
  },
  {
   "cell_type": "markdown",
   "metadata": {},
   "source": [
    "If you are not sure what type an object is, you can ask:"
   ]
  },
  {
   "cell_type": "code",
   "execution_count": null,
   "metadata": {
    "collapsed": false
   },
   "outputs": [],
   "source": [
    "type(p)"
   ]
  },
  {
   "cell_type": "markdown",
   "metadata": {},
   "source": [
    "If you are not sure whether an object has a particular attribute, you can use the built-in function ``hasattr``:"
   ]
  },
  {
   "cell_type": "code",
   "execution_count": null,
   "metadata": {
    "collapsed": false
   },
   "outputs": [],
   "source": [
    "hasattr(p, 'x')"
   ]
  },
  {
   "cell_type": "code",
   "execution_count": null,
   "metadata": {
    "collapsed": false
   },
   "outputs": [],
   "source": [
    "hasattr(p, 'z')"
   ]
  },
  {
   "cell_type": "markdown",
   "metadata": {},
   "source": [
    "The first argument can be any object; the second argument is a *string* that contains the name of the attribute."
   ]
  },
  {
   "cell_type": "markdown",
   "metadata": {},
   "source": [
    "## Glossary\n",
    "\n",
    "- **class:**\n",
    "\n",
    "    A user-defined type. A class definition creates a new class object.\n",
    "\n",
    "- **class object:**\n",
    "\n",
    "    An object that contains information about a user-defined type. The\n",
    "    class object can be used to create instances of the type.\n",
    "\n",
    "- **instance:**\n",
    "\n",
    "    An object that belongs to a class.\n",
    "\n",
    "- **attribute:**\n",
    "\n",
    "    One of the named values associated with an object.\n",
    "\n",
    "- **embedded (object):**\n",
    "\n",
    "    An object that is stored as an attribute of another object.\n",
    "\n",
    "- **shallow copy:**\n",
    "\n",
    "    To copy the contents of an object, including any references to\n",
    "    embedded objects; implemented by the ``copy`` function in\n",
    "    the ``copy`` module.\n",
    "\n",
    "- **deep copy:**\n",
    "\n",
    "    To copy the contents of an object as well as any embedded objects,\n",
    "    and any objects embedded in them, and so on; implemented by the\n",
    "    ``deepcopy`` function in the ``copy`` module.\n",
    "\n",
    "- **object diagram:**\n",
    "\n",
    "    A diagram that shows objects, their attributes, and the values of\n",
    "    the attributes."
   ]
  }
 ],
 "metadata": {
  "kernelspec": {
   "display_name": "Python 2",
   "language": "python",
   "name": "python2"
  },
  "language_info": {
   "codemirror_mode": {
    "name": "ipython",
    "version": 2
   },
   "file_extension": ".py",
   "mimetype": "text/x-python",
   "name": "python",
   "nbconvert_exporter": "python",
   "pygments_lexer": "ipython2",
   "version": "2.7.10"
  }
 },
 "nbformat": 4,
 "nbformat_minor": 0
}
